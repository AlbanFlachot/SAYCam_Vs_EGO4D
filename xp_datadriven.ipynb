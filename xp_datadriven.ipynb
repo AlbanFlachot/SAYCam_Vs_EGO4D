{
 "cells": [
  {
   "cell_type": "code",
   "id": "initial_id",
   "metadata": {
    "collapsed": true,
    "ExecuteTime": {
     "end_time": "2025-08-12T17:34:19.870189Z",
     "start_time": "2025-08-12T17:34:19.636629Z"
    }
   },
   "source": [
    "import numpy as np\n",
    "import sklearn\n",
    "from matplotlib import pyplot as plt\n",
    "from os.path import join\n",
    "import os\n",
    "import seaborn as sns\n",
    "import lib.utils_RSA as rsa\n",
    "from lib.algos import *\n",
    "from scipy.spatial import procrustes as scipro\n"
   ],
   "outputs": [],
   "execution_count": 1
  },
  {
   "metadata": {
    "ExecuteTime": {
     "end_time": "2025-08-12T17:53:56.951516Z",
     "start_time": "2025-08-12T17:53:56.555027Z"
    }
   },
   "cell_type": "code",
   "source": [
    "dataset = 'ecoVal'\n",
    "models  = ['ego', 'saycam', 'imagenet', 'supervised', 'random', 'resnet']\n",
    "path2activations = f'/data/alban/activations_datadriven/%s_{dataset}/'\n",
    "\n",
    "imagelists = {}\n",
    "activations = {}\n",
    "for model in models:\n",
    "    with open(join(path2activations%model, 'imagepaths.txt'), 'r') as f:\n",
    "        imagelists[model] = [line.strip() for line in f.readlines()]\n",
    "    activations[model] = np.load(join(path2activations % model, 'cls_tokens.npy'))\n",
    "\n",
    "activations[model].shape"
   ],
   "id": "c3ce17a56a200a3a",
   "outputs": [
    {
     "data": {
      "text/plain": [
       "(28250, 2048)"
      ]
     },
     "execution_count": 32,
     "metadata": {},
     "output_type": "execute_result"
    }
   ],
   "execution_count": 32
  },
  {
   "metadata": {
    "ExecuteTime": {
     "end_time": "2025-08-12T17:54:03.251368Z",
     "start_time": "2025-08-12T17:54:02.888195Z"
    }
   },
   "cell_type": "code",
   "source": [
    "#### Uncomment if want to perform vector normalization.\n",
    "for i, model in enumerate(models):\n",
    "    activations[model] = ((activations[model].T)/np.linalg.norm(activations[model], axis = 1)).T\n"
   ],
   "id": "dab603f6b98f92b4",
   "outputs": [
    {
     "data": {
      "text/plain": [
       "(28250, 2048)"
      ]
     },
     "execution_count": 33,
     "metadata": {},
     "output_type": "execute_result"
    }
   ],
   "execution_count": 33
  },
  {
   "metadata": {
    "ExecuteTime": {
     "end_time": "2025-08-12T17:55:08.087035Z",
     "start_time": "2025-08-12T17:54:13.371539Z"
    }
   },
   "cell_type": "code",
   "source": [
    "#### Compute RDMs performing squared euclidean distance as a metric (to be equivalent to CKA methods, cf. Williams, 2024)\n",
    "RDMs = {}\n",
    "for i, model in enumerate(models):\n",
    "    RDMs[model] = sklearn.metrics.pairwise.euclidean_distances(activations[model], squared=True)\n"
   ],
   "id": "4c06003468266968",
   "outputs": [],
   "execution_count": 34
  },
  {
   "metadata": {
    "ExecuteTime": {
     "end_time": "2025-08-12T17:50:00.047519Z",
     "start_time": "2025-08-12T17:50:00.044388Z"
    }
   },
   "cell_type": "code",
   "source": "#### Uncomment if want to perform matrix centering (for CKA equivalence)\n",
   "id": "f6433b090cb21fae",
   "outputs": [],
   "execution_count": 20
  },
  {
   "metadata": {
    "ExecuteTime": {
     "end_time": "2025-08-12T14:30:58.908802Z",
     "start_time": "2025-08-12T14:30:58.904654Z"
    }
   },
   "cell_type": "code",
   "source": [
    "SIMs = {}\n",
    "#for model in models:\n",
    "#    SIMs[model] = {}\n",
    "#for i, model1 in enumerate(models[:-1]):\n",
    "#    for j, model2 in enumerate(models[i+1:]):\n",
    "#        SIMs[model1][model2] = list()\n",
    "#        SIMs[model1][model2].append(rsa.Compute_sim_RDMs(RDMs[model1], RDMs[model2]))\n",
    "\n"
   ],
   "id": "59f033ef194f2263",
   "outputs": [],
   "execution_count": 7
  },
  {
   "metadata": {
    "ExecuteTime": {
     "end_time": "2025-08-12T14:31:44.186440Z",
     "start_time": "2025-08-12T14:31:01.725739Z"
    }
   },
   "cell_type": "code",
   "source": [
    "### Run custom procrustes analysis\n",
    "#d, Z, T = procrustes(activations['saycam'], activations['ego'])\n",
    "### Run scipy procrustes analysis as a control\n",
    "#mtx1, mtx2, dsci = scipro(activations['saycam'], activations['ego'])\n",
    "#print([d, dsci])\n",
    "### --> Both algos agree with each other, and the disparity measures are pretty high (somewhat unexpectedly)"
   ],
   "id": "758afbcc9b3b9e55",
   "outputs": [
    {
     "name": "stdout",
     "output_type": "stream",
     "text": [
      "[np.float32(0.7038437), np.float64(0.7038432856958128)]\n"
     ]
    }
   ],
   "execution_count": 9
  },
  {
   "metadata": {
    "ExecuteTime": {
     "end_time": "2025-08-12T17:55:14.439245Z",
     "start_time": "2025-08-12T17:55:14.415249Z"
    }
   },
   "cell_type": "code",
   "source": [
    "### check if images were shown in the same order\n",
    "imagelists['ego'] == imagelists['saycam']\n",
    "imagelist = imagelists['ego'] # since they are the same, only consider one list\n",
    "\n",
    "#### check if each category has the same number of images and list all categories in listcats\n",
    "count = 0\n",
    "cat = ''\n",
    "listcat = list()\n",
    "for i, imgp in enumerate(imagelist):\n",
    "    current_cat = imgp.split('/')[7]\n",
    "    if i == 0:\n",
    "        cat = current_cat\n",
    "        listcat.append(current_cat)\n",
    "    if cat != current_cat:\n",
    "        cat = current_cat\n",
    "        listcat.append(current_cat)\n",
    "        count = 1\n",
    "    else:\n",
    "        count += 1\n",
    "\n",
    "nb_per_cat = count # in val, 50 images per cate\n",
    "\n",
    "\n",
    "#np.array(imagelist).reshape(-1, nb_per_cat)[0]"
   ],
   "id": "7b5b9f33a2d96da",
   "outputs": [],
   "execution_count": 35
  },
  {
   "metadata": {
    "ExecuteTime": {
     "end_time": "2025-08-12T18:41:27.456560Z",
     "start_time": "2025-08-12T18:41:22.811671Z"
    }
   },
   "cell_type": "code",
   "source": [
    "### Compute representational delineation for each category and model\n",
    "delineation = {}\n",
    "delineated_categories = {}\n",
    "for model in models:\n",
    "    delineation_tmp = np.zeros(len(listcat))\n",
    "    RDM = RDMs[model]\n",
    "    for c, cat in enumerate(listcat):\n",
    "        cat_RDM = RDM[c*nb_per_cat:(c+1)*nb_per_cat, c*nb_per_cat:(c+1)*nb_per_cat] # square matrix of nb_cat x nb_cat\n",
    "        noncat_RDM = np.concatenate([RDM[c*nb_per_cat:(c+1)*nb_per_cat, :c*nb_per_cat], RDM[c*nb_per_cat:(c+1)*nb_per_cat, (c+1)*nb_per_cat:]], axis =1) # Rectangular matrix of nb_cat x (n-nb_cat)\n",
    "        upper_indices = np.triu_indices(nb_per_cat, k=1)  # k=1 excludes diagonal\n",
    "        sim_withincat = cat_RDM[upper_indices].mean() # Compute similarity within the category\n",
    "        sim_withoutcat = noncat_RDM.mean() # Compute similarity without the category\n",
    "        delineation_tmp[c] = sim_withincat/sim_withoutcat\n",
    "    delineation[model] = np.sort(delineation_tmp)\n",
    "    delineated_categories[model] = np.array(listcat)[np.argsort(delineation_tmp)]\n",
    "\n",
    "\n"
   ],
   "id": "37222cb5045a2ef8",
   "outputs": [],
   "execution_count": 51
  },
  {
   "metadata": {
    "ExecuteTime": {
     "end_time": "2025-08-12T18:40:03.460297Z",
     "start_time": "2025-08-12T18:40:03.453452Z"
    }
   },
   "cell_type": "code",
   "source": [
    "import math\n",
    "def plot_stats(SIMs, submodels, labels = ['label1', 'label2']):\n",
    "    '''plot the similarities as a function of layer depth.\n",
    "    Plot is a subplot of adaptative size, depending on the length of the list submodel given.\n",
    "    '''\n",
    "    nb_subs = len(submodels) # Number of subs\n",
    "    sqrt = np.sqrt(nb_subs)\n",
    "    cols = math.ceil(sqrt)\n",
    "    rows = math.ceil(nb_subs // sqrt)\n",
    "    while (cols*rows)<(nb_subs):\n",
    "        rows =rows + 1 ## compute the number of columns and rows\n",
    "    fig, subs = plt.subplots(rows,cols, sharex=True, sharey=True, figsize=(cols*2+1, rows*2+1)) # adaptative size\n",
    "    count = 0\n",
    "    minval = 1\n",
    "    maxval = 0\n",
    "    for i, model in enumerate(submodels):\n",
    "        minval = min(minval, np.amin(SIMs[model]))\n",
    "        maxval = max(maxval, np.amax(SIMs[model]))\n",
    "        if rows ==1:\n",
    "            subs[count%cols].plot(SIMs[model])\n",
    "            subs[count%cols].set_title(f'{model}')\n",
    "        else:\n",
    "            subs[count//cols, count%cols].plot(SIMs[model])\n",
    "            subs[count//cols, count%cols].set_title(f'{model}')\n",
    "            count+=1\n",
    "    maxval = min(maxval, 1.1)\n",
    "    plt.ylim(np.round(minval,1)-0.1, np.round(maxval,1)+0.1)\n",
    "    if rows == 1:\n",
    "        subs[0].set_ylabel(labels[1])\n",
    "        for sub in subs:\n",
    "            sub.set_xlabel(labels[0])\n",
    "    else:\n",
    "        for sub in subs[-1]:\n",
    "            sub.set_xlabel(labels[0])\n",
    "        for sub in subs[:,0]:\n",
    "            sub.set_ylabel(labels[1])\n",
    "\n",
    "    fig.tight_layout()\n",
    "    plt.show()\n",
    "    plt.close()"
   ],
   "id": "f8d30349597ed5e0",
   "outputs": [],
   "execution_count": 49
  },
  {
   "metadata": {
    "ExecuteTime": {
     "end_time": "2025-08-12T18:41:31.765972Z",
     "start_time": "2025-08-12T18:41:31.003211Z"
    }
   },
   "cell_type": "code",
   "source": [
    "plot_stats(delineation, models,  ['Categories', 'Delineation'])\n",
    "for model in models:\n",
    "    print(delineated_categories[model][:20])\n",
    "for model in models:\n",
    "    print(delineated_categories[model][-20:])"
   ],
   "id": "6c3886922a76936d",
   "outputs": [
    {
     "data": {
      "text/plain": [
       "<Figure size 700x500 with 6 Axes>"
      ],
      "image/png": "[encoded data removed]"
     },
     "metadata": {},
     "output_type": "display_data"
    },
    {
     "name": "stdout",
     "output_type": "stream",
     "text": [
      "['1073_fireworks' '0156_moon' '0089_bus' '2144_newsstand' '0812_coin'\n",
      " '0005_house' '2400_geyser' '0082_kitchen' '0266_gravel' '0009_car'\n",
      " '1043_mall' '2098_odometer' '1367_sphinx' '2112_photocopier'\n",
      " '0857_waterfall' '0617_taco' '0847_jaguar' '1156_nacho' '0093_pizza'\n",
      " '1933_flashbulb']\n",
      "['0089_bus' '1073_fireworks' '1612_forklift' '2144_newsstand'\n",
      " '0082_kitchen' '0005_house' '2400_geyser' '1043_mall' '0009_car'\n",
      " '2112_photocopier' '1367_sphinx' '1515_waterspout' '0857_waterfall'\n",
      " '0156_moon' '0443_snowplow' '1933_flashbulb' '0149_truck' '2972_rainbow'\n",
      " '0508_croissant' '0265_steak']\n",
      "['0847_jaguar' '2098_odometer' '2400_geyser' '1129_zebra' '1892_panda'\n",
      " '1335_dragonfly' '0209_leopard' '2186_cheetah' '0132_tiger'\n",
      " '0764_gondola' '0443_snowplow' '1787_koala' '0517_bumblebee'\n",
      " '1673_dishrag' '0089_bus' '0857_waterfall' '0168_elephant'\n",
      " '0721_hedgehog' '0082_kitchen' '1015_hay']\n",
      "['1829_blimp' '1892_panda' '2186_cheetah' '0909_flea' '0847_jaguar'\n",
      " '2098_odometer' '1264_mantis' '1129_zebra' '0764_gondola'\n",
      " '1515_waterspout' '2400_geyser' '0659_carousel' '1461_submarine'\n",
      " '0209_leopard' '1295_scorpion' '0721_hedgehog' '1015_hay'\n",
      " '0678_hourglass' '2742_oscilloscope' '1009_skunk']\n",
      "['1073_fireworks' '0156_moon' '0047_fire' '1515_waterspout'\n",
      " '2112_photocopier' '2527_helicopter' '0488_iceberg' '2673_gearshift'\n",
      " '0353_whale' '2098_odometer' '2159_reef' '1156_nacho' '1123_scissors'\n",
      " '0471_dolphin' '1418_casino' '0393_lake' '2555_manatee' '1461_submarine'\n",
      " '0737_pumpkin' '0909_flea']\n",
      "['2144_newsstand' '0082_kitchen' '0089_bus' '1612_forklift' '1043_mall'\n",
      " '0005_house' '0857_waterfall' '0009_car' '0137_train' '1152_altar'\n",
      " '0676_stagecoach' '0443_snowplow' '2400_geyser' '0393_lake' '1617_gazebo'\n",
      " '0659_carousel' '0149_truck' '1374_canyon' '1655_steamroller'\n",
      " '0764_gondola']\n",
      "['0875_broom' '0361_bucket' '0312_dustpan' '0846_pencil' '0533_seashell'\n",
      " '1704_burner' '0511_needle' '0045_ball' '0359_shovel' '2338_bolt'\n",
      " '0740_worm' '0767_padlock' '0158_blanket' '1385_doormat' '0877_ladle'\n",
      " '0955_cane' '2002_wand' '1635_paintbrush' '0052_fish' '1470_syringe']\n",
      "['1385_doormat' '0359_shovel' '2338_bolt' '0389_ashtray' '0877_ladle'\n",
      " '1704_burner' '1475_hanger' '0553_paperclip' '0045_ball' '2651_tapioca'\n",
      " '0740_worm' '1063_knot' '2332_cogwheel' '2002_wand' '0052_fish'\n",
      " '0955_cane' '0273_horseshoe' '0767_padlock' '1470_syringe'\n",
      " '0533_seashell']\n",
      "['1899_microchip' '0052_fish' '2002_wand' '2651_tapioca' '0675_toothpick'\n",
      " '0112_bell' '1253_kazoo' '0877_ladle' '1840_tray' '1385_doormat'\n",
      " '1704_burner' '0389_ashtray' '1475_hanger' '0955_cane' '0740_worm'\n",
      " '0273_horseshoe' '1593_wire' '1026_condom' '0533_seashell' '1427_grate']\n",
      "['0224_carrot' '1241_marshmallow' '1724_okra' '2104_scallion' '0743_candy'\n",
      " '0116_flower' '0052_fish' '1164_rhubarb' '1764_spinach' '1782_parsley'\n",
      " '0020_woman' '0625_emerald' '1563_beet' '0039_dog' '1536_celery'\n",
      " '2651_tapioca' '0056_child' '0141_cookie' '0001_man' '1026_condom']\n",
      "['0389_ashtray' '0555_matchstick' '0273_horseshoe' '1264_mantis'\n",
      " '1635_paintbrush' '0740_worm' '1253_kazoo' '0675_toothpick'\n",
      " '1567_stegosaurus' '1848_gecko' '0370_glass' '0250_lamp' '2556_pinwheel'\n",
      " '0246_lantern' '0076_cup' '2268_moth' '0877_ladle' '1475_hanger'\n",
      " '1063_knot' '1470_syringe']\n",
      "['0955_cane' '0158_blanket' '0337_spider' '0174_knife' '0665_pear'\n",
      " '0282_tongs' '1470_syringe' '1076_ant' '2002_wand' '1427_grate'\n",
      " '0543_thumbtack' '2092_honeycomb' '0666_bullet' '1063_knot' '0052_fish'\n",
      " '0533_seashell' '0625_emerald' '2338_bolt' '0273_horseshoe' '0740_worm']\n"
     ]
    }
   ],
   "execution_count": 52
  },
  {
   "metadata": {
    "ExecuteTime": {
     "end_time": "2025-08-12T17:55:23.337811Z",
     "start_time": "2025-08-12T17:55:23.333752Z"
    }
   },
   "cell_type": "code",
   "source": [
    "### reshape activations according to include categories\n",
    "cat_activations = activations.copy()\n",
    "\n",
    "for model in models:\n",
    "    shape = activations[model].shape\n",
    "    cat_activations[model] = cat_activations[model].reshape(-1, nb_per_cat, shape[-1])"
   ],
   "id": "a8259fce1c6c20ae",
   "outputs": [],
   "execution_count": 37
  },
  {
   "metadata": {
    "ExecuteTime": {
     "end_time": "2025-08-12T17:56:20.598955Z",
     "start_time": "2025-08-12T17:56:19.915389Z"
    }
   },
   "cell_type": "code",
   "source": [
    "### Compute the activation variance within a category and normalize by the average variance\n",
    "sorted_stats = {}\n",
    "sorted_cats = {}\n",
    "for model in models:\n",
    "    var = np.var(cat_activations[model], axis = (0,1))\n",
    "    cat_var = np.var(cat_activations[model], axis = 1)\n",
    "    normalized_cat_var = cat_var/var\n",
    "    mean_normalized_cat_var = normalized_cat_var.mean(-1)\n",
    "    sorted_stats[model] = np.sort(mean_normalized_cat_var)\n",
    "    sorted_cats[model] = np.array(listcat)[np.argsort(mean_normalized_cat_var)]"
   ],
   "id": "363a5188b1ab62b1",
   "outputs": [],
   "execution_count": 39
  },
  {
   "metadata": {
    "ExecuteTime": {
     "end_time": "2025-08-12T17:56:25.422712Z",
     "start_time": "2025-08-12T17:56:24.885950Z"
    }
   },
   "cell_type": "code",
   "source": [
    "plot_stats(sorted_stats,models,  ['Categories', 'Normalized var'])\n",
    "for model in models:\n",
    "    print(sorted_cats[model][:20])\n",
    "for model in models:\n",
    "    print(sorted_cats[model][-20:])"
   ],
   "id": "a3efff8bc5c76ddc",
   "outputs": [
    {
     "data": {
      "text/plain": [
       "<Figure size 700x500 with 6 Axes>"
      ],
      "image/png": "[encoded data removed]"
     },
     "metadata": {},
     "output_type": "display_data"
    },
    {
     "name": "stdout",
     "output_type": "stream",
     "text": [
      "['1073_fireworks' '0089_bus' '2144_newsstand' '2400_geyser' '0005_house'\n",
      " '0617_taco' '0156_moon' '0009_car' '0082_kitchen' '1043_mall'\n",
      " '0857_waterfall' '1367_sphinx' '1156_nacho' '0812_coin' '0659_carousel'\n",
      " '0265_steak' '0847_jaguar' '0093_pizza' '0397_noodles' '0443_snowplow']\n",
      "['1612_forklift' '0089_bus' '0082_kitchen' '1073_fireworks' '1367_sphinx'\n",
      " '2400_geyser' '2144_newsstand' '0005_house' '1043_mall' '0443_snowplow'\n",
      " '0508_croissant' '1892_panda' '2112_photocopier' '0009_car'\n",
      " '0857_waterfall' '0265_steak' '0617_taco' '1933_flashbulb'\n",
      " '1655_steamroller' '0149_truck']\n",
      "['0847_jaguar' '2400_geyser' '2098_odometer' '1129_zebra' '1892_panda'\n",
      " '1335_dragonfly' '0443_snowplow' '0209_leopard' '0132_tiger' '1787_koala'\n",
      " '0764_gondola' '2186_cheetah' '0082_kitchen' '0089_bus' '0857_waterfall'\n",
      " '0517_bumblebee' '0168_elephant' '0721_hedgehog' '0617_taco'\n",
      " '2144_newsstand']\n",
      "['1829_blimp' '1892_panda' '2186_cheetah' '0909_flea' '2098_odometer'\n",
      " '0847_jaguar' '0764_gondola' '1129_zebra' '1264_mantis' '0659_carousel'\n",
      " '2400_geyser' '1515_waterspout' '1015_hay' '0678_hourglass'\n",
      " '0721_hedgehog' '1461_submarine' '0209_leopard' '1295_scorpion'\n",
      " '2742_oscilloscope' '1011_typewriter']\n",
      "['1073_fireworks' '0156_moon' '2112_photocopier' '2673_gearshift'\n",
      " '0047_fire' '0488_iceberg' '1515_waterspout' '2527_helicopter'\n",
      " '0353_whale' '1156_nacho' '1123_scissors' '2098_odometer' '0909_flea'\n",
      " '1634_earpiece' '1418_casino' '2187_salsa' '1461_submarine' '0393_lake'\n",
      " '0093_pizza' '0471_dolphin']\n",
      "['1612_forklift' '2144_newsstand' '0089_bus' '0082_kitchen'\n",
      " '0443_snowplow' '0137_train' '0676_stagecoach' '0009_car' '0226_tractor'\n",
      " '1655_steamroller' '1043_mall' '0005_house' '1617_gazebo' '0941_hammock'\n",
      " '0764_gondola' '0659_carousel' '0149_truck' '0077_ship' '0393_lake'\n",
      " '2400_geyser']\n",
      "['0666_bullet' '0215_axe' '0877_ladle' '1593_wire' '0511_needle'\n",
      " '2505_ruler' '0846_pencil' '1700_radiator' '1635_paintbrush'\n",
      " '1475_hanger' '1704_burner' '0052_fish' '0158_blanket' '0955_cane'\n",
      " '0740_worm' '2338_bolt' '1385_doormat' '1470_syringe' '1427_grate'\n",
      " '2002_wand']\n",
      "['2332_cogwheel' '2092_honeycomb' '0767_padlock' '0828_pea' '1593_wire'\n",
      " '1704_burner' '1158_fence' '1475_hanger' '1470_syringe' '0955_cane'\n",
      " '0158_blanket' '0052_fish' '0484_cranberry' '2002_wand' '0273_horseshoe'\n",
      " '0740_worm' '1063_knot' '0533_seashell' '0553_paperclip' '1427_grate']\n",
      "['2712_drain' '0158_blanket' '0118_snake' '2377_shield' '0038_book'\n",
      " '0675_toothpick' '0482_thermometer' '1475_hanger' '1700_radiator'\n",
      " '0555_matchstick' '0052_fish' '1385_doormat' '0273_horseshoe'\n",
      " '1704_burner' '1158_fence' '0533_seashell' '1593_wire' '1899_microchip'\n",
      " '0740_worm' '1427_grate']\n",
      "['2104_scallion' '0224_carrot' '1241_marshmallow' '0743_candy' '1003_nest'\n",
      " '1782_parsley' '0625_emerald' '1764_spinach' '1164_rhubarb' '0116_flower'\n",
      " '1563_beet' '1536_celery' '0052_fish' '0020_woman' '2651_tapioca'\n",
      " '0039_dog' '0141_cookie' '0056_child' '0001_man' '1026_condom']\n",
      "['0045_ball' '0158_blanket' '0555_matchstick' '1475_hanger' '1745_earwig'\n",
      " '0076_cup' '1346_beetle' '0116_flower' '0994_hare' '0273_horseshoe'\n",
      " '0085_bird' '0740_worm' '1185_tadpole' '1264_mantis' '0337_spider'\n",
      " '0511_needle' '1076_ant' '0118_snake' '1470_syringe' '1063_knot']\n",
      "['0052_fish' '2338_bolt' '1076_ant' '1041_kumquat' '0273_horseshoe'\n",
      " '0543_thumbtack' '0282_tongs' '0718_cumin' '0337_spider' '2460_macadamia'\n",
      " '0743_candy' '1063_knot' '2929_hazelnut' '0435_apricot' '0666_bullet'\n",
      " '0484_cranberry' '0740_worm' '2829_winterberry' '2092_honeycomb'\n",
      " '1427_grate']\n"
     ]
    }
   ],
   "execution_count": 41
  },
  {
   "metadata": {
    "ExecuteTime": {
     "end_time": "2025-08-12T14:37:12.269220Z",
     "start_time": "2025-08-12T14:37:12.213103Z"
    }
   },
   "cell_type": "code",
   "source": [
    "def check_list_similarity(list1, list2):\n",
    "    '''Checks if two lists contain the same elements, regardless of order,\n",
    "    and calculates the proportion of common elements.'''\n",
    "    set1 = set(list1)\n",
    "    set2 = set(list2)\n",
    "    common_elements = set1 & set2  # Intersection of sets\n",
    "    proportion = (len(common_elements) / max(len(set1), len(set2))) * 100 if max(len(set1), len(set2)) > 0 else 0\n",
    "    return proportion\n",
    "\n",
    "print('\\nSimilarities saycam and the others')\n",
    "for model in models[:]:\n",
    "    print(check_list_similarity(sorted_cats['saycam'][:50],sorted_cats[model][:50]))\n",
    "\n",
    "print('\\nSimilarities ego and the others')\n",
    "for model in models[:]:\n",
    "    print(check_list_similarity(sorted_cats['ego'][:50],sorted_cats[model][:50]))\n",
    "\n",
    "print('\\nSimilarities imagenet and the others')\n",
    "for model in models[:]:\n",
    "    print(check_list_similarity(sorted_cats['imagenet'][:50],sorted_cats[model][:50]))\n",
    "\n",
    "print('\\nSimilarities supervised and the others')\n",
    "for model in models[:]:\n",
    "    print(check_list_similarity(sorted_cats['supervised'][:50],sorted_cats[model][:50]))\n",
    "\n",
    "print('\\nSimilarities resnet and the others')\n",
    "for model in models[:]:\n",
    "    print(check_list_similarity(sorted_cats['resnet'][:50],sorted_cats[model][:50]))"
   ],
   "id": "f3866c57d9816395",
   "outputs": [
    {
     "name": "stdout",
     "output_type": "stream",
     "text": [
      "\n",
      "Similarities saycam and the others\n",
      "52.0\n",
      "100.0\n",
      "50.0\n",
      "26.0\n",
      "32.0\n",
      "38.0\n",
      "\n",
      "Similarities ego and the others\n",
      "100.0\n",
      "52.0\n",
      "57.99999999999999\n",
      "30.0\n",
      "30.0\n",
      "32.0\n",
      "\n",
      "Similarities imagenet and the others\n",
      "57.99999999999999\n",
      "50.0\n",
      "100.0\n",
      "34.0\n",
      "34.0\n",
      "30.0\n",
      "\n",
      "Similarities supervised and the others\n",
      "30.0\n",
      "26.0\n",
      "34.0\n",
      "100.0\n",
      "22.0\n",
      "28.000000000000004\n",
      "\n",
      "Similarities resnet and the others\n",
      "32.0\n",
      "38.0\n",
      "30.0\n",
      "28.000000000000004\n",
      "32.0\n",
      "100.0\n"
     ]
    }
   ],
   "execution_count": 23
  },
  {
   "metadata": {
    "ExecuteTime": {
     "end_time": "2025-08-11T16:31:29.828727Z",
     "start_time": "2025-08-11T16:31:27.801946Z"
    }
   },
   "cell_type": "code",
   "source": [
    "### Compute 500 random sequence for significance\n",
    "# initialize sequences\n",
    "nb_trials = 500\n",
    "idx_vec = np.array(range(len(listcat)))\n",
    "mat_vec = np.zeros((nb_trials, len(idx_vec)))\n",
    "for i in range(nb_trials):\n",
    "    np.random.shuffle(idx_vec)\n",
    "    mat_vec[i] = idx_vec\n",
    "\n",
    "#Compute all possible similarity pairs\n",
    "list_sim = []\n",
    "for i in range(len(mat_vec)-1):\n",
    "    for j in range(i+1,len(mat_vec)):\n",
    "        list_sim.append(check_list_similarity(list(mat_vec[i][:50]), list(mat_vec[j][:50])))\n",
    "\n",
    "# Compute 95 percentile\n",
    "confinter = np.percentile(list_sim, 95)\n",
    "print(f'The 95% confidence interval is:{confinter}')"
   ],
   "id": "a208ff875881a959",
   "outputs": [
    {
     "name": "stdout",
     "output_type": "stream",
     "text": [
      "The 95% confidence interval is:16.0\n"
     ]
    }
   ],
   "execution_count": 76
  },
  {
   "metadata": {
    "ExecuteTime": {
     "end_time": "2025-08-12T14:37:48.281501Z",
     "start_time": "2025-08-12T14:37:48.204883Z"
    }
   },
   "cell_type": "code",
   "source": [
    "### Compute the 10 categories that lead to the highest difference between models\n",
    "nb_categories = cat_activations[models[0]].shape[0]\n",
    "ori_cat = np.arange(0,nb_categories)\n",
    "comp_cat = np.zeros(nb_categories)\n",
    "for c, cat in enumerate(sorted_cats['saycam']):\n",
    "    comp_cat[c] = sorted_cats['ego'].tolist().index(cat)\n",
    "\n",
    "\n",
    "diff = np.absolute(comp_cat - ori_cat)\n",
    "maxdiffcats = np.array(listcat)[np.argsort(-diff)]\n",
    "maxdiffs = np.sort(diff)[::-1]\n",
    "print(f'The categories leading to the max differences between ego and saycam are {maxdiffcats[:10]}')\n",
    "print(f'Labels are {np.argsort(-diff)[:10]}')\n",
    "print(f'With differences in ranking of  {maxdiffs[:10]}')\n",
    "\n"
   ],
   "id": "ca507154b6d8ba90",
   "outputs": [
    {
     "name": "stdout",
     "output_type": "stream",
     "text": [
      "The categories leading to the max differences between ego and saycam are ['1989_joystick' '2002_wand' '1602_chandelier' '0464_lime' '2159_reef'\n",
      " '2720_artichoke' '1707_llama' '2555_manatee' '2364_robot'\n",
      " '1649_strongbox']\n",
      "Labels are [483 485 431 168 500 548 450 534 521 440]\n",
      "With differences in ranking of  [430. 388. 365. 362. 356. 348. 329. 309. 304. 300.]\n"
     ]
    }
   ],
   "execution_count": 25
  },
  {
   "metadata": {
    "ExecuteTime": {
     "end_time": "2025-08-11T17:14:31.112573Z",
     "start_time": "2025-08-11T17:14:31.087428Z"
    }
   },
   "cell_type": "code",
   "source": "ori_cat",
   "id": "134c198565003e",
   "outputs": [
    {
     "data": {
      "text/plain": [
       "array([  0,   1,   2,   3,   4,   5,   6,   7,   8,   9,  10,  11,  12,\n",
       "        13,  14,  15,  16,  17,  18,  19,  20,  21,  22,  23,  24,  25,\n",
       "        26,  27,  28,  29,  30,  31,  32,  33,  34,  35,  36,  37,  38,\n",
       "        39,  40,  41,  42,  43,  44,  45,  46,  47,  48,  49,  50,  51,\n",
       "        52,  53,  54,  55,  56,  57,  58,  59,  60,  61,  62,  63,  64,\n",
       "        65,  66,  67,  68,  69,  70,  71,  72,  73,  74,  75,  76,  77,\n",
       "        78,  79,  80,  81,  82,  83,  84,  85,  86,  87,  88,  89,  90,\n",
       "        91,  92,  93,  94,  95,  96,  97,  98,  99, 100, 101, 102, 103,\n",
       "       104, 105, 106, 107, 108, 109, 110, 111, 112, 113, 114, 115, 116,\n",
       "       117, 118, 119, 120, 121, 122, 123, 124, 125, 126, 127, 128, 129,\n",
       "       130, 131, 132, 133, 134, 135, 136, 137, 138, 139, 140, 141, 142,\n",
       "       143, 144, 145, 146, 147, 148, 149, 150, 151, 152, 153, 154, 155,\n",
       "       156, 157, 158, 159, 160, 161, 162, 163, 164, 165, 166, 167, 168,\n",
       "       169, 170, 171, 172, 173, 174, 175, 176, 177, 178, 179, 180, 181,\n",
       "       182, 183, 184, 185, 186, 187, 188, 189, 190, 191, 192, 193, 194,\n",
       "       195, 196, 197, 198, 199, 200, 201, 202, 203, 204, 205, 206, 207,\n",
       "       208, 209, 210, 211, 212, 213, 214, 215, 216, 217, 218, 219, 220,\n",
       "       221, 222, 223, 224, 225, 226, 227, 228, 229, 230, 231, 232, 233,\n",
       "       234, 235, 236, 237, 238, 239, 240, 241, 242, 243, 244, 245, 246,\n",
       "       247, 248, 249, 250, 251, 252, 253, 254, 255, 256, 257, 258, 259,\n",
       "       260, 261, 262, 263, 264, 265, 266, 267, 268, 269, 270, 271, 272,\n",
       "       273, 274, 275, 276, 277, 278, 279, 280, 281, 282, 283, 284, 285,\n",
       "       286, 287, 288, 289, 290, 291, 292, 293, 294, 295, 296, 297, 298,\n",
       "       299, 300, 301, 302, 303, 304, 305, 306, 307, 308, 309, 310, 311,\n",
       "       312, 313, 314, 315, 316, 317, 318, 319, 320, 321, 322, 323, 324,\n",
       "       325, 326, 327, 328, 329, 330, 331, 332, 333, 334, 335, 336, 337,\n",
       "       338, 339, 340, 341, 342, 343, 344, 345, 346, 347, 348, 349, 350,\n",
       "       351, 352, 353, 354, 355, 356, 357, 358, 359, 360, 361, 362, 363,\n",
       "       364, 365, 366, 367, 368, 369, 370, 371, 372, 373, 374, 375, 376,\n",
       "       377, 378, 379, 380, 381, 382, 383, 384, 385, 386, 387, 388, 389,\n",
       "       390, 391, 392, 393, 394, 395, 396, 397, 398, 399, 400, 401, 402,\n",
       "       403, 404, 405, 406, 407, 408, 409, 410, 411, 412, 413, 414, 415,\n",
       "       416, 417, 418, 419, 420, 421, 422, 423, 424, 425, 426, 427, 428,\n",
       "       429, 430, 431, 432, 433, 434, 435, 436, 437, 438, 439, 440, 441,\n",
       "       442, 443, 444, 445, 446, 447, 448, 449, 450, 451, 452, 453, 454,\n",
       "       455, 456, 457, 458, 459, 460, 461, 462, 463, 464, 465, 466, 467,\n",
       "       468, 469, 470, 471, 472, 473, 474, 475, 476, 477, 478, 479, 480,\n",
       "       481, 482, 483, 484, 485, 486, 487, 488, 489, 490, 491, 492, 493,\n",
       "       494, 495, 496, 497, 498, 499, 500, 501, 502, 503, 504, 505, 506,\n",
       "       507, 508, 509, 510, 511, 512, 513, 514, 515, 516, 517, 518, 519,\n",
       "       520, 521, 522, 523, 524, 525, 526, 527, 528, 529, 530, 531, 532,\n",
       "       533, 534, 535, 536, 537, 538, 539, 540, 541, 542, 543, 544, 545,\n",
       "       546, 547, 548, 549, 550, 551, 552, 553, 554, 555, 556, 557, 558,\n",
       "       559, 560, 561, 562, 563, 564, 565, 566, 567, 568, 569, 570, 571,\n",
       "       572, 573, 574, 575, 576, 577, 578, 579, 580, 581, 582, 583, 584,\n",
       "       585, 586, 587, 588, 589, 590, 591, 592, 593, 594, 595, 596, 597,\n",
       "       598, 599, 600, 601, 602, 603, 604, 605, 606, 607, 608, 609, 610,\n",
       "       611, 612, 613, 614, 615, 616, 617, 618, 619, 620, 621, 622, 623,\n",
       "       624, 625, 626, 627, 628, 629, 630, 631, 632, 633, 634, 635, 636,\n",
       "       637, 638, 639, 640, 641, 642, 643, 644, 645, 646, 647, 648, 649,\n",
       "       650, 651, 652, 653, 654, 655, 656, 657, 658, 659, 660, 661, 662,\n",
       "       663, 664, 665, 666, 667, 668, 669, 670, 671, 672, 673, 674, 675,\n",
       "       676, 677, 678, 679, 680, 681, 682, 683, 684, 685, 686, 687, 688,\n",
       "       689, 690, 691, 692, 693, 694, 695, 696, 697, 698, 699, 700, 701,\n",
       "       702, 703, 704, 705, 706, 707, 708, 709, 710, 711, 712, 713, 714,\n",
       "       715, 716, 717, 718, 719, 720, 721, 722, 723, 724, 725, 726, 727,\n",
       "       728, 729, 730, 731, 732, 733, 734, 735, 736, 737, 738, 739, 740,\n",
       "       741, 742, 743, 744, 745, 746, 747, 748, 749, 750, 751, 752, 753,\n",
       "       754, 755, 756, 757, 758, 759, 760, 761, 762, 763, 764, 765, 766,\n",
       "       767])"
      ]
     },
     "execution_count": 86,
     "metadata": {},
     "output_type": "execute_result"
    }
   ],
   "execution_count": 86
  }
 ],
 "metadata": {
  "kernelspec": {
   "display_name": "Python 3",
   "language": "python",
   "name": "python3"
  },
  "language_info": {
   "codemirror_mode": {
    "name": "ipython",
    "version": 2
   },
   "file_extension": ".py",
   "mimetype": "text/x-python",
   "name": "python",
   "nbconvert_exporter": "python",
   "pygments_lexer": "ipython2",
   "version": "2.7.6"
  }
 },
 "nbformat": 4,
 "nbformat_minor": 5
}
