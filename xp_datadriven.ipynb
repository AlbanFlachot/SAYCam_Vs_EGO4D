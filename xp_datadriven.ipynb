{
 "cells": [
  {
   "metadata": {},
   "cell_type": "markdown",
   "source": [
    "# Script that explores a method to look of a subset of images maximizing the representational dissimilarity (in terms of RSA) between several models.\n",
    "\n",
    "### AIM:\n",
    "We would like to select 50 images that maximizes the representational dissimilarity between 2 models, say the ViT14 trained on SAYCam VS EGO4D. In this case, representational dissimilarity is the dissimilarity between the RDMs of the 2 models for the given 50 images. We also would like these images to be visually/semantically interpretable (i.e. we are not interested in just noise). We start from 2 medium-size datasets with a semantically wide variety of categories - the validation sets of ImageNet and EcoSet. They include 1000 and 565 different categories respectively, with 50 different images within each category, for a total of 50000 and 28250 images.\n",
    "\n",
    "### CHALLENGE:\n",
    "It is computationally unthinkable to look at every possible combinations of 50 images within the 25K+ images - they follow a binomial distribution. Instead, we need a different, more creative approach.\n",
    "\n",
    "### IDEA:\n",
    "Presumably, the set of 50 images should be such that, when model A finds some images very similar model B should find them very dissimilar, and vice-versa.\n",
    "Presumably again, images that one model may find very similar are likely within the same category (at least when it comes to the last layers of the models). We could thus find the image categories for which modelA has a stable representation (images within the category lead to similar representations) while modelB has an unstable representation.\n",
    "\n",
    "We introduce the concept of *representational compactness*. The representational compactness of a concept determines how well a concept is represented disctinctly from other in the latent space of a model. We will say that **car** is well delineated when car images are represented similarly with respect to other images i.e the vectors of activations for car images form a cluster in latent space.\n"
   ],
   "id": "6e00ed086884554d"
  },
  {
   "metadata": {
    "ExecuteTime": {
     "end_time": "2025-08-27T13:33:44.675529Z",
     "start_time": "2025-08-27T13:33:40.850779Z"
    }
   },
   "cell_type": "code",
   "source": [
    "import importlib\n",
    "import numpy as np\n",
    "import sklearn\n",
    "from matplotlib import pyplot as plt\n",
    "from os.path import join\n",
    "import os\n",
    "import seaborn as sns\n",
    "from torchvision.ops.misc import interpolate\n",
    "from tqdm.notebook import tqdm as tqdm_notebook\n",
    "\n",
    "#### Custum libraries\n",
    "import lib.algos_maxRSA as max_rsa\n",
    "import lib.utils_RSA as rsa\n",
    "from lib.algos import *\n",
    "from scipy.spatial import procrustes as scipro\n",
    "\n",
    "from lib.algos_maxRSA import find_max_dissimilarity_images\n",
    "\n",
    "importlib.reload(rsa)\n",
    "importlib.reload(max_rsa)"
   ],
   "id": "74923df958d596e0",
   "outputs": [
    {
     "data": {
      "text/plain": [
       "<module 'lib.algos_maxRSA' from '/home/alban/projects/SAYCam_Vs_EGO4D/lib/algos_maxRSA.py'>"
      ]
     },
     "execution_count": 1,
     "metadata": {},
     "output_type": "execute_result"
    }
   ],
   "execution_count": 1
  },
  {
   "metadata": {
    "ExecuteTime": {
     "end_time": "2025-08-27T13:33:44.936038Z",
     "start_time": "2025-08-27T13:33:44.758777Z"
    }
   },
   "cell_type": "code",
   "source": [
    "dataset = 'ecoVal'\n",
    "#models  = ['ego', 'saycam', 'imagenet', 'supervised', 'random', 'resnet']\n",
    "models  = ['ego', 'saycam']\n",
    "path2activations = f'/home/alban/Documents/activations_datadriven/%s_{dataset}/'\n",
    "\n",
    "imagelists = {}\n",
    "activations = {}\n",
    "for model in models:\n",
    "    with open(join(path2activations%model, 'imagepaths.txt'), 'r') as f:\n",
    "        imagelists[model] = [line.strip() for line in f.readlines()]\n",
    "    activations[model] = np.load(join(path2activations % model, 'cls_tokens.npy'))\n",
    "\n",
    "activations[model].shape"
   ],
   "id": "c3ce17a56a200a3a",
   "outputs": [
    {
     "data": {
      "text/plain": [
       "(28250, 768)"
      ]
     },
     "execution_count": 2,
     "metadata": {},
     "output_type": "execute_result"
    }
   ],
   "execution_count": 2
  },
  {
   "metadata": {
    "ExecuteTime": {
     "end_time": "2025-08-27T13:34:06.979664Z",
     "start_time": "2025-08-27T13:33:45.010742Z"
    }
   },
   "cell_type": "code",
   "source": [
    "#### Compute RDMs performing squared euclidean distance as a metric (to be equivalent to CKA methods, cf. Williams, 2024)\n",
    "RDMs = {}\n",
    "\n",
    "metric = 'L2squared_normalize'\n",
    "for i, model in enumerate(models):\n",
    "    print(model)\n",
    "    RDMs[model] = rsa.compute_RDMs(activations[model], metric = metric, display = False, title = f'{model}_{metric}')\n",
    "\n"
   ],
   "id": "4c06003468266968",
   "outputs": [
    {
     "name": "stdout",
     "output_type": "stream",
     "text": [
      "ego\n",
      "saycam\n"
     ]
    }
   ],
   "execution_count": 3
  },
  {
   "metadata": {
    "ExecuteTime": {
     "end_time": "2025-08-27T13:34:07.154188Z",
     "start_time": "2025-08-27T13:34:07.144746Z"
    }
   },
   "cell_type": "code",
   "source": "RDMs[model].shape",
   "id": "f6433b090cb21fae",
   "outputs": [
    {
     "data": {
      "text/plain": [
       "(28250, 28250)"
      ]
     },
     "execution_count": 4,
     "metadata": {},
     "output_type": "execute_result"
    }
   ],
   "execution_count": 4
  },
  {
   "metadata": {
    "ExecuteTime": {
     "end_time": "2025-08-27T13:34:07.422042Z",
     "start_time": "2025-08-27T13:34:07.416973Z"
    }
   },
   "cell_type": "code",
   "source": [
    "### Compute similarities between models and metrics.\n",
    "sim_metric = 'pearson'\n",
    "\n",
    "'''SIMs = {} # save all similarity values in a dictionary\n",
    "\n",
    "SIMs_saycam_ego = rsa.Compute_sim_RDMs(RDMs['saycam'], RDMs['ego'], center = False, metric = sim_metric)\n",
    "\n",
    "for i, model1 in enumerate(models[:-1]):\n",
    "    SIMs[model1] = {}\n",
    "    for j, model2 in enumerate(models[i+1:]):\n",
    "        SIMs[model1][model2] = float(np.round(rsa.Compute_sim_RDMs(RDMs[model1], RDMs[model2], center = True, metric = sim_metric), 3))'''\n",
    "SIMs_saycam_ego = np.float64(0.6297048936065802) # already computed"
   ],
   "id": "758afbcc9b3b9e55",
   "outputs": [],
   "execution_count": 5
  },
  {
   "metadata": {
    "ExecuteTime": {
     "end_time": "2025-08-27T13:34:07.574112Z",
     "start_time": "2025-08-27T13:34:07.545401Z"
    }
   },
   "cell_type": "code",
   "source": [
    "### check if images were shown in the same order\n",
    "assert imagelists['ego'] == imagelists['saycam']\n",
    "imagelist = imagelists['ego'] # since they are the same, only consider one list\n",
    "\n",
    "#### check if each category has the same number of images and list all categories in listcats\n",
    "count = 0\n",
    "cat = ''\n",
    "listcat = list()\n",
    "for i, imgp in enumerate(imagelist):\n",
    "    current_cat = imgp.split('/')[-2]\n",
    "    if i == 0:\n",
    "        cat = current_cat\n",
    "        listcat.append(current_cat)\n",
    "    if cat != current_cat:\n",
    "        cat = current_cat\n",
    "        listcat.append(current_cat)\n",
    "        count = 1\n",
    "    else:\n",
    "        count += 1\n",
    "\n",
    "nb_per_cat = count # in val, 50 images per cate\n",
    "\n",
    "\n",
    "#np.array(imagelist).reshape(-1, nb_per_cat)[0]"
   ],
   "id": "7b5b9f33a2d96da",
   "outputs": [],
   "execution_count": 6
  },
  {
   "metadata": {
    "ExecuteTime": {
     "end_time": "2025-08-27T13:34:07.624226Z",
     "start_time": "2025-08-27T13:34:07.618856Z"
    }
   },
   "cell_type": "code",
   "source": "nb_per_cat",
   "id": "459bc8722f21a150",
   "outputs": [
    {
     "data": {
      "text/plain": [
       "50"
      ]
     },
     "execution_count": 7,
     "metadata": {},
     "output_type": "execute_result"
    }
   ],
   "execution_count": 7
  },
  {
   "metadata": {},
   "cell_type": "markdown",
   "source": "We introduce here the concept of *representational compactness* - *representational compactness* measures how much a given concept (e.g objet category) is well defined in a laten space relative to other concepts. More precisely, if a concept (say a car) is compact, then the latent representations images of the same concept (e.g. images of cars) are very similar (i.e. similar vecotrs of representations) relative to other concepts (e.g. bananas or house).",
   "id": "afd15746e80cfd51"
  },
  {
   "metadata": {
    "ExecuteTime": {
     "end_time": "2025-08-27T13:34:09.961882Z",
     "start_time": "2025-08-27T13:34:07.813032Z"
    }
   },
   "cell_type": "code",
   "source": [
    "### Compute representational compactness for each category and model\n",
    "compactness = {}\n",
    "compact_categories = {}\n",
    "for model in models:\n",
    "    print(model)\n",
    "    compactness_tmp = np.zeros(len(listcat))\n",
    "    RDM = RDMs[model]\n",
    "    for c, cat in enumerate(listcat):\n",
    "        cat_RDM = RDM[c*nb_per_cat:(c+1)*nb_per_cat, c*nb_per_cat:(c+1)*nb_per_cat] # square matrix of nb_cat x nb_cat\n",
    "        noncat_RDM = np.concatenate([RDM[c*nb_per_cat:(c+1)*nb_per_cat, :c*nb_per_cat], RDM[c*nb_per_cat:(c+1)*nb_per_cat, (c+1)*nb_per_cat:]], axis =1) # Rectangular matrix of nb_cat x (n-nb_cat)\n",
    "        upper_indices = np.triu_indices(nb_per_cat, k=1)  # k=1 excludes diagonal\n",
    "        sim_withincat = np.mean(cat_RDM[upper_indices]) # Compute similarity within the category\n",
    "        sim_withoutcat = np.mean(noncat_RDM) # Compute similarity with other categories\n",
    "        compactness_tmp[c] = sim_withincat/sim_withoutcat # compactness is the ratio between within similarity and without similarity\n",
    "    compactness[model] = np.sort(compactness_tmp)\n",
    "    compact_categories[model] = np.array(listcat)[np.argsort(compactness_tmp)]\n",
    "\n",
    "\n"
   ],
   "id": "37222cb5045a2ef8",
   "outputs": [
    {
     "name": "stdout",
     "output_type": "stream",
     "text": [
      "ego\n",
      "saycam\n"
     ]
    }
   ],
   "execution_count": 8
  },
  {
   "metadata": {
    "ExecuteTime": {
     "end_time": "2025-08-27T13:34:10.057168Z",
     "start_time": "2025-08-27T13:34:10.052765Z"
    }
   },
   "cell_type": "code",
   "source": "",
   "id": "f8d30349597ed5e0",
   "outputs": [],
   "execution_count": null
  },
  {
   "metadata": {
    "ExecuteTime": {
     "end_time": "2025-08-27T13:34:10.410390Z",
     "start_time": "2025-08-27T13:34:10.138823Z"
    }
   },
   "cell_type": "code",
   "source": [
    "max_rsa.plot_stats(compactness, models,  ['Categories', 'compactness'])\n",
    "for model in models:\n",
    "    print(f'{model}')\n",
    "    print(compact_categories[model][:20])\n",
    "for model in models:\n",
    "    print(f'{model}')\n",
    "    print(compact_categories[model][-20:])"
   ],
   "id": "6c3886922a76936d",
   "outputs": [
    {
     "data": {
      "text/plain": [
       "<Figure size 500x300 with 2 Axes>"
      ],
      "image/png": "[encoded data removed]"
     },
     "metadata": {},
     "output_type": "display_data"
    },
    {
     "name": "stdout",
     "output_type": "stream",
     "text": [
      "ego\n",
      "['1073_fireworks' '0156_moon' '0089_bus' '2144_newsstand' '0812_coin'\n",
      " '0005_house' '2400_geyser' '0082_kitchen' '0266_gravel' '0009_car'\n",
      " '1043_mall' '2098_odometer' '1367_sphinx' '2112_photocopier'\n",
      " '0857_waterfall' '0617_taco' '0847_jaguar' '1156_nacho' '0093_pizza'\n",
      " '1933_flashbulb']\n",
      "saycam\n",
      "['0089_bus' '1073_fireworks' '1612_forklift' '2144_newsstand'\n",
      " '0082_kitchen' '0005_house' '2400_geyser' '1043_mall' '0009_car'\n",
      " '2112_photocopier' '1367_sphinx' '1515_waterspout' '0857_waterfall'\n",
      " '0156_moon' '0443_snowplow' '1933_flashbulb' '0149_truck' '2972_rainbow'\n",
      " '0508_croissant' '0265_steak']\n",
      "ego\n",
      "['0875_broom' '0361_bucket' '0312_dustpan' '0846_pencil' '0533_seashell'\n",
      " '1704_burner' '0511_needle' '0045_ball' '0359_shovel' '2338_bolt'\n",
      " '0740_worm' '0767_padlock' '0158_blanket' '1385_doormat' '0877_ladle'\n",
      " '0955_cane' '2002_wand' '1635_paintbrush' '0052_fish' '1470_syringe']\n",
      "saycam\n",
      "['1385_doormat' '0359_shovel' '2338_bolt' '0389_ashtray' '0877_ladle'\n",
      " '1704_burner' '1475_hanger' '0553_paperclip' '0045_ball' '2651_tapioca'\n",
      " '0740_worm' '1063_knot' '2332_cogwheel' '2002_wand' '0052_fish'\n",
      " '0955_cane' '0273_horseshoe' '0767_padlock' '1470_syringe'\n",
      " '0533_seashell']\n"
     ]
    }
   ],
   "execution_count": 9
  },
  {
   "metadata": {
    "ExecuteTime": {
     "end_time": "2025-08-27T13:34:10.506352Z",
     "start_time": "2025-08-27T13:34:10.489158Z"
    }
   },
   "cell_type": "code",
   "source": [
    "def check_list_similarity(list1, list2):\n",
    "    '''Checks if two lists contain the same elements, regardless of order,\n",
    "    and calculates the proportion of common elements.'''\n",
    "    set1 = set(list1)\n",
    "    set2 = set(list2)\n",
    "    common_elements = set1 & set2  # Intersection of sets\n",
    "    proportion = (len(common_elements) / max(len(set1), len(set2))) * 100 if max(len(set1), len(set2)) > 0 else 0\n",
    "    return proportion\n",
    "\n",
    "print('\\nSimilarities saycam and the others')\n",
    "for model in models[:]:\n",
    "    print(check_list_similarity(compact_categories['saycam'][:50],compact_categories[model][:50]))\n",
    "\n",
    "print('\\nSimilarities ego and the others')\n",
    "for model in models[:]:\n",
    "    print(check_list_similarity(compact_categories['ego'][:50],compact_categories[model][:50]))\n",
    "'''\n",
    "print('\\nSimilarities imagenet and the others')\n",
    "for model in models[:]:\n",
    "    print(check_list_similarity(compact_categories['imagenet'][:50],compact_categories[model][:50]))\n",
    "\n",
    "print('\\nSimilarities supervised and the others')\n",
    "for model in models[:]:\n",
    "    print(check_list_similarity(compact_categories['supervised'][:50],compact_categories[model][:50]))\n",
    "\n",
    "print('\\nSimilarities resnet and the others')\n",
    "for model in models[:]:\n",
    "    print(check_list_similarity(compact_categories['resnet'][:50],compact_categories[model][:50]))'''"
   ],
   "id": "690070a0b9762aa7",
   "outputs": [
    {
     "name": "stdout",
     "output_type": "stream",
     "text": [
      "\n",
      "Similarities saycam and the others\n",
      "82.0\n",
      "100.0\n",
      "\n",
      "Similarities ego and the others\n",
      "100.0\n",
      "82.0\n"
     ]
    },
    {
     "data": {
      "text/plain": [
       "\"\\nprint('\\nSimilarities imagenet and the others')\\nfor model in models[:]:\\n    print(check_list_similarity(compact_categories['imagenet'][:50],compact_categories[model][:50]))\\n\\nprint('\\nSimilarities supervised and the others')\\nfor model in models[:]:\\n    print(check_list_similarity(compact_categories['supervised'][:50],compact_categories[model][:50]))\\n\\nprint('\\nSimilarities resnet and the others')\\nfor model in models[:]:\\n    print(check_list_similarity(compact_categories['resnet'][:50],compact_categories[model][:50]))\""
      ]
     },
     "execution_count": 10,
     "metadata": {},
     "output_type": "execute_result"
    }
   ],
   "execution_count": 10
  },
  {
   "metadata": {
    "ExecuteTime": {
     "end_time": "2025-08-27T13:34:12.156458Z",
     "start_time": "2025-08-27T13:34:10.667926Z"
    }
   },
   "cell_type": "code",
   "source": [
    "### Compute 500 random sequence for significance\n",
    "# initialize sequences\n",
    "nb_trials = 500\n",
    "idx_vec = np.array(range(len(listcat)))\n",
    "mat_vec = np.zeros((nb_trials, len(idx_vec)))\n",
    "for i in range(nb_trials):\n",
    "    np.random.shuffle(idx_vec)\n",
    "    mat_vec[i] = idx_vec\n",
    "\n",
    "#Compute all possible similarity pairs\n",
    "list_sim = []\n",
    "for i in range(len(mat_vec)-1):\n",
    "    for j in range(i+1,len(mat_vec)):\n",
    "        list_sim.append(check_list_similarity(list(mat_vec[i][:50]), list(mat_vec[j][:50])))\n",
    "\n",
    "# Compute 95 percentile\n",
    "confinter = np.percentile(list_sim, 95)\n",
    "print(f'The 95% confidence interval is:{confinter}')"
   ],
   "id": "766e435da95bbd0a",
   "outputs": [
    {
     "name": "stdout",
     "output_type": "stream",
     "text": [
      "The 95% confidence interval is:16.0\n"
     ]
    }
   ],
   "execution_count": 11
  },
  {
   "metadata": {
    "ExecuteTime": {
     "end_time": "2025-08-27T13:34:12.494482Z",
     "start_time": "2025-08-27T13:34:12.282139Z"
    }
   },
   "cell_type": "code",
   "source": [
    "### reshape activations according to include categories\n",
    "cat_activations = activations.copy()\n",
    "\n",
    "for model in models:\n",
    "    shape = activations[model].shape\n",
    "    norms = np.linalg.norm(activations[model], axis=1, keepdims=True)\n",
    "    cat_activations[model] = activations[model]/norms # normalization\n",
    "\n",
    "    cat_activations[model] = cat_activations[model].reshape(-1, nb_per_cat, shape[-1])"
   ],
   "id": "a8259fce1c6c20ae",
   "outputs": [],
   "execution_count": 12
  },
  {
   "metadata": {
    "ExecuteTime": {
     "end_time": "2025-08-27T13:34:12.563702Z",
     "start_time": "2025-08-27T13:34:12.556022Z"
    }
   },
   "cell_type": "code",
   "source": [
    "#def compute_silhouette_score_memory_efficient(cat_activations, models, listcat, metric='euclidean'):\n",
    "'''compactness2, compact_categories2 = max_rsa.categorical_silhouette_score(cat_activations, models, listcat, metric='sqeuclidean')\n",
    "max_rsa.plot_stats(compactness2,models,  ['Categories', 'Normalized var'])\n",
    "for model in models:\n",
    "    print(f'{model}')\n",
    "    print(compact_categories2[model][:20])\n",
    "for model in models:\n",
    "    print(compact_categories2[model][-20:])\n",
    "\n",
    "\n",
    "print('\\nSimilarities saycam and the others')\n",
    "for model in models[:]:\n",
    "    print(check_list_similarity(compact_categories2['saycam'][:50],compact_categories2[model][:50]))\n",
    "\n",
    "print('\\nSimilarities ego and the others')\n",
    "for model in models[:]:\n",
    "    print(check_list_similarity(compact_categories2['ego'][:50],compact_categories2[model][:50]))\n",
    "\n",
    "print('\\nSimilarities imagenet and the others')\n",
    "for model in models[:]:\n",
    "    print(check_list_similarity(compact_categories2['imagenet'][:50],compact_categories2[model][:50]))\n",
    "\n",
    "print('\\nSimilarities supervised and the others')\n",
    "for model in models[:]:\n",
    "    print(check_list_similarity(compact_categories2['supervised'][:50],compact_categories2[model][:50]))\n",
    "\n",
    "print('\\nSimilarities resnet and the others')\n",
    "for model in models[:]:\n",
    "    print(check_list_similarity(compact_categories2['resnet'][:50],compact_categories2[model][:50]))'''"
   ],
   "id": "363a5188b1ab62b1",
   "outputs": [
    {
     "data": {
      "text/plain": [
       "\"compactness2, compact_categories2 = max_rsa.categorical_silhouette_score(cat_activations, models, listcat, metric='sqeuclidean')\\nmax_rsa.plot_stats(compactness2,models,  ['Categories', 'Normalized var'])\\nfor model in models:\\n    print(f'{model}')\\n    print(compact_categories2[model][:20])\\nfor model in models:\\n    print(compact_categories2[model][-20:])\\n\\n\\nprint('\\nSimilarities saycam and the others')\\nfor model in models[:]:\\n    print(check_list_similarity(compact_categories2['saycam'][:50],compact_categories2[model][:50]))\\n\\nprint('\\nSimilarities ego and the others')\\nfor model in models[:]:\\n    print(check_list_similarity(compact_categories2['ego'][:50],compact_categories2[model][:50]))\\n\\nprint('\\nSimilarities imagenet and the others')\\nfor model in models[:]:\\n    print(check_list_similarity(compact_categories2['imagenet'][:50],compact_categories2[model][:50]))\\n\\nprint('\\nSimilarities supervised and the others')\\nfor model in models[:]:\\n    print(check_list_similarity(compact_categories2['supervised'][:50],compact_categories2[model][:50]))\\n\\nprint('\\nSimilarities resnet and the others')\\nfor model in models[:]:\\n    print(check_list_similarity(compact_categories2['resnet'][:50],compact_categories2[model][:50]))\""
      ]
     },
     "execution_count": 13,
     "metadata": {},
     "output_type": "execute_result"
    }
   ],
   "execution_count": 13
  },
  {
   "metadata": {
    "ExecuteTime": {
     "end_time": "2025-08-27T13:34:12.711440Z",
     "start_time": "2025-08-27T13:34:12.701348Z"
    }
   },
   "cell_type": "code",
   "source": [
    "'''\n",
    "compactness3, compact_categories3 = max_rsa.compute_compactness_memory_efficient(cat_activations, models, listcat)\n",
    "max_rsa.plot_stats(compactness3,models,  ['Categories', 'Normalized var'])\n",
    "for model in models:\n",
    "    print(f'{model}')\n",
    "    print(compact_categories3[model][:20])\n",
    "for model in models:\n",
    "    print(compact_categories3[model][-20:])'''"
   ],
   "id": "90a30777fa3e33f5",
   "outputs": [
    {
     "data": {
      "text/plain": [
       "\"\\ncompactness3, compact_categories3 = max_rsa.compute_compactness_memory_efficient(cat_activations, models, listcat)\\nmax_rsa.plot_stats(compactness3,models,  ['Categories', 'Normalized var'])\\nfor model in models:\\n    print(f'{model}')\\n    print(compact_categories3[model][:20])\\nfor model in models:\\n    print(compact_categories3[model][-20:])\""
      ]
     },
     "execution_count": 14,
     "metadata": {},
     "output_type": "execute_result"
    }
   ],
   "execution_count": 14
  },
  {
   "metadata": {
    "ExecuteTime": {
     "end_time": "2025-08-27T13:34:12.861205Z",
     "start_time": "2025-08-27T13:34:12.820778Z"
    }
   },
   "cell_type": "code",
   "source": [
    "labels, sortedmaxdiffcats, maxdiffs = max_rsa.max_compactness_difference(compact_categories, compactness, cat_activations, listcat, models = ['saycam', 'ego'], nb_max_compactness = 20)\n",
    "#labels2, sortedmaxdiffcats2, maxdiffs2 = max_rsa.max_compactness_difference(compact_categories2, compactness2, cat_activations, listcat,models = ['saycam', 'ego'], nb_max_compactness = 20)"
   ],
   "id": "f542d9a336dc7db6",
   "outputs": [
    {
     "name": "stdout",
     "output_type": "stream",
     "text": [
      "The 20 categories leading to the max differences between saycam and ego are ['0009_car' '0091_bridge' '0186_toast' '0025_phone' '0171_goat'\n",
      " '0282_tongs' '0065_tree' '0131_wall' '0175_ladder' '0082_kitchen'\n",
      " '0256_blender' '0156_moon' '0001_man' '0337_spider' '0273_horseshoe'\n",
      " '0325_nectarine' '0115_apple' '0145_egg' '0274_antelope' '0076_cup']\n",
      "Category numbers are [  2  28  71   4  63 107  17  41  65  23  97  54   0 128 105 121  35  48\n",
      " 106  21]\n",
      "With differences in compactness of  [0.1272009  0.10045522 0.08518219 0.08441222 0.07962263 0.07856464\n",
      " 0.07693624 0.07595181 0.07593316 0.07557154 0.07528877 0.07516652\n",
      " 0.07495081 0.07298613 0.07296634 0.07254088 0.07197207 0.07187587\n",
      " 0.07077748 0.07020354]\n"
     ]
    }
   ],
   "execution_count": 15
  },
  {
   "metadata": {
    "ExecuteTime": {
     "end_time": "2025-08-27T13:34:13.588451Z",
     "start_time": "2025-08-27T13:34:12.936072Z"
    }
   },
   "cell_type": "code",
   "source": [
    "### Let's check if the resulting RDMs really are very dissimilar! For the record, the average similarity should be around 0.6\n",
    "## For now let's consider the 10 categories with max compactness difference, 4 random images in each category\n",
    "nb_max_compactness = 12\n",
    "imgspercat = 4 #\n",
    "import random\n",
    "\n",
    "cat_imgs = list() # list of nb_max_compactness*4 images\n",
    "list_randidx = list(range(nb_per_cat))\n",
    "list_selec_idx = list()\n",
    "list\n",
    "for icat in labels[:nb_max_compactness]:# loop over first 10 categories with max compactness difference\n",
    "    random.shuffle(list_randidx) # shuffle and take 4 first idx to sample 4 images randomly\n",
    "    for cat_img in list_randidx[:imgspercat]:\n",
    "        cat_imgs.append(imagelist[icat*nb_per_cat + cat_img])\n",
    "        list_selec_idx.append(icat*nb_per_cat + cat_img)\n",
    "\n",
    "### compute RSA\n",
    "test_models = ['saycam', 'ego']\n",
    "test_rdms = {}\n",
    "for model in test_models:\n",
    "    test_rdms[model] = rsa.compute_RDMs(activations[model][list_selec_idx], metric = metric, display = True, title = f'{model}_{metric}_max')\n",
    "\n",
    "SIMs_saycam_ego = rsa.Compute_sim_RDMs(test_rdms['saycam'], test_rdms['ego'], center = True, metric = sim_metric)\n",
    "SIMs_saycam_ego"
   ],
   "id": "701c592e931af6ae",
   "outputs": [
    {
     "data": {
      "text/plain": [
       "<Figure size 640x480 with 2 Axes>"
      ],
      "image/png": "[encoded data removed]"
     },
     "metadata": {},
     "output_type": "display_data"
    },
    {
     "data": {
      "text/plain": [
       "<Figure size 640x480 with 2 Axes>"
      ],
      "image/png": "[encoded data removed]"
     },
     "metadata": {},
     "output_type": "display_data"
    },
    {
     "data": {
      "text/plain": [
       "np.float64(0.6978283815827465)"
      ]
     },
     "execution_count": 16,
     "metadata": {},
     "output_type": "execute_result"
    }
   ],
   "execution_count": 16
  },
  {
   "metadata": {},
   "cell_type": "markdown",
   "source": "By taking random images among the 50 within each category, the resulting RDMs are actually rather similar to one another... Let's see if we can improve on this..",
   "id": "5a764809b3b7634a"
  },
  {
   "metadata": {
    "ExecuteTime": {
     "end_time": "2025-08-27T13:34:13.712810Z",
     "start_time": "2025-08-27T13:34:13.702225Z"
    }
   },
   "cell_type": "code",
   "source": [
    "from itertools import combinations\n",
    "def find_max_dissimilarity_images(cat_activations, models, categories,\n",
    "                                  images_per_subset=4):\n",
    "    \"\"\"\n",
    "    Find the subset of images per category that maximizes RDM dissimilarity between two models.\n",
    "\n",
    "    Parameters:\n",
    "    -----------\n",
    "    cat_activations : dict\n",
    "        Dictionary with structure: cat_activations[model][category] = array of activations (n_images, n_features)\n",
    "    models : list\n",
    "        List of two model names, e.g., ['model1', 'model2']\n",
    "    categories : list\n",
    "        List of category names/indices\n",
    "    compute_RDM : function\n",
    "        Function that takes activations and returns RDM: RDM = compute_RDM(activations)\n",
    "    compute_similarity : function\n",
    "        Function that takes two RDMs and returns similarity: sim = compute_similarity(RDM1, RDM2)\n",
    "    images_per_subset : int\n",
    "        Number of images to select per category (default: 4)\n",
    "    method : str\n",
    "        'exhaustive' or 'random' sampling of combinations\n",
    "\n",
    "    Returns:\n",
    "    --------\n",
    "    results : dict\n",
    "        Dictionary with results for each category:\n",
    "        {\n",
    "            category: {\n",
    "                'best_indices': array of selected image indices,\n",
    "                'max_dissimilarity': maximum dissimilarity value,\n",
    "                'model1_rdm': RDM for model1 with selected images,\n",
    "                'model2_rdm': RDM for model2 with selected images,\n",
    "                'similarity': similarity between the two RDMs\n",
    "            }\n",
    "        }\n",
    "    \"\"\"\n",
    "\n",
    "    if len(models) != 2:\n",
    "        raise ValueError(\"This function requires exactly 2 models\")\n",
    "\n",
    "    results = {}\n",
    "\n",
    "    for category in tqdm_notebook(categories, desc=\"Processing categories\"):\n",
    "        print(f\"\\nProcessing category: {category}\")\n",
    "\n",
    "        # Get activations for both models for this category\n",
    "        model1_activations = cat_activations[models[0]][category]  # Shape: (50, n_features)\n",
    "        model2_activations = cat_activations[models[1]][category]  # Shape: (50, n_features)\n",
    "\n",
    "        n_images = model1_activations.shape[0]\n",
    "\n",
    "        if n_images < images_per_subset:\n",
    "            raise ValueError(f\"Category {category} has only {n_images} images, need at least {images_per_subset}\")\n",
    "\n",
    "        # Generate combinations of image indices\n",
    "        all_combinations = list(combinations(range(n_images), images_per_subset))\n",
    "\n",
    "        print(f\"Testing {len(all_combinations)} combinations of {images_per_subset} images\")\n",
    "\n",
    "        max_dissimilarity = -np.inf\n",
    "        best_indices = None\n",
    "        best_model1_rdm = None\n",
    "        best_model2_rdm = None\n",
    "        best_similarity = None\n",
    "\n",
    "        # Test each combination\n",
    "        for combination in tqdm_notebook(all_combinations, desc=\"Testing combinations\", leave=False, position=1):\n",
    "            indices = np.array(combination)\n",
    "\n",
    "            # Get subset of activations\n",
    "            subset_model1 = model1_activations[indices]  # Shape: (4, n_features)\n",
    "            subset_model2 = model2_activations[indices]  # Shape: (4, n_features)\n",
    "\n",
    "            # Compute RDMs for this subset\n",
    "            rdm1 = rsa.compute_RDMs(subset_model1, metric = 'L2squared', display = False)  # Shape: (4, 4)\n",
    "            rdm2 = rsa.compute_RDMs(subset_model2, metric = 'L2squared', display = False)  # Shape: (4, 4)\n",
    "\n",
    "            # Compute similarity between RDMs\n",
    "            similarity = rsa.Compute_sim_RDMs(rdm1, rdm2, center = True, metric = 'pearson')\n",
    "\n",
    "            # We want to maximize dissimilarity, so minimize similarity\n",
    "            dissimilarity = -similarity  # or 1 - similarity, depending on your similarity metric\n",
    "\n",
    "            # Update best if this is better\n",
    "            if dissimilarity > max_dissimilarity:\n",
    "                max_dissimilarity = dissimilarity\n",
    "                best_indices = indices\n",
    "                best_model1_rdm = rdm1\n",
    "                best_model2_rdm = rdm2\n",
    "                best_similarity = similarity\n",
    "\n",
    "        # Store results for this category\n",
    "        results[category] = {\n",
    "            'best_indices': best_indices,\n",
    "            'max_dissimilarity': max_dissimilarity,\n",
    "            'model1_rdm': best_model1_rdm,\n",
    "            'model2_rdm': best_model2_rdm,\n",
    "            'similarity': best_similarity\n",
    "        }\n",
    "\n",
    "        print(f\"Best indices for {category}: {best_indices}\")\n",
    "        print(f\"Max dissimilarity: {max_dissimilarity:.4f}\")\n",
    "        print(f\"Similarity: {best_similarity:.4f}\")\n",
    "\n",
    "    return results\n",
    "\n",
    "#results = find_max_dissimilarity_images(cat_activations, ['saycam', 'ego'], labels[:10],images_per_subset=4)\n",
    "\n",
    "    # Analyze results\n",
    "#max_rsa.analyze_selected_images(results, labels[:10])"
   ],
   "id": "8a42be3df3b96ca8",
   "outputs": [],
   "execution_count": 17
  },
  {
   "metadata": {
    "ExecuteTime": {
     "end_time": "2025-08-27T13:34:13.766220Z",
     "start_time": "2025-08-27T13:34:13.751761Z"
    }
   },
   "cell_type": "code",
   "source": [
    "def compute_40_image_rdm_similarity(results, cat_activations, models, categories):\n",
    "    \"\"\"\n",
    "    Compute RDMs using the 40 selected images (4 per category × 10 categories)\n",
    "    that maximize dissimilarity between models, then compute their similarity.\n",
    "\n",
    "    Parameters:\n",
    "    -----------\n",
    "    results : dict\n",
    "        Output from find_max_dissimilarity_images() with structure:\n",
    "        results[category]['best_indices'] = array of 4 selected image indices\n",
    "    cat_activations : dict\n",
    "        Dictionary: cat_activations[model][category] = activations array (50, n_features)\n",
    "    models : list\n",
    "        List of two model names, e.g., ['model1', 'model2']\n",
    "    categories : list\n",
    "        List of category names/indices (should have 10 categories)\n",
    "    compute_RDM : function\n",
    "        Function to compute RDM from activations: RDM = compute_RDM(activations)\n",
    "    compute_similarity : function\n",
    "        Function to compute similarity between RDMs: sim = compute_similarity(RDM1, RDM2)\n",
    "\n",
    "    Returns:\n",
    "    --------\n",
    "    result : dict\n",
    "        Dictionary containing:\n",
    "        {\n",
    "            'similarity': similarity between the two 40×40 RDMs,\n",
    "            'model1_rdm': 40×40 RDM for model1,\n",
    "            'model2_rdm': 40×40 RDM for model2,\n",
    "            'selected_activations_model1': combined activations for model1 (40, n_features),\n",
    "            'selected_activations_model2': combined activations for model2 (40, n_features),\n",
    "            'image_info': list of (category, original_index) for each of the 40 images\n",
    "        }\n",
    "    \"\"\"\n",
    "\n",
    "    if len(models) != 2:\n",
    "        raise ValueError(\"This function requires exactly 2 models\")\n",
    "\n",
    "    print(f\"Collecting 40 selected images from {len(categories)} categories...\")\n",
    "\n",
    "    # Collect selected activations from all categories\n",
    "    selected_model1_activations = []\n",
    "    selected_model2_activations = []\n",
    "    image_info = []  # Track which category and original index each image comes from\n",
    "\n",
    "    total_selected = 0\n",
    "\n",
    "    for category in categories:\n",
    "        if category not in results:\n",
    "            raise ValueError(f\"Category {category} not found in results\")\n",
    "\n",
    "        # Get the 4 selected indices for this category\n",
    "        selected_indices = results[category]['best_indices']\n",
    "\n",
    "        if len(selected_indices) != 4:\n",
    "            print(f\"Warning: Category {category} has {len(selected_indices)} images instead of 4\")\n",
    "\n",
    "        # Extract activations for selected images\n",
    "        model1_cat_activations = cat_activations[models[0]][category][selected_indices]\n",
    "        model2_cat_activations = cat_activations[models[1]][category][selected_indices]\n",
    "\n",
    "        # Add to combined list\n",
    "        selected_model1_activations.append(model1_cat_activations)\n",
    "        selected_model2_activations.append(model2_cat_activations)\n",
    "\n",
    "        # Track image information\n",
    "        for idx in selected_indices:\n",
    "            image_info.append((category, idx))\n",
    "\n",
    "        total_selected += len(selected_indices)\n",
    "        print(f\"Category {category}: selected indices {selected_indices}\")\n",
    "\n",
    "    # Combine all selected activations\n",
    "    combined_model1_activations = np.vstack(selected_model1_activations)\n",
    "    combined_model2_activations = np.vstack(selected_model2_activations)\n",
    "\n",
    "    print(f\"\\nTotal selected images: {total_selected}\")\n",
    "    print(f\"Combined activation shapes:\")\n",
    "    print(f\"  Model 1: {combined_model1_activations.shape}\")\n",
    "    print(f\"  Model 2: {combined_model2_activations.shape}\")\n",
    "\n",
    "    # Verify we have 40 images\n",
    "    if combined_model1_activations.shape[0] != 40:\n",
    "        print(f\"Warning: Expected 40 images, got {combined_model1_activations.shape[0]}\")\n",
    "\n",
    "    # Compute RDMs for both models using the 40 selected images\n",
    "    print(\"\\nComputing RDMs...\")\n",
    "    rdm_model1 = rsa.compute_RDMs(combined_model1_activations, metric = 'L2squared', display = False)  # Shape: (40, 40)\n",
    "    rdm_model2 = rsa.compute_RDMs(combined_model2_activations, metric = 'L2squared', display = False)  # Shape: (40, 40)\n",
    "\n",
    "    print(f\"RDM shapes: {rdm_model1.shape}, {rdm_model2.shape}\")\n",
    "\n",
    "    # Compute similarity between the two RDMs\n",
    "    print(\"Computing similarity between RDMs...\")\n",
    "    similarity = rsa.Compute_sim_RDMs(rdm_model1, rdm_model2, center = False, metric = 'pearson')\n",
    "\n",
    "    print(f\"\\nRDM similarity using 40 maximally dissimilar images: {similarity:.6f}\")\n",
    "\n",
    "    # Package results\n",
    "    result = {\n",
    "        'similarity': similarity,\n",
    "        'model1_rdm': rdm_model1,\n",
    "        'model2_rdm': rdm_model2,\n",
    "        'selected_activations_model1': combined_model1_activations,\n",
    "        'selected_activations_model2': combined_model2_activations,\n",
    "        'image_info': image_info,\n",
    "        'total_images': total_selected\n",
    "    }\n",
    "\n",
    "    fig, subs = plt.subplots(1,2)\n",
    "    sns.heatmap(rdm_model1,\n",
    "                annot=False,\n",
    "                cmap='Greys',      # Blue to red colormap\n",
    "                square=True,\n",
    "                cbar=True,\n",
    "                #cbar_kws={'label': 'Dissimilarity'},\n",
    "                #fmt='.2f',\n",
    "                linewidths=0,\n",
    "                ax = subs[0],\n",
    "                vmin=0,               # Set minimum value for color scale\n",
    "                vmax=np.max(rdm_model1))               # Set maximum value for color scale\n",
    "    sns.heatmap(rdm_model2,\n",
    "                annot=False,\n",
    "                cmap='Greys',      # Blue to red colormap\n",
    "                square=True,\n",
    "                cbar=True,\n",
    "                #cbar_kws={'label': 'Dissimilarity'},\n",
    "                #fmt='.2f',\n",
    "                linewidths=0,\n",
    "                ax = subs[1],\n",
    "                vmin=0,               # Set minimum value for color scale\n",
    "                vmax=np.max(rdm_model2))\n",
    "\n",
    "\n",
    "    subs[0].axis('off')\n",
    "    subs[1].axis('off')\n",
    "    fig.tight_layout()\n",
    "    plt.show()\n",
    "    return result\n",
    "\n",
    "#compute_40_image_rdm_similarity(results, cat_activations, ['saycam', 'ego'], labels[:10])"
   ],
   "id": "72e0d73c76819b98",
   "outputs": [],
   "execution_count": 18
  },
  {
   "metadata": {
    "ExecuteTime": {
     "end_time": "2025-08-27T13:34:13.846299Z",
     "start_time": "2025-08-27T13:34:13.836042Z"
    }
   },
   "cell_type": "code",
   "source": [
    "import lib.utils_CKA as cka\n",
    "\n",
    "def Compute_sim_RDMs(RDM1, RDM2, center = False, metric = 'cosine', means = {}):#\n",
    "    '''\n",
    "    Function to compute correlational similarity between 2 RDMs.\n",
    "    Only considers the upper triangular part, excluding the diagonal.\n",
    "    Allows for centering of matrices (as in CKA) and several metrics of similarity ('cosine', 'pearson', 'spearman').)\n",
    "    '''\n",
    "\n",
    "    assert RDM1.shape == RDM2.shape # two RDMs should be of the same size\n",
    "    assert metric in ['cosine', 'pearson', 'spearman', 'pearson_global']\n",
    "\n",
    "    if center: ### center matrices\n",
    "        RDM1 = cka.centering(RDM1)\n",
    "        RDM2 = cka.centering(RDM2)\n",
    "\n",
    "    n = len(RDM1)\n",
    "    upper_indices = np.triu_indices(n, k=1)  # k=1 excludes diagonal\n",
    "    upper_RDM1 = RDM1[upper_indices]\n",
    "    upper_RDM2 = RDM2[upper_indices]\n",
    "\n",
    "    # compute similarity\n",
    "    if metric == 'cosine':\n",
    "        sim = rsa.cosine_similarity(RDM1, RDM2)\n",
    "    elif metric == 'pearson':\n",
    "        sim =np.corrcoef(upper_RDM1, upper_RDM2)[0,1]\n",
    "    elif metric == 'pearson_global': # to use for a subset if want to predict similarity measure for a larger set of RDM entries\n",
    "        RDM1_centered = RDM1[upper_indices] - means['x']\n",
    "        RDM2_centered = RDM2[upper_indices] - means['y']\n",
    "        n = len(RDM1_centered)\n",
    "        cov = np.dot(RDM1_centered, RDM2_centered)/(n-1)\n",
    "        sim = cov/means['norm']\n",
    "    return sim"
   ],
   "id": "834178912c10185e",
   "outputs": [],
   "execution_count": 19
  },
  {
   "metadata": {
    "ExecuteTime": {
     "end_time": "2025-08-27T13:35:44.251326Z",
     "start_time": "2025-08-27T13:34:13.952124Z"
    }
   },
   "cell_type": "code",
   "source": [
    "from itertools import combinations\n",
    "def find_max_dissimilarity_images(RDMs, models, categories, nb_per_cat,\n",
    "                                  images_per_subset=4):\n",
    "    \"\"\"\n",
    "    Find the subset of images per category that maximizes RDM dissimilarity between two models.\n",
    "\n",
    "    Parameters:\n",
    "    -----------\n",
    "    cat_activations : dict\n",
    "        Dictionary with structure: cat_activations[model][category] = array of activations (n_images, n_features)\n",
    "    models : list\n",
    "        List of two model names, e.g., ['model1', 'model2']\n",
    "    categories : list\n",
    "        List of category names/indices\n",
    "    compute_RDM : function\n",
    "        Function that takes activations and returns RDM: RDM = compute_RDM(activations)\n",
    "    compute_similarity : function\n",
    "        Function that takes two RDMs and returns similarity: sim = compute_similarity(RDM1, RDM2)\n",
    "    images_per_subset : int\n",
    "        Number of images to select per category (default: 4)\n",
    "    method : str\n",
    "        'exhaustive' or 'random' sampling of combinations\n",
    "\n",
    "    Returns:\n",
    "    --------\n",
    "    results : dict\n",
    "        Dictionary with results for each category:\n",
    "        {\n",
    "            category: {\n",
    "                'best_indices': array of selected image indices,\n",
    "                'max_dissimilarity': maximum dissimilarity value,\n",
    "                'model1_rdm': RDM for model1 with selected images,\n",
    "                'model2_rdm': RDM for model2 with selected images,\n",
    "                'similarity': similarity between the two RDMs\n",
    "            }\n",
    "        }\n",
    "    \"\"\"\n",
    "\n",
    "    if len(models) != 2:\n",
    "        raise ValueError(\"This function requires exactly 2 models\")\n",
    "\n",
    "    results = {}\n",
    "\n",
    "    means = {}\n",
    "    n = len(RDMs[models[0]])\n",
    "    upper_indices = np.triu_indices(n, k=1)  # k=1 excludes diagonal\n",
    "    means['x'] = np.mean(RDMs[models[0]][upper_indices])\n",
    "    means['y'] = np.mean(RDMs[models[1]][upper_indices])\n",
    "    means['norm'] = np.std(RDMs[models[0]][upper_indices]) * np.std(RDMs[models[1]][upper_indices])\n",
    "    print(means)\n",
    "    for category in tqdm_notebook(categories, desc=\"Processing categories\"):\n",
    "        print(f\"\\nProcessing category: {category}\")\n",
    "        # Get activations for both models for this category\n",
    "        RDM1 = RDMs[models[0]][category*nb_per_cat:(category+1)*nb_per_cat, category*nb_per_cat:(category+1)*nb_per_cat]  # Shape: (50, 50)\n",
    "        RDM2 = RDMs[models[1]][category*nb_per_cat:(category+1)*nb_per_cat, category*nb_per_cat:(category+1)*nb_per_cat]  # Shape: (50, 50)\n",
    "\n",
    "        # Generate combinations of image indices\n",
    "        all_combinations = list(combinations(range(nb_per_cat), images_per_subset))\n",
    "\n",
    "        print(f\"Testing {len(all_combinations)} combinations of {images_per_subset} images\")\n",
    "\n",
    "        max_dissimilarity = -np.inf\n",
    "        best_indices = None\n",
    "        best_model1_rdm = None\n",
    "        best_model2_rdm = None\n",
    "        best_similarity = None\n",
    "\n",
    "        # Test each combination\n",
    "        for combination in tqdm_notebook(all_combinations, desc=\"Testing combinations\", leave=False, position=1):\n",
    "            indices = np.array(combination)\n",
    "            # Get subset of activations\n",
    "            rdm1 = RDM1[np.ix_(indices, indices)]  # Shape: (4, 4)\n",
    "            rdm2 = RDM2[np.ix_(indices, indices)]  # Shape: (4, 4s)\n",
    "\n",
    "            # Compute similarity between RDMs\n",
    "\n",
    "            similarity = Compute_sim_RDMs(rdm1, rdm2, center = False, metric = 'pearson_global', means= means)\n",
    "\n",
    "            # We want to maximize dissimilarity, so minimize similarity\n",
    "            dissimilarity = -similarity  # or 1 - similarity, depending on your similarity metric\n",
    "\n",
    "            # Update best if this is better\n",
    "            if dissimilarity > max_dissimilarity:\n",
    "                max_dissimilarity = dissimilarity\n",
    "                best_indices = indices\n",
    "                best_model1_rdm = rdm1\n",
    "                best_model2_rdm = rdm2\n",
    "                best_similarity = similarity\n",
    "\n",
    "        # Store results for this category\n",
    "        results[category] = {\n",
    "            'best_indices': best_indices,\n",
    "            'max_dissimilarity': max_dissimilarity,\n",
    "            'model1_rdm': best_model1_rdm,\n",
    "            'model2_rdm': best_model2_rdm,\n",
    "            'similarity': best_similarity\n",
    "        }\n",
    "\n",
    "        print(f\"Best indices for {category}: {best_indices}\")\n",
    "        print(f\"Max dissimilarity: {max_dissimilarity:.4f}\")\n",
    "        print(f\"Similarity: {best_similarity:.4f}\")\n",
    "\n",
    "    return results\n",
    "\n",
    "results = find_max_dissimilarity_images(\n",
    "        RDMs, ['saycam', 'ego'], labels[:10], 50,\n",
    "        images_per_subset=4\n",
    "    )\n",
    "\n",
    "    # Analyze results\n",
    "#max_rsa.analyze_selected_images(results, labels[:10])"
   ],
   "id": "828203f30f1e1be1",
   "outputs": [
    {
     "name": "stdout",
     "output_type": "stream",
     "text": [
      "{'x': np.float32(1.1682364), 'y': np.float32(1.5041226), 'norm': np.float32(0.014819883)}\n"
     ]
    },
    {
     "data": {
      "text/plain": [
       "Processing categories:   0%|          | 0/10 [00:00<?, ?it/s]"
      ],
      "application/vnd.jupyter.widget-view+json": {
       "version_major": 2,
       "version_minor": 0,
       "model_id": "93abee6558244955a778f47fc6be7496"
      }
     },
     "metadata": {},
     "output_type": "display_data"
    },
    {
     "name": "stdout",
     "output_type": "stream",
     "text": [
      "\n",
      "Processing category: 2\n",
      "Testing 230300 combinations of 4 images\n"
     ]
    },
    {
     "data": {
      "text/plain": [
       "Testing combinations:   0%|          | 0/230300 [00:00<?, ?it/s]"
      ],
      "application/vnd.jupyter.widget-view+json": {
       "version_major": 2,
       "version_minor": 0,
       "model_id": "0703d22f899344319b86901f7ca2dd07"
      }
     },
     "metadata": {},
     "output_type": "display_data"
    },
    {
     "name": "stdout",
     "output_type": "stream",
     "text": [
      "Best indices for 2: [ 9 41 45 47]\n",
      "Max dissimilarity: 0.6681\n",
      "Similarity: -0.6681\n",
      "\n",
      "Processing category: 28\n",
      "Testing 230300 combinations of 4 images\n"
     ]
    },
    {
     "data": {
      "text/plain": [
       "Testing combinations:   0%|          | 0/230300 [00:00<?, ?it/s]"
      ],
      "application/vnd.jupyter.widget-view+json": {
       "version_major": 2,
       "version_minor": 0,
       "model_id": "99fd9855482a4db7ab4f33eab91d338a"
      }
     },
     "metadata": {},
     "output_type": "display_data"
    },
    {
     "name": "stdout",
     "output_type": "stream",
     "text": [
      "Best indices for 28: [ 1 18 32 41]\n",
      "Max dissimilarity: 0.9491\n",
      "Similarity: -0.9491\n",
      "\n",
      "Processing category: 71\n",
      "Testing 230300 combinations of 4 images\n"
     ]
    },
    {
     "data": {
      "text/plain": [
       "Testing combinations:   0%|          | 0/230300 [00:00<?, ?it/s]"
      ],
      "application/vnd.jupyter.widget-view+json": {
       "version_major": 2,
       "version_minor": 0,
       "model_id": "e938128921a948bdb21dba7e64266410"
      }
     },
     "metadata": {},
     "output_type": "display_data"
    },
    {
     "name": "stdout",
     "output_type": "stream",
     "text": [
      "Best indices for 71: [24 34 41 43]\n",
      "Max dissimilarity: 0.7206\n",
      "Similarity: -0.7206\n",
      "\n",
      "Processing category: 4\n",
      "Testing 230300 combinations of 4 images\n"
     ]
    },
    {
     "data": {
      "text/plain": [
       "Testing combinations:   0%|          | 0/230300 [00:00<?, ?it/s]"
      ],
      "application/vnd.jupyter.widget-view+json": {
       "version_major": 2,
       "version_minor": 0,
       "model_id": "0ae90b1df71a4612b7c8f930f47862a0"
      }
     },
     "metadata": {},
     "output_type": "display_data"
    },
    {
     "name": "stdout",
     "output_type": "stream",
     "text": [
      "Best indices for 4: [ 3 16 38 40]\n",
      "Max dissimilarity: 0.7968\n",
      "Similarity: -0.7968\n",
      "\n",
      "Processing category: 63\n",
      "Testing 230300 combinations of 4 images\n"
     ]
    },
    {
     "data": {
      "text/plain": [
       "Testing combinations:   0%|          | 0/230300 [00:00<?, ?it/s]"
      ],
      "application/vnd.jupyter.widget-view+json": {
       "version_major": 2,
       "version_minor": 0,
       "model_id": "20796cda45a8418e88bfa54e4222568c"
      }
     },
     "metadata": {},
     "output_type": "display_data"
    },
    {
     "name": "stdout",
     "output_type": "stream",
     "text": [
      "Best indices for 63: [15 24 26 45]\n",
      "Max dissimilarity: 0.7503\n",
      "Similarity: -0.7503\n",
      "\n",
      "Processing category: 107\n",
      "Testing 230300 combinations of 4 images\n"
     ]
    },
    {
     "data": {
      "text/plain": [
       "Testing combinations:   0%|          | 0/230300 [00:00<?, ?it/s]"
      ],
      "application/vnd.jupyter.widget-view+json": {
       "version_major": 2,
       "version_minor": 0,
       "model_id": "469f9891a1c545668d583e90537a13a0"
      }
     },
     "metadata": {},
     "output_type": "display_data"
    },
    {
     "name": "stdout",
     "output_type": "stream",
     "text": [
      "Best indices for 107: [10 16 18 46]\n",
      "Max dissimilarity: 0.9117\n",
      "Similarity: -0.9117\n",
      "\n",
      "Processing category: 17\n",
      "Testing 230300 combinations of 4 images\n"
     ]
    },
    {
     "data": {
      "text/plain": [
       "Testing combinations:   0%|          | 0/230300 [00:00<?, ?it/s]"
      ],
      "application/vnd.jupyter.widget-view+json": {
       "version_major": 2,
       "version_minor": 0,
       "model_id": "70a6521637bf4327926724186ccf8658"
      }
     },
     "metadata": {},
     "output_type": "display_data"
    },
    {
     "name": "stdout",
     "output_type": "stream",
     "text": [
      "Best indices for 17: [ 2 41 44 45]\n",
      "Max dissimilarity: 1.5491\n",
      "Similarity: -1.5491\n",
      "\n",
      "Processing category: 41\n",
      "Testing 230300 combinations of 4 images\n"
     ]
    },
    {
     "data": {
      "text/plain": [
       "Testing combinations:   0%|          | 0/230300 [00:00<?, ?it/s]"
      ],
      "application/vnd.jupyter.widget-view+json": {
       "version_major": 2,
       "version_minor": 0,
       "model_id": "94d10924e4884c398813203e37b7e65d"
      }
     },
     "metadata": {},
     "output_type": "display_data"
    },
    {
     "name": "stdout",
     "output_type": "stream",
     "text": [
      "Best indices for 41: [11 13 22 42]\n",
      "Max dissimilarity: 0.8482\n",
      "Similarity: -0.8482\n",
      "\n",
      "Processing category: 65\n",
      "Testing 230300 combinations of 4 images\n"
     ]
    },
    {
     "data": {
      "text/plain": [
       "Testing combinations:   0%|          | 0/230300 [00:00<?, ?it/s]"
      ],
      "application/vnd.jupyter.widget-view+json": {
       "version_major": 2,
       "version_minor": 0,
       "model_id": "1b3ec4c64e484809b3f3390ba2b1ab8b"
      }
     },
     "metadata": {},
     "output_type": "display_data"
    },
    {
     "name": "stdout",
     "output_type": "stream",
     "text": [
      "Best indices for 65: [18 22 35 48]\n",
      "Max dissimilarity: 0.7815\n",
      "Similarity: -0.7815\n",
      "\n",
      "Processing category: 23\n",
      "Testing 230300 combinations of 4 images\n"
     ]
    },
    {
     "data": {
      "text/plain": [
       "Testing combinations:   0%|          | 0/230300 [00:00<?, ?it/s]"
      ],
      "application/vnd.jupyter.widget-view+json": {
       "version_major": 2,
       "version_minor": 0,
       "model_id": "7ea02397dd6e4f9db836cd4f66299e25"
      }
     },
     "metadata": {},
     "output_type": "display_data"
    },
    {
     "name": "stdout",
     "output_type": "stream",
     "text": [
      "Best indices for 23: [11 14 19 49]\n",
      "Max dissimilarity: -0.0719\n",
      "Similarity: 0.0719\n"
     ]
    }
   ],
   "execution_count": 20
  },
  {
   "metadata": {
    "ExecuteTime": {
     "end_time": "2025-08-27T14:00:58.122696Z",
     "start_time": "2025-08-27T14:00:57.744269Z"
    }
   },
   "cell_type": "code",
   "source": "similarity_dict = compute_40_image_rdm_similarity(results, cat_activations, ['saycam', 'ego'], labels[:10])",
   "id": "4715828bb81fda82",
   "outputs": [
    {
     "name": "stdout",
     "output_type": "stream",
     "text": [
      "Collecting 40 selected images from 10 categories...\n",
      "Category 2: selected indices [ 9 41 45 47]\n",
      "Category 28: selected indices [ 1 18 32 41]\n",
      "Category 71: selected indices [24 34 41 43]\n",
      "Category 4: selected indices [ 3 16 38 40]\n",
      "Category 63: selected indices [15 24 26 45]\n",
      "Category 107: selected indices [10 16 18 46]\n",
      "Category 17: selected indices [ 2 41 44 45]\n",
      "Category 41: selected indices [11 13 22 42]\n",
      "Category 65: selected indices [18 22 35 48]\n",
      "Category 23: selected indices [11 14 19 49]\n",
      "\n",
      "Total selected images: 40\n",
      "Combined activation shapes:\n",
      "  Model 1: (40, 768)\n",
      "  Model 2: (40, 768)\n",
      "\n",
      "Computing RDMs...\n",
      "RDM shapes: (40, 40), (40, 40)\n",
      "Computing similarity between RDMs...\n",
      "\n",
      "RDM similarity using 40 maximally dissimilar images: 0.449709\n"
     ]
    },
    {
     "data": {
      "text/plain": [
       "<Figure size 640x480 with 4 Axes>"
      ],
      "image/png": "[encoded data removed]"
     },
     "metadata": {},
     "output_type": "display_data"
    }
   ],
   "execution_count": 36
  },
  {
   "metadata": {},
   "cell_type": "markdown",
   "source": [
    "We obtain 2 40*40 RDMs with a similarity significantly lower than the average similarity over the full set of images.\n",
    "\n",
    "Let's see now if the resulting mini RDMs are also significantly lower than the majority of subset we could have chosen (estimate over 1000000 images)."
   ],
   "id": "bfa0c47f2492e0e6"
  },
  {
   "metadata": {
    "ExecuteTime": {
     "end_time": "2025-08-27T13:58:39.216811Z",
     "start_time": "2025-08-27T13:49:20.480923Z"
    }
   },
   "cell_type": "code",
   "source": [
    "\n",
    "def sample_rdm_pairs_memory_efficient(RDM1, RDM2, n_samples=1000000, subset_size=40,\n",
    "                                    batch_size=10000, seed=None):\n",
    "    \"\"\"\n",
    "    Memory-efficient version that processes in batches and optionally saves to disk.\n",
    "\n",
    "    Parameters:\n",
    "    -----------\n",
    "    batch_size : int\n",
    "        Number of samples to process at once (default: 1000)\n",
    "    output_file : str, optional\n",
    "        If provided, saves results to this file using pickle\n",
    "    \"\"\"\n",
    "\n",
    "    if seed is not None:\n",
    "        np.random.seed(seed)\n",
    "\n",
    "    n_images = RDM1.shape[0]\n",
    "    n_batches = (n_samples + batch_size - 1) // batch_size\n",
    "\n",
    "    all_sims_samples = []\n",
    "    all_indices = []\n",
    "\n",
    "    print(f\"Processing {n_samples} samples in {n_batches} batches of {batch_size}...\")\n",
    "\n",
    "    for batch_idx in tqdm_notebook(range(n_batches)):\n",
    "        start_idx = batch_idx * batch_size\n",
    "        end_idx = min(start_idx + batch_size, n_samples)\n",
    "        current_batch_size = end_idx - start_idx\n",
    "\n",
    "        # Allocate batch arrays\n",
    "        batch_sim = np.zeros((current_batch_size))\n",
    "        batch_indices = np.zeros((current_batch_size, subset_size), dtype=int)\n",
    "\n",
    "        for i in range(current_batch_size):\n",
    "            # Randomly select images\n",
    "            indices = np.random.choice(n_images, size=subset_size, replace=False)\n",
    "            indices = np.sort(indices)\n",
    "\n",
    "            # Extract submatrices\n",
    "            batch_sim[i] = rsa.Compute_sim_RDMs(RDM1[np.ix_(indices, indices)], RDM2[np.ix_(indices, indices)], center = False, metric = 'pearson')\n",
    "            batch_indices[i] = indices\n",
    "\n",
    "        all_sims_samples.append(batch_sim)\n",
    "        all_indices.append(batch_indices)\n",
    "\n",
    "    # Concatenate all batches\n",
    "    sim_samples = np.concatenate(all_sims_samples, axis=0)\n",
    "    indices_used = np.concatenate(all_indices, axis=0)\n",
    "\n",
    "\n",
    "    return sim_samples, indices_used\n",
    "\n",
    "sim_samples, indices_used = sample_rdm_pairs_memory_efficient(RDMs['saycam'], RDMs['ego'], n_samples=1000000, subset_size=40,\n",
    "                                    batch_size=1000, seed=None)"
   ],
   "id": "a5a23dffaf80bf3",
   "outputs": [
    {
     "name": "stdout",
     "output_type": "stream",
     "text": [
      "Processing 1000000 samples in 1000 batches of 1000...\n"
     ]
    },
    {
     "data": {
      "text/plain": [
       "  0%|          | 0/1000 [00:00<?, ?it/s]"
      ],
      "application/vnd.jupyter.widget-view+json": {
       "version_major": 2,
       "version_minor": 0,
       "model_id": "c7537d09ff634d1d894939e32495fffd"
      }
     },
     "metadata": {},
     "output_type": "display_data"
    }
   ],
   "execution_count": 33
  },
  {
   "metadata": {
    "ExecuteTime": {
     "end_time": "2025-08-27T14:03:38.728669Z",
     "start_time": "2025-08-27T14:03:38.537405Z"
    }
   },
   "cell_type": "code",
   "source": [
    "plt.hist(sim_samples, 100)\n",
    "plt.vlines(similarity_dict['similarity'], 0, 40000, 'green')\n",
    "plt.show()\n",
    "perc = np.sum(sim_samples< similarity_dict['similarity'])/len(sim_samples)"
   ],
   "id": "4ec7f5c2f8c7142c",
   "outputs": [
    {
     "data": {
      "text/plain": [
       "<Figure size 640x480 with 1 Axes>"
      ],
      "image/png": "[encoded data removed]"
     },
     "metadata": {},
     "output_type": "display_data"
    }
   ],
   "execution_count": 40
  },
  {
   "metadata": {
    "ExecuteTime": {
     "end_time": "2025-08-27T14:04:08.208154Z",
     "start_time": "2025-08-27T14:04:08.199715Z"
    }
   },
   "cell_type": "code",
   "source": "perc*100",
   "id": "f06fd7d74644ce91",
   "outputs": [
    {
     "data": {
      "text/plain": [
       "np.float64(0.0202)"
      ]
     },
     "execution_count": 43,
     "metadata": {},
     "output_type": "execute_result"
    }
   ],
   "execution_count": 43
  },
  {
   "metadata": {
    "ExecuteTime": {
     "end_time": "2025-08-27T14:01:14.849262Z",
     "start_time": "2025-08-27T14:01:14.838369Z"
    }
   },
   "cell_type": "code",
   "source": "",
   "id": "410230e59fa99819",
   "outputs": [
    {
     "data": {
      "text/plain": [
       "{'similarity': np.float64(0.44970938523548587),\n",
       " 'model1_rdm': array([[0.       , 1.3063023, 1.1288195, ..., 1.1021286, 1.1405728,\n",
       "         1.2405831],\n",
       "        [1.3063023, 0.       , 1.2302856, ..., 1.3571417, 1.334125 ,\n",
       "         1.2869217],\n",
       "        [1.1288195, 1.2302856, 0.       , ..., 1.0453908, 1.11736  ,\n",
       "         1.0813198],\n",
       "        ...,\n",
       "        [1.1021286, 1.3571417, 1.0453908, ..., 0.       , 0.9828709,\n",
       "         1.0534531],\n",
       "        [1.1405728, 1.334125 , 1.11736  , ..., 0.9828709, 0.       ,\n",
       "         1.0290756],\n",
       "        [1.2405831, 1.2869217, 1.0813198, ..., 1.0534531, 1.0290756,\n",
       "         0.       ]], dtype=float32),\n",
       " 'model2_rdm': array([[0.       , 1.2543381, 1.2742141, ..., 1.4984912, 1.5683185,\n",
       "         1.4836565],\n",
       "        [1.2543381, 0.       , 1.3207573, ..., 1.4857031, 1.4396421,\n",
       "         1.5435399],\n",
       "        [1.2742141, 1.3207573, 0.       , ..., 1.3009293, 1.437973 ,\n",
       "         1.4305679],\n",
       "        ...,\n",
       "        [1.4984912, 1.4857031, 1.3009293, ..., 0.       , 1.4987017,\n",
       "         1.4788262],\n",
       "        [1.5683185, 1.4396421, 1.437973 , ..., 1.4987017, 0.       ,\n",
       "         1.5601633],\n",
       "        [1.4836565, 1.5435399, 1.4305679, ..., 1.4788262, 1.5601633,\n",
       "         0.       ]], dtype=float32),\n",
       " 'selected_activations_model1': array([[ 0.00969042, -0.03752912,  0.05643982, ...,  0.06396915,\n",
       "          0.05067793,  0.0137605 ],\n",
       "        [ 0.00035845,  0.02697267, -0.00275972, ...,  0.00644321,\n",
       "         -0.01114018,  0.01536319],\n",
       "        [ 0.00239271,  0.00500817, -0.03391332, ...,  0.00848652,\n",
       "          0.02541719, -0.00868607],\n",
       "        ...,\n",
       "        [-0.03820435,  0.03287023, -0.02158291, ...,  0.03562765,\n",
       "          0.0210315 , -0.01456635],\n",
       "        [ 0.01321883,  0.01017478,  0.04757737, ...,  0.00228092,\n",
       "          0.03372293,  0.0111783 ],\n",
       "        [ 0.00647836, -0.00251086, -0.01720531, ...,  0.03772373,\n",
       "          0.03969096, -0.00047727]], dtype=float32),\n",
       " 'selected_activations_model2': array([[ 0.01755711, -0.03190063, -0.00241645, ..., -0.00306664,\n",
       "         -0.10043117,  0.03747483],\n",
       "        [ 0.0609878 ,  0.03939991,  0.02027844, ..., -0.05009567,\n",
       "         -0.03972549, -0.02311152],\n",
       "        [ 0.02917465,  0.01835665, -0.00397704, ...,  0.0419455 ,\n",
       "         -0.05172063,  0.03984437],\n",
       "        ...,\n",
       "        [ 0.01177133, -0.0153116 , -0.01113523, ...,  0.03775474,\n",
       "          0.0105809 , -0.04971777],\n",
       "        [-0.00538847, -0.00327752,  0.02352162, ...,  0.03088577,\n",
       "         -0.00126836,  0.00937426],\n",
       "        [ 0.02087785,  0.01684015, -0.01733801, ...,  0.0167838 ,\n",
       "          0.01200619,  0.01095273]], dtype=float32),\n",
       " 'image_info': [(np.int64(2), np.int64(9)),\n",
       "  (np.int64(2), np.int64(41)),\n",
       "  (np.int64(2), np.int64(45)),\n",
       "  (np.int64(2), np.int64(47)),\n",
       "  (np.int64(28), np.int64(1)),\n",
       "  (np.int64(28), np.int64(18)),\n",
       "  (np.int64(28), np.int64(32)),\n",
       "  (np.int64(28), np.int64(41)),\n",
       "  (np.int64(71), np.int64(24)),\n",
       "  (np.int64(71), np.int64(34)),\n",
       "  (np.int64(71), np.int64(41)),\n",
       "  (np.int64(71), np.int64(43)),\n",
       "  (np.int64(4), np.int64(3)),\n",
       "  (np.int64(4), np.int64(16)),\n",
       "  (np.int64(4), np.int64(38)),\n",
       "  (np.int64(4), np.int64(40)),\n",
       "  (np.int64(63), np.int64(15)),\n",
       "  (np.int64(63), np.int64(24)),\n",
       "  (np.int64(63), np.int64(26)),\n",
       "  (np.int64(63), np.int64(45)),\n",
       "  (np.int64(107), np.int64(10)),\n",
       "  (np.int64(107), np.int64(16)),\n",
       "  (np.int64(107), np.int64(18)),\n",
       "  (np.int64(107), np.int64(46)),\n",
       "  (np.int64(17), np.int64(2)),\n",
       "  (np.int64(17), np.int64(41)),\n",
       "  (np.int64(17), np.int64(44)),\n",
       "  (np.int64(17), np.int64(45)),\n",
       "  (np.int64(41), np.int64(11)),\n",
       "  (np.int64(41), np.int64(13)),\n",
       "  (np.int64(41), np.int64(22)),\n",
       "  (np.int64(41), np.int64(42)),\n",
       "  (np.int64(65), np.int64(18)),\n",
       "  (np.int64(65), np.int64(22)),\n",
       "  (np.int64(65), np.int64(35)),\n",
       "  (np.int64(65), np.int64(48)),\n",
       "  (np.int64(23), np.int64(11)),\n",
       "  (np.int64(23), np.int64(14)),\n",
       "  (np.int64(23), np.int64(19)),\n",
       "  (np.int64(23), np.int64(49))],\n",
       " 'total_images': 40}"
      ]
     },
     "execution_count": 37,
     "metadata": {},
     "output_type": "execute_result"
    }
   ],
   "execution_count": 37
  }
 ],
 "metadata": {
  "kernelspec": {
   "display_name": "Python 3",
   "language": "python",
   "name": "python3"
  },
  "language_info": {
   "codemirror_mode": {
    "name": "ipython",
    "version": 2
   },
   "file_extension": ".py",
   "mimetype": "text/x-python",
   "name": "python",
   "nbconvert_exporter": "python",
   "pygments_lexer": "ipython2",
   "version": "2.7.6"
  }
 },
 "nbformat": 4,
 "nbformat_minor": 5
}
