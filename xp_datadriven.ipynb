{
 "cells": [
  {
   "cell_type": "code",
   "id": "initial_id",
   "metadata": {
    "collapsed": true,
    "ExecuteTime": {
     "end_time": "2025-08-07T14:45:33.309282Z",
     "start_time": "2025-08-07T14:45:33.305905Z"
    }
   },
   "source": [
    "import numpy as np\n",
    "import cv2\n",
    "from matplotlib import pyplot as plt\n",
    "from os.path import join\n",
    "import os\n",
    "import seaborn as sns\n",
    "import lib.utils_RSA as rsa\n",
    "from lib.algos import *\n",
    "from scipy.spatial import procrustes as scipro\n"
   ],
   "outputs": [],
   "execution_count": 96
  },
  {
   "metadata": {
    "ExecuteTime": {
     "end_time": "2025-08-07T14:46:10.678895Z",
     "start_time": "2025-08-07T14:46:10.457765Z"
    }
   },
   "cell_type": "code",
   "source": [
    "dataset = 'ecoVal'\n",
    "models  = ['ego', 'saycam', 'imagenet', 'supervised', 'random']\n",
    "path2activations = f'/data/alban/activations_datadriven/%s_{dataset}/'\n",
    "\n",
    "imagelists = {}\n",
    "activations = {}\n",
    "for model in models:\n",
    "    with open(join(path2activations%model, 'imagepaths.txt'), 'r') as f:\n",
    "        imagelists[model] = [line.strip() for line in f.readlines()]\n",
    "    activations[model] = np.load(join(path2activations % model, 'cls_tokens.npy'))\n",
    "\n"
   ],
   "id": "c3ce17a56a200a3a",
   "outputs": [],
   "execution_count": 107
  },
  {
   "metadata": {
    "ExecuteTime": {
     "end_time": "2025-08-07T14:46:12.485772Z",
     "start_time": "2025-08-07T14:46:12.482220Z"
    }
   },
   "cell_type": "code",
   "source": "activations['saycam'].shape",
   "id": "dab603f6b98f92b4",
   "outputs": [
    {
     "data": {
      "text/plain": [
       "(28250, 768)"
      ]
     },
     "execution_count": 108,
     "metadata": {},
     "output_type": "execute_result"
    }
   ],
   "execution_count": 108
  },
  {
   "metadata": {
    "ExecuteTime": {
     "end_time": "2025-08-07T14:46:00.090472Z",
     "start_time": "2025-08-07T14:45:33.889071Z"
    }
   },
   "cell_type": "code",
   "source": [
    "RDMs = {}\n",
    "for i, model in enumerate(models):\n",
    "    RDMs[model] = 1 - np.corrcoef(activations[model])\n"
   ],
   "id": "4c06003468266968",
   "outputs": [],
   "execution_count": 99
  },
  {
   "metadata": {
    "ExecuteTime": {
     "end_time": "2025-08-07T14:46:00.151688Z",
     "start_time": "2025-08-07T14:46:00.147918Z"
    }
   },
   "cell_type": "code",
   "source": [
    "SIMs = {}\n",
    "#for model in models:\n",
    "#    SIMs[model] = {}\n",
    "#for i, model1 in enumerate(models[:-1]):\n",
    "#    for j, model2 in enumerate(models[i+1:]):\n",
    "#        SIMs[model1][model2] = list()\n",
    "#        SIMs[model1][model2].append(rsa.Compute_sim_RDMs(RDMs[model1], RDMs[model2]))\n",
    "\n"
   ],
   "id": "59f033ef194f2263",
   "outputs": [],
   "execution_count": 100
  },
  {
   "metadata": {
    "ExecuteTime": {
     "end_time": "2025-08-07T14:46:00.214187Z",
     "start_time": "2025-08-07T14:46:00.209978Z"
    }
   },
   "cell_type": "code",
   "source": "SIMs",
   "id": "a29b5a139d2b5d52",
   "outputs": [
    {
     "data": {
      "text/plain": [
       "{}"
      ]
     },
     "execution_count": 101,
     "metadata": {},
     "output_type": "execute_result"
    }
   ],
   "execution_count": 101
  },
  {
   "metadata": {
    "ExecuteTime": {
     "end_time": "2025-08-07T14:46:05.196075Z",
     "start_time": "2025-08-07T14:46:00.267254Z"
    }
   },
   "cell_type": "code",
   "source": [
    "## Run custom procrustes analysis\n",
    "d, Z, T = procrustes(activations['saycam'], activations['ego'])\n",
    "## Run scipy procrustes analysis as a control\n",
    "mtx1, mtx2, dsci = scipro(activations['saycam'], activations['ego'])\n",
    "print([d, dsci])\n",
    "## --> Both algos agree with each other, and the disparity measures are pretty high (somewhat unexpectedly)"
   ],
   "id": "758afbcc9b3b9e55",
   "outputs": [
    {
     "name": "stdout",
     "output_type": "stream",
     "text": [
      "[np.float32(0.7038437), np.float64(0.7038432856958128)]\n"
     ]
    }
   ],
   "execution_count": 102
  },
  {
   "metadata": {
    "ExecuteTime": {
     "end_time": "2025-08-07T14:46:26.206394Z",
     "start_time": "2025-08-07T14:46:26.161701Z"
    }
   },
   "cell_type": "code",
   "source": [
    "### check if images were shown in the same order\n",
    "imagelists['ego'] == imagelists['saycam']\n",
    "imagelist = imagelists['ego'] # since they are the same, only consider one list\n",
    "\n",
    "#### check if each category has the same number of images\n",
    "count = 0\n",
    "cat = ''\n",
    "listcat = list()\n",
    "for i, imgp in enumerate(imagelist):\n",
    "    current_cat = imgp.split('/')[7]\n",
    "    if i == 0:\n",
    "        cat = current_cat\n",
    "        listcat.append(current_cat)\n",
    "    if cat != current_cat:\n",
    "        cat = current_cat\n",
    "        listcat.append(current_cat)\n",
    "        count = 1\n",
    "    else:\n",
    "        count += 1\n",
    "\n",
    "nb_per_cat = count # in val, 50 images per cate\n",
    "\n",
    "np.array(imagelist).reshape(-1, nb_per_cat)[0]\n",
    "\n"
   ],
   "id": "7b5b9f33a2d96da",
   "outputs": [
    {
     "data": {
      "text/plain": [
       "array(['/raid/shared/datasets/visoin/ecoset/val/0001_man/n09641002_18604.JPEG',\n",
       "       '/raid/shared/datasets/visoin/ecoset/val/0001_man/n09895480_2584.JPEG',\n",
       "       '/raid/shared/datasets/visoin/ecoset/val/0001_man/n09895480_3294.JPEG',\n",
       "       '/raid/shared/datasets/visoin/ecoset/val/0001_man/n09924195_1450.JPEG',\n",
       "       '/raid/shared/datasets/visoin/ecoset/val/0001_man/n09924195_2260.JPEG',\n",
       "       '/raid/shared/datasets/visoin/ecoset/val/0001_man/n09924195_8262.JPEG',\n",
       "       '/raid/shared/datasets/visoin/ecoset/val/0001_man/n09924195_9627.JPEG',\n",
       "       '/raid/shared/datasets/visoin/ecoset/val/0001_man/n10056719_1119.JPEG',\n",
       "       '/raid/shared/datasets/visoin/ecoset/val/0001_man/n10056719_4339.JPEG',\n",
       "       '/raid/shared/datasets/visoin/ecoset/val/0001_man/n10289039_13578.JPEG',\n",
       "       '/raid/shared/datasets/visoin/ecoset/val/0001_man/n10289039_22340.JPEG',\n",
       "       '/raid/shared/datasets/visoin/ecoset/val/0001_man/n10289039_23455.JPEG',\n",
       "       '/raid/shared/datasets/visoin/ecoset/val/0001_man/n10289039_24600.JPEG',\n",
       "       '/raid/shared/datasets/visoin/ecoset/val/0001_man/n10289039_9399.JPEG',\n",
       "       '/raid/shared/datasets/visoin/ecoset/val/0001_man/n10291822_1545.JPEG',\n",
       "       '/raid/shared/datasets/visoin/ecoset/val/0001_man/n10291822_3774.JPEG',\n",
       "       '/raid/shared/datasets/visoin/ecoset/val/0001_man/n10291822_4125.JPEG',\n",
       "       '/raid/shared/datasets/visoin/ecoset/val/0001_man/n10291822_8676.JPEG',\n",
       "       '/raid/shared/datasets/visoin/ecoset/val/0001_man/n10375402_14782.JPEG',\n",
       "       '/raid/shared/datasets/visoin/ecoset/val/0001_man/n10375402_18154.JPEG',\n",
       "       '/raid/shared/datasets/visoin/ecoset/val/0001_man/n10375402_18561.JPEG',\n",
       "       '/raid/shared/datasets/visoin/ecoset/val/0001_man/n10375402_2359.JPEG',\n",
       "       '/raid/shared/datasets/visoin/ecoset/val/0001_man/n10375402_24073.JPEG',\n",
       "       '/raid/shared/datasets/visoin/ecoset/val/0001_man/n10375402_26021.JPEG',\n",
       "       '/raid/shared/datasets/visoin/ecoset/val/0001_man/n10375402_31973.JPEG',\n",
       "       '/raid/shared/datasets/visoin/ecoset/val/0001_man/n10375402_34640.JPEG',\n",
       "       '/raid/shared/datasets/visoin/ecoset/val/0001_man/n10375402_39641.JPEG',\n",
       "       '/raid/shared/datasets/visoin/ecoset/val/0001_man/n10375402_45105.JPEG',\n",
       "       '/raid/shared/datasets/visoin/ecoset/val/0001_man/n10375402_4833.JPEG',\n",
       "       '/raid/shared/datasets/visoin/ecoset/val/0001_man/n10375402_6614.JPEG',\n",
       "       '/raid/shared/datasets/visoin/ecoset/val/0001_man/n10375402_8590.JPEG',\n",
       "       '/raid/shared/datasets/visoin/ecoset/val/0001_man/n10483395_173.JPEG',\n",
       "       '/raid/shared/datasets/visoin/ecoset/val/0001_man/n10791221_13850.JPEG',\n",
       "       '/raid/shared/datasets/visoin/ecoset/val/0001_man/n10791221_23604.JPEG',\n",
       "       '/raid/shared/datasets/visoin/ecoset/val/0001_man/n10791221_24769.JPEG',\n",
       "       '/raid/shared/datasets/visoin/ecoset/val/0001_man/n10791221_28177.JPEG',\n",
       "       '/raid/shared/datasets/visoin/ecoset/val/0001_man/n10791221_38931.JPEG',\n",
       "       '/raid/shared/datasets/visoin/ecoset/val/0001_man/n10791221_49173.JPEG',\n",
       "       '/raid/shared/datasets/visoin/ecoset/val/0001_man/n10804287_10834.JPEG',\n",
       "       '/raid/shared/datasets/visoin/ecoset/val/0001_man/n10804287_16031.JPEG',\n",
       "       '/raid/shared/datasets/visoin/ecoset/val/0001_man/n10804287_16285.JPEG',\n",
       "       '/raid/shared/datasets/visoin/ecoset/val/0001_man/n10804287_2800.JPEG',\n",
       "       '/raid/shared/datasets/visoin/ecoset/val/0001_man/n10804287_33226.JPEG',\n",
       "       '/raid/shared/datasets/visoin/ecoset/val/0001_man/n10804287_3486.JPEG',\n",
       "       '/raid/shared/datasets/visoin/ecoset/val/0001_man/n10804287_37457.JPEG',\n",
       "       '/raid/shared/datasets/visoin/ecoset/val/0001_man/n10804287_39048.JPEG',\n",
       "       '/raid/shared/datasets/visoin/ecoset/val/0001_man/n10804287_45846.JPEG',\n",
       "       '/raid/shared/datasets/visoin/ecoset/val/0001_man/n10804287_5053.JPEG',\n",
       "       '/raid/shared/datasets/visoin/ecoset/val/0001_man/n10804287_6549.JPEG',\n",
       "       '/raid/shared/datasets/visoin/ecoset/val/0001_man/n10804287_7659.JPEG'],\n",
       "      dtype='<U93')"
      ]
     },
     "execution_count": 109,
     "metadata": {},
     "output_type": "execute_result"
    }
   ],
   "execution_count": 109
  },
  {
   "metadata": {
    "ExecuteTime": {
     "end_time": "2025-08-07T14:46:28.500840Z",
     "start_time": "2025-08-07T14:46:28.111360Z"
    }
   },
   "cell_type": "code",
   "source": [
    "### reshape activations according to categoreis\n",
    "shape = activations[models[0]].shape\n",
    "cat_activations = activations.copy()\n",
    "for model in models:\n",
    "  cat_activations[model] = cat_activations[model].reshape(-1, nb_per_cat, shape[-1])\n",
    "\n",
    "### do some stats\n",
    "sorted_stats = {}\n",
    "sorted_cats = {}\n",
    "for model in models:\n",
    "    std = np.std(cat_activations[model], axis = (0,1))\n",
    "    cat_std = np.std(cat_activations[model], axis = 1)\n",
    "    normalized_cat_std = cat_std/std\n",
    "    mean_normalized_cat_std = normalized_cat_std.mean(-1)\n",
    "    sorted_stats[model] = np.sort(mean_normalized_cat_std)\n",
    "    sorted_cats[model] = np.array(listcat)[np.argsort(mean_normalized_cat_std)]"
   ],
   "id": "a8259fce1c6c20ae",
   "outputs": [],
   "execution_count": 110
  },
  {
   "metadata": {
    "ExecuteTime": {
     "end_time": "2025-08-07T14:46:30.182208Z",
     "start_time": "2025-08-07T14:46:30.165861Z"
    }
   },
   "cell_type": "code",
   "source": [
    "import math\n",
    "def plot_stats(SIMs, submodels, labels = ['label1', 'label2']):\n",
    "    '''plot the similarities as a function of layer depth.\n",
    "    Plot is a subplot of adaptative size, depending on the length of the list submodel given.\n",
    "    '''\n",
    "    nb_subs = len(submodels) # Number of subs\n",
    "    sqrt = np.sqrt(nb_subs)\n",
    "    cols = math.ceil(sqrt)\n",
    "    rows = math.ceil(nb_subs // sqrt)\n",
    "    while (cols*rows)<(nb_subs):\n",
    "        rows =rows + 1 ## compute the number of columns and rows\n",
    "    fig, subs = plt.subplots(rows,cols, sharex=True, sharey=True, figsize=(cols*2+1, rows*2+1)) # adaptative size\n",
    "    count = 0\n",
    "    minval = 1\n",
    "    maxval = 0\n",
    "    for i, model in enumerate(submodels):\n",
    "        minval = min(minval, np.amin(SIMs[model]))\n",
    "        maxval = max(maxval, np.amax(SIMs[model]))\n",
    "        if rows ==1:\n",
    "            subs[count%cols].plot(SIMs[model])\n",
    "            subs[count%cols].set_title(f'{model}')\n",
    "        else:\n",
    "            subs[count//cols, count%cols].plot(SIMs[model])\n",
    "            subs[count//cols, count%cols].set_title(f'{model}')\n",
    "            count+=1\n",
    "    plt.ylim(np.round(minval,1)-0.1, np.round(maxval,1)+0.1)\n",
    "    if rows == 1:\n",
    "        subs[0].set_ylabel(labels[1])\n",
    "        for sub in subs:\n",
    "            sub.set_xlabel(labels[0])\n",
    "    else:\n",
    "        for sub in subs[-1]:\n",
    "            sub.set_xlabel(labels[0])\n",
    "        for sub in subs[:,0]:\n",
    "            sub.set_ylabel(labels[1])\n",
    "    fig.tight_layout()\n",
    "    plt.show()\n",
    "    plt.close()"
   ],
   "id": "f3b61390c6ab2f00",
   "outputs": [],
   "execution_count": 111
  },
  {
   "metadata": {
    "ExecuteTime": {
     "end_time": "2025-08-07T14:46:32.625071Z",
     "start_time": "2025-08-07T14:46:32.172613Z"
    }
   },
   "cell_type": "code",
   "source": [
    "plot_stats(sorted_stats,models,  ['Categories', 'Normalized std'])\n",
    "for model in models:\n",
    "    print(sorted_cats[model][:20])\n",
    "for model in models:\n",
    "    print(sorted_cats[model][-20:])"
   ],
   "id": "a3efff8bc5c76ddc",
   "outputs": [
    {
     "data": {
      "text/plain": [
       "<Figure size 700x500 with 6 Axes>"
      ],
      "image/png": "[encoded data removed]"
     },
     "metadata": {},
     "output_type": "display_data"
    },
    {
     "name": "stdout",
     "output_type": "stream",
     "text": [
      "['2400_geyser' '2144_newsstand' '0089_bus' '0517_bumblebee'\n",
      " '0659_carousel' '0617_taco' '0082_kitchen' '0857_waterfall' '0009_car'\n",
      " '1335_dragonfly' '1073_fireworks' '0240_microscope' '0443_snowplow'\n",
      " '1655_steamroller' '1892_panda' '1043_mall' '0265_steak' '0209_leopard'\n",
      " '0137_train' '1156_nacho']\n",
      "['1892_panda' '2400_geyser' '1515_waterspout' '1367_sphinx' '0082_kitchen'\n",
      " '2112_photocopier' '1135_hamster' '1612_forklift' '0185_hamburger'\n",
      " '1787_koala' '0857_waterfall' '0488_iceberg' '0443_snowplow'\n",
      " '1073_fireworks' '0257_burrito' '0265_steak' '0617_taco' '1409_brownie'\n",
      " '0292_lion' '1245_custard']\n",
      "['2400_geyser' '0443_snowplow' '0082_kitchen' '0847_jaguar' '1367_sphinx'\n",
      " '1892_panda' '0857_waterfall' '1515_waterspout' '0240_microscope'\n",
      " '1335_dragonfly' '2144_newsstand' '2972_rainbow' '0764_gondola'\n",
      " '0089_bus' '0867_bulldozer' '0617_taco' '1612_forklift' '1374_canyon'\n",
      " '1129_zebra' '2009_graffiti']\n",
      "['0847_jaguar' '0240_microscope' '1892_panda' '2527_helicopter'\n",
      " '0209_leopard' '2098_odometer' '2017_giraffe' '2186_cheetah' '1129_zebra'\n",
      " '2112_photocopier' '1247_wristwatch' '0466_lighthouse' '1264_mantis'\n",
      " '2400_geyser' '0168_elephant' '1829_blimp' '0764_gondola' '0132_tiger'\n",
      " '0473_piano' '0292_lion']\n",
      "['1073_fireworks' '0156_moon' '2112_photocopier' '0047_fire'\n",
      " '2673_gearshift' '0488_iceberg' '1515_waterspout' '2527_helicopter'\n",
      " '0353_whale' '1123_scissors' '1156_nacho' '2098_odometer' '1634_earpiece'\n",
      " '0909_flea' '1418_casino' '0393_lake' '2187_salsa' '1461_submarine'\n",
      " '0093_pizza' '0471_dolphin']\n",
      "['0955_cane' '0564_envelope' '0364_necklace' '0555_matchstick'\n",
      " '2712_drain' '1899_microchip' '1602_chandelier' '1593_wire' '1840_tray'\n",
      " '1294_curtain' '1158_fence' '0553_paperclip' '1475_hanger' '2505_ruler'\n",
      " '0273_horseshoe' '0330_lightbulb' '1087_ceiling' '0158_blanket'\n",
      " '1385_doormat' '1427_grate']\n",
      "['1396_scaffolding' '0533_seashell' '0478_blueberry' '0131_wall'\n",
      " '2092_honeycomb' '1087_ceiling' '0273_horseshoe' '0158_blanket'\n",
      " '0787_cashew' '1593_wire' '1235_mistletoe' '2829_winterberry'\n",
      " '2460_macadamia' '0828_pea' '0553_paperclip' '1158_fence' '2929_hazelnut'\n",
      " '0484_cranberry' '1427_grate' '0266_gravel']\n",
      "['1899_microchip' '1206_anteater' '2906_cassette' '0743_candy'\n",
      " '2092_honeycomb' '1704_burner' '0045_ball' '0052_fish' '2505_ruler'\n",
      " '0533_seashell' '1158_fence' '0333_corn' '0163_lemon' '1700_radiator'\n",
      " '0025_phone' '0740_worm' '0337_spider' '0555_matchstick' '0118_snake'\n",
      " '1427_grate']\n",
      "['0846_pencil' '0141_cookie' '0482_thermometer' '0511_needle'\n",
      " '1024_coffin' '1670_breadfruit' '0274_antelope' '1427_grate'\n",
      " '1889_antenna' '0052_fish' '1385_doormat' '2651_tapioca' '0836_chalk'\n",
      " '2712_drain' '2783_bubble' '0740_worm' '0045_ball' '0801_razor'\n",
      " '0743_candy' '1206_anteater']\n",
      "['1475_hanger' '2090_beaker' '0158_blanket' '0045_ball' '1346_beetle'\n",
      " '0116_flower' '1745_earwig' '0994_hare' '0076_cup' '1185_tadpole'\n",
      " '0337_spider' '1264_mantis' '0273_horseshoe' '0085_bird' '0740_worm'\n",
      " '1076_ant' '0118_snake' '0511_needle' '1063_knot' '1470_syringe']\n"
     ]
    }
   ],
   "execution_count": 112
  },
  {
   "metadata": {
    "ExecuteTime": {
     "end_time": "2025-08-07T14:53:24.320335Z",
     "start_time": "2025-08-07T14:53:24.313376Z"
    }
   },
   "cell_type": "code",
   "source": [
    "def check_list_similarity(list1, list2):\n",
    "    '''Checks if two lists contain the same elements, regardless of order,\n",
    "    and calculates the proportion of common elements.'''\n",
    "    set1 = set(list1)\n",
    "    set2 = set(list2)\n",
    "    common_elements = set1 & set2  # Intersection of sets\n",
    "    proportion = (len(common_elements) / max(len(set1), len(set2))) * 100 if max(len(set1), len(set2)) > 0 else 0\n",
    "    return set1 == set2, f\"{proportion:.2f}%\"\n",
    "\n",
    "for model in models[:]:\n",
    "    print(check_list_similarity(sorted_cats['saycam'][:50],sorted_cats[model][:50]))\n",
    "\n",
    "for model in models[:]:\n",
    "    print(check_list_similarity(sorted_cats['ego'][:50],sorted_cats[model][:50]))\n"
   ],
   "id": "f3866c57d9816395",
   "outputs": [
    {
     "name": "stdout",
     "output_type": "stream",
     "text": [
      "(False, '52.00%')\n",
      "(True, '100.00%')\n",
      "(False, '48.00%')\n",
      "(False, '24.00%')\n",
      "(False, '30.00%')\n",
      "(True, '100.00%')\n",
      "(False, '52.00%')\n",
      "(False, '60.00%')\n",
      "(False, '32.00%')\n",
      "(False, '32.00%')\n"
     ]
    }
   ],
   "execution_count": 117
  },
  {
   "metadata": {},
   "cell_type": "code",
   "outputs": [],
   "execution_count": null,
   "source": "",
   "id": "a208ff875881a959"
  }
 ],
 "metadata": {
  "kernelspec": {
   "display_name": "Python 3",
   "language": "python",
   "name": "python3"
  },
  "language_info": {
   "codemirror_mode": {
    "name": "ipython",
    "version": 2
   },
   "file_extension": ".py",
   "mimetype": "text/x-python",
   "name": "python",
   "nbconvert_exporter": "python",
   "pygments_lexer": "ipython2",
   "version": "2.7.6"
  }
 },
 "nbformat": 4,
 "nbformat_minor": 5
}
