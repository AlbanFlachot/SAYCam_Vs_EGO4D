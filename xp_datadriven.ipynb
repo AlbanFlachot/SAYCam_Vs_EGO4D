{
 "cells": [
  {
   "cell_type": "code",
   "id": "initial_id",
   "metadata": {
    "collapsed": true,
    "ExecuteTime": {
     "end_time": "2025-08-11T15:49:00.508451Z",
     "start_time": "2025-08-11T15:49:00.487163Z"
    }
   },
   "source": [
    "import numpy as np\n",
    "import cv2\n",
    "from matplotlib import pyplot as plt\n",
    "from os.path import join\n",
    "import os\n",
    "import seaborn as sns\n",
    "import lib.utils_RSA as rsa\n",
    "from lib.algos import *\n",
    "from scipy.spatial import procrustes as scipro\n"
   ],
   "outputs": [],
   "execution_count": 35
  },
  {
   "metadata": {
    "ExecuteTime": {
     "end_time": "2025-08-11T15:49:01.108288Z",
     "start_time": "2025-08-11T15:49:00.556980Z"
    }
   },
   "cell_type": "code",
   "source": [
    "dataset = 'ecoVal'\n",
    "models  = ['ego', 'saycam', 'imagenet', 'supervised', 'random']\n",
    "path2activations = f'/data/alban/activations_datadriven/%s_{dataset}/'\n",
    "\n",
    "imagelists = {}\n",
    "activations = {}\n",
    "for model in models:\n",
    "    with open(join(path2activations%model, 'imagepaths.txt'), 'r') as f:\n",
    "        imagelists[model] = [line.strip() for line in f.readlines()]\n",
    "    activations[model] = np.load(join(path2activations % model, 'cls_tokens.npy'))\n",
    "\n"
   ],
   "id": "c3ce17a56a200a3a",
   "outputs": [],
   "execution_count": 36
  },
  {
   "metadata": {
    "ExecuteTime": {
     "end_time": "2025-08-11T15:49:01.164842Z",
     "start_time": "2025-08-11T15:49:01.159250Z"
    }
   },
   "cell_type": "code",
   "source": "activations['saycam'].shape",
   "id": "dab603f6b98f92b4",
   "outputs": [
    {
     "data": {
      "text/plain": [
       "(28250, 768)"
      ]
     },
     "execution_count": 37,
     "metadata": {},
     "output_type": "execute_result"
    }
   ],
   "execution_count": 37
  },
  {
   "metadata": {
    "ExecuteTime": {
     "end_time": "2025-08-11T15:49:45.854861Z",
     "start_time": "2025-08-11T15:49:01.225544Z"
    }
   },
   "cell_type": "code",
   "source": [
    "RDMs = {}\n",
    "for i, model in enumerate(models):\n",
    "    RDMs[model] = 1 - np.corrcoef(activations[model])\n"
   ],
   "id": "4c06003468266968",
   "outputs": [],
   "execution_count": 38
  },
  {
   "metadata": {
    "ExecuteTime": {
     "end_time": "2025-08-11T15:49:45.941754Z",
     "start_time": "2025-08-11T15:49:45.928005Z"
    }
   },
   "cell_type": "code",
   "source": [
    "SIMs = {}\n",
    "#for model in models:\n",
    "#    SIMs[model] = {}\n",
    "#for i, model1 in enumerate(models[:-1]):\n",
    "#    for j, model2 in enumerate(models[i+1:]):\n",
    "#        SIMs[model1][model2] = list()\n",
    "#        SIMs[model1][model2].append(rsa.Compute_sim_RDMs(RDMs[model1], RDMs[model2]))\n",
    "\n"
   ],
   "id": "59f033ef194f2263",
   "outputs": [],
   "execution_count": 39
  },
  {
   "metadata": {
    "ExecuteTime": {
     "end_time": "2025-08-11T15:49:46.053840Z",
     "start_time": "2025-08-11T15:49:46.038217Z"
    }
   },
   "cell_type": "code",
   "source": "SIMs",
   "id": "a29b5a139d2b5d52",
   "outputs": [
    {
     "data": {
      "text/plain": [
       "{}"
      ]
     },
     "execution_count": 40,
     "metadata": {},
     "output_type": "execute_result"
    }
   ],
   "execution_count": 40
  },
  {
   "metadata": {
    "ExecuteTime": {
     "end_time": "2025-08-11T15:50:01.669795Z",
     "start_time": "2025-08-11T15:49:46.154727Z"
    }
   },
   "cell_type": "code",
   "source": [
    "## Run custom procrustes analysis\n",
    "d, Z, T = procrustes(activations['saycam'], activations['ego'])\n",
    "## Run scipy procrustes analysis as a control\n",
    "mtx1, mtx2, dsci = scipro(activations['saycam'], activations['ego'])\n",
    "print([d, dsci])\n",
    "## --> Both algos agree with each other, and the disparity measures are pretty high (somewhat unexpectedly)"
   ],
   "id": "758afbcc9b3b9e55",
   "outputs": [
    {
     "name": "stdout",
     "output_type": "stream",
     "text": [
      "[np.float32(0.7038437), np.float64(0.7038432856958128)]\n"
     ]
    }
   ],
   "execution_count": 41
  },
  {
   "metadata": {
    "ExecuteTime": {
     "end_time": "2025-08-11T16:32:33.211661Z",
     "start_time": "2025-08-11T16:32:33.184575Z"
    }
   },
   "cell_type": "code",
   "source": [
    "### check if images were shown in the same order\n",
    "imagelists['ego'] == imagelists['saycam']\n",
    "imagelist = imagelists['ego'] # since they are the same, only consider one list\n",
    "\n",
    "#### check if each category has the same number of images\n",
    "count = 0\n",
    "cat = ''\n",
    "listcat = list()\n",
    "for i, imgp in enumerate(imagelist):\n",
    "    current_cat = imgp.split('/')[7]\n",
    "    if i == 0:\n",
    "        cat = current_cat\n",
    "        listcat.append(current_cat)\n",
    "    if cat != current_cat:\n",
    "        cat = current_cat\n",
    "        listcat.append(current_cat)\n",
    "        count = 1\n",
    "    else:\n",
    "        count += 1\n",
    "\n",
    "nb_per_cat = count # in val, 50 images per cate\n",
    "\n",
    "#np.array(imagelist).reshape(-1, nb_per_cat)[0]"
   ],
   "id": "7b5b9f33a2d96da",
   "outputs": [],
   "execution_count": 77
  },
  {
   "metadata": {
    "ExecuteTime": {
     "end_time": "2025-08-11T17:01:20.999322Z",
     "start_time": "2025-08-11T17:01:20.345602Z"
    }
   },
   "cell_type": "code",
   "source": [
    "### reshape activations according to categoreis\n",
    "shape = activations[models[0]].shape\n",
    "\n",
    "cat_activations = activations.copy()\n",
    "\n",
    "for model in models:\n",
    "  cat_activations[model] = cat_activations[model].reshape(-1, nb_per_cat, shape[-1])\n",
    "\n",
    "### Compute the activation variance within a category and normalize by the average variance\n",
    "sorted_stats = {}\n",
    "sorted_cats = {}\n",
    "for model in models:\n",
    "    var = np.var(cat_activations[model], axis = (0,1))\n",
    "    cat_var = np.var(cat_activations[model], axis = 1)\n",
    "    normalized_cat_var = cat_var/var\n",
    "    mean_normalized_cat_var = normalized_cat_var.mean(-1)\n",
    "    sorted_stats[model] = np.sort(mean_normalized_cat_var)\n",
    "    sorted_cats[model] = np.array(listcat)[np.argsort(mean_normalized_cat_var)]"
   ],
   "id": "a8259fce1c6c20ae",
   "outputs": [],
   "execution_count": 81
  },
  {
   "metadata": {
    "ExecuteTime": {
     "end_time": "2025-08-11T15:50:02.293352Z",
     "start_time": "2025-08-11T15:50:02.280928Z"
    }
   },
   "cell_type": "code",
   "source": [
    "import math\n",
    "def plot_stats(SIMs, submodels, labels = ['label1', 'label2']):\n",
    "    '''plot the similarities as a function of layer depth.\n",
    "    Plot is a subplot of adaptative size, depending on the length of the list submodel given.\n",
    "    '''\n",
    "    nb_subs = len(submodels) # Number of subs\n",
    "    sqrt = np.sqrt(nb_subs)\n",
    "    cols = math.ceil(sqrt)\n",
    "    rows = math.ceil(nb_subs // sqrt)\n",
    "    while (cols*rows)<(nb_subs):\n",
    "        rows =rows + 1 ## compute the number of columns and rows\n",
    "    fig, subs = plt.subplots(rows,cols, sharex=True, sharey=True, figsize=(cols*2+1, rows*2+1)) # adaptative size\n",
    "    count = 0\n",
    "    minval = 1\n",
    "    maxval = 0\n",
    "    for i, model in enumerate(submodels):\n",
    "        minval = min(minval, np.amin(SIMs[model]))\n",
    "        maxval = max(maxval, np.amax(SIMs[model]))\n",
    "        if rows ==1:\n",
    "            subs[count%cols].plot(SIMs[model])\n",
    "            subs[count%cols].set_title(f'{model}')\n",
    "        else:\n",
    "            subs[count//cols, count%cols].plot(SIMs[model])\n",
    "            subs[count//cols, count%cols].set_title(f'{model}')\n",
    "            count+=1\n",
    "    plt.ylim(np.round(minval,1)-0.1, np.round(maxval,1)+0.1)\n",
    "    if rows == 1:\n",
    "        subs[0].set_ylabel(labels[1])\n",
    "        for sub in subs:\n",
    "            sub.set_xlabel(labels[0])\n",
    "    else:\n",
    "        for sub in subs[-1]:\n",
    "            sub.set_xlabel(labels[0])\n",
    "        for sub in subs[:,0]:\n",
    "            sub.set_ylabel(labels[1])\n",
    "    fig.tight_layout()\n",
    "    plt.show()\n",
    "    plt.close()"
   ],
   "id": "f3b61390c6ab2f00",
   "outputs": [],
   "execution_count": 44
  },
  {
   "metadata": {
    "ExecuteTime": {
     "end_time": "2025-08-11T15:53:45.789842Z",
     "start_time": "2025-08-11T15:53:45.038621Z"
    }
   },
   "cell_type": "code",
   "source": [
    "plot_stats(sorted_stats,models,  ['Categories', 'Normalized var'])\n",
    "for model in models:\n",
    "    print(sorted_cats[model][:20])\n",
    "for model in models:\n",
    "    print(sorted_cats[model][-20:])"
   ],
   "id": "a3efff8bc5c76ddc",
   "outputs": [
    {
     "data": {
      "text/plain": [
       "<Figure size 700x500 with 6 Axes>"
      ],
      "image/png": "[encoded data removed]"
     },
     "metadata": {},
     "output_type": "display_data"
    },
    {
     "name": "stdout",
     "output_type": "stream",
     "text": [
      "['2400_geyser' '2144_newsstand' '0089_bus' '0517_bumblebee'\n",
      " '0659_carousel' '0617_taco' '0082_kitchen' '0857_waterfall' '0009_car'\n",
      " '1335_dragonfly' '0443_snowplow' '0240_microscope' '1655_steamroller'\n",
      " '1892_panda' '1073_fireworks' '1043_mall' '0265_steak' '0209_leopard'\n",
      " '0137_train' '1156_nacho']\n",
      "['1892_panda' '2400_geyser' '1515_waterspout' '0082_kitchen' '1367_sphinx'\n",
      " '1135_hamster' '2112_photocopier' '1612_forklift' '0185_hamburger'\n",
      " '1787_koala' '0857_waterfall' '0488_iceberg' '0443_snowplow'\n",
      " '0257_burrito' '0265_steak' '1073_fireworks' '0617_taco' '1409_brownie'\n",
      " '1245_custard' '0292_lion']\n",
      "['2400_geyser' '0082_kitchen' '0443_snowplow' '0847_jaguar' '1367_sphinx'\n",
      " '1892_panda' '0857_waterfall' '1515_waterspout' '0240_microscope'\n",
      " '1335_dragonfly' '2972_rainbow' '2144_newsstand' '0764_gondola'\n",
      " '0867_bulldozer' '0089_bus' '0617_taco' '1612_forklift' '1374_canyon'\n",
      " '2009_graffiti' '1787_koala']\n",
      "['0847_jaguar' '0240_microscope' '1892_panda' '2527_helicopter'\n",
      " '2017_giraffe' '2098_odometer' '0209_leopard' '2186_cheetah'\n",
      " '1247_wristwatch' '2112_photocopier' '1129_zebra' '0466_lighthouse'\n",
      " '1264_mantis' '0168_elephant' '2400_geyser' '1829_blimp' '0764_gondola'\n",
      " '0132_tiger' '0473_piano' '0292_lion']\n",
      "['1073_fireworks' '0156_moon' '2112_photocopier' '2673_gearshift'\n",
      " '0047_fire' '0488_iceberg' '1515_waterspout' '2527_helicopter'\n",
      " '0353_whale' '1156_nacho' '1123_scissors' '2098_odometer' '0909_flea'\n",
      " '1634_earpiece' '1418_casino' '2187_salsa' '1461_submarine' '0393_lake'\n",
      " '0093_pizza' '0471_dolphin']\n",
      "['0955_cane' '0555_matchstick' '0364_necklace' '0564_envelope'\n",
      " '2712_drain' '1899_microchip' '1602_chandelier' '1593_wire' '1840_tray'\n",
      " '1294_curtain' '1158_fence' '0553_paperclip' '2505_ruler'\n",
      " '0273_horseshoe' '1475_hanger' '0330_lightbulb' '1087_ceiling'\n",
      " '0158_blanket' '1385_doormat' '1427_grate']\n",
      "['1396_scaffolding' '0533_seashell' '0131_wall' '0478_blueberry'\n",
      " '2092_honeycomb' '1087_ceiling' '0273_horseshoe' '0158_blanket'\n",
      " '0787_cashew' '1593_wire' '2829_winterberry' '1235_mistletoe'\n",
      " '2460_macadamia' '0828_pea' '0553_paperclip' '1158_fence'\n",
      " '0484_cranberry' '2929_hazelnut' '1427_grate' '0266_gravel']\n",
      "['0484_cranberry' '0743_candy' '2906_cassette' '1704_burner'\n",
      " '2092_honeycomb' '1206_anteater' '0052_fish' '0045_ball' '0533_seashell'\n",
      " '2505_ruler' '1158_fence' '0333_corn' '1700_radiator' '0163_lemon'\n",
      " '0025_phone' '0740_worm' '0555_matchstick' '0337_spider' '1427_grate'\n",
      " '0118_snake']\n",
      "['0846_pencil' '1531_spacecraft' '0511_needle' '0482_thermometer'\n",
      " '1024_coffin' '1427_grate' '0052_fish' '0274_antelope' '1385_doormat'\n",
      " '1889_antenna' '1670_breadfruit' '2651_tapioca' '0836_chalk'\n",
      " '2783_bubble' '0740_worm' '2712_drain' '0045_ball' '0743_candy'\n",
      " '0801_razor' '1206_anteater']\n",
      "['0045_ball' '0158_blanket' '0555_matchstick' '1475_hanger' '1745_earwig'\n",
      " '0076_cup' '1346_beetle' '0116_flower' '0994_hare' '0273_horseshoe'\n",
      " '0085_bird' '0740_worm' '1185_tadpole' '1264_mantis' '0337_spider'\n",
      " '0511_needle' '1076_ant' '0118_snake' '1470_syringe' '1063_knot']\n"
     ]
    }
   ],
   "execution_count": 49
  },
  {
   "metadata": {
    "ExecuteTime": {
     "end_time": "2025-08-11T16:36:16.899570Z",
     "start_time": "2025-08-11T16:36:16.891633Z"
    }
   },
   "cell_type": "code",
   "source": [
    "def check_list_similarity(list1, list2):\n",
    "    '''Checks if two lists contain the same elements, regardless of order,\n",
    "    and calculates the proportion of common elements.'''\n",
    "    set1 = set(list1)\n",
    "    set2 = set(list2)\n",
    "    common_elements = set1 & set2  # Intersection of sets\n",
    "    proportion = (len(common_elements) / max(len(set1), len(set2))) * 100 if max(len(set1), len(set2)) > 0 else 0\n",
    "    return proportion\n",
    "\n",
    "print('\\nSimilarities saycam and the others')\n",
    "for model in models[:]:\n",
    "    print(check_list_similarity(sorted_cats['saycam'][:50],sorted_cats[model][:50]))\n",
    "\n",
    "print('\\nSimilarities ego and the others')\n",
    "for model in models[:]:\n",
    "    print(check_list_similarity(sorted_cats['ego'][:50],sorted_cats[model][:50]))\n",
    "\n",
    "print('\\nSimilarities imagenet and the others')\n",
    "for model in models[:]:\n",
    "    print(check_list_similarity(sorted_cats['imagenet'][:50],sorted_cats[model][:50]))\n",
    "\n",
    "print('\\nSimilarities supervised and the others')\n",
    "for model in models[:]:\n",
    "    print(check_list_similarity(sorted_cats['supervised'][:50],sorted_cats[model][:50]))"
   ],
   "id": "f3866c57d9816395",
   "outputs": [
    {
     "name": "stdout",
     "output_type": "stream",
     "text": [
      "\n",
      "Similarities saycam and the others\n",
      "52.0\n",
      "100.0\n",
      "50.0\n",
      "26.0\n",
      "32.0\n",
      "\n",
      "Similarities ego and the others\n",
      "100.0\n",
      "52.0\n",
      "57.99999999999999\n",
      "30.0\n",
      "30.0\n",
      "\n",
      "Similarities imagenet and the others\n",
      "57.99999999999999\n",
      "50.0\n",
      "100.0\n",
      "34.0\n",
      "34.0\n",
      "\n",
      "Similarities supervised and the others\n",
      "30.0\n",
      "26.0\n",
      "34.0\n",
      "100.0\n",
      "22.0\n"
     ]
    }
   ],
   "execution_count": 80
  },
  {
   "metadata": {
    "ExecuteTime": {
     "end_time": "2025-08-11T16:31:29.828727Z",
     "start_time": "2025-08-11T16:31:27.801946Z"
    }
   },
   "cell_type": "code",
   "source": [
    "### Compute 500 random sequence for significance\n",
    "# initialize sequences\n",
    "nb_trials = 500\n",
    "idx_vec = np.array(range(len(listcat)))\n",
    "mat_vec = np.zeros((nb_trials, len(idx_vec)))\n",
    "for i in range(nb_trials):\n",
    "    np.random.shuffle(idx_vec)\n",
    "    mat_vec[i] = idx_vec\n",
    "\n",
    "#Compute all possible similarity pairs\n",
    "list_sim = []\n",
    "for i in range(len(mat_vec)-1):\n",
    "    for j in range(i+1,len(mat_vec)):\n",
    "        list_sim.append(check_list_similarity(list(mat_vec[i][:50]), list(mat_vec[j][:50])))\n",
    "\n",
    "# Compute 95 percentile\n",
    "confinter = np.percentile(list_sim, 95)\n",
    "print(f'The 95% confidence interval is:{confinter}')"
   ],
   "id": "a208ff875881a959",
   "outputs": [
    {
     "name": "stdout",
     "output_type": "stream",
     "text": [
      "The 95% confidence interval is:16.0\n"
     ]
    }
   ],
   "execution_count": 76
  },
  {
   "metadata": {
    "ExecuteTime": {
     "end_time": "2025-08-11T17:19:58.663984Z",
     "start_time": "2025-08-11T17:19:58.635926Z"
    }
   },
   "cell_type": "code",
   "source": [
    "### Compute the 10 categories that lead to the highest difference between models\n",
    "nb_categories = cat_activations[models[0]].shape[0]\n",
    "ori_cat = np.arange(0,nb_categories)\n",
    "comp_cat = np.zeros(nb_categories)\n",
    "for c, cat in enumerate(sorted_cats['saycam']):\n",
    "    comp_cat[c] = sorted_cats['ego'].tolist().index(cat)\n",
    "\n",
    "\n",
    "diff = np.absolute(comp_cat - ori_cat)\n",
    "maxdiffcats = np.array(listcat)[np.argsort(-diff)]\n",
    "maxdiffs = np.sort(diff)[::-1]\n",
    "print(f'The cats leading to the max differences between ego and saycam are {maxdiffcats[:10]}')\n",
    "print(f'Labels are {np.argsort(-diff)[:10]}')\n",
    "print(f'With differences in ranking of  {maxdiffs[:10]}')\n",
    "\n"
   ],
   "id": "ca507154b6d8ba90",
   "outputs": [
    {
     "name": "stdout",
     "output_type": "stream",
     "text": [
      "The cats leading to the max differences between ego and saycam are ['1989_joystick' '2002_wand' '1602_chandelier' '0464_lime' '2159_reef'\n",
      " '2720_artichoke' '1707_llama' '2555_manatee' '2364_robot'\n",
      " '1649_strongbox']\n",
      "Labels are [483 485 431 168 500 548 450 534 521 440]\n",
      "With differences in ranking of  [430. 388. 365. 362. 356. 348. 329. 309. 304. 300.]\n"
     ]
    }
   ],
   "execution_count": 93
  },
  {
   "metadata": {
    "ExecuteTime": {
     "end_time": "2025-08-11T17:14:31.112573Z",
     "start_time": "2025-08-11T17:14:31.087428Z"
    }
   },
   "cell_type": "code",
   "source": "ori_cat",
   "id": "134c198565003e",
   "outputs": [
    {
     "data": {
      "text/plain": [
       "array([  0,   1,   2,   3,   4,   5,   6,   7,   8,   9,  10,  11,  12,\n",
       "        13,  14,  15,  16,  17,  18,  19,  20,  21,  22,  23,  24,  25,\n",
       "        26,  27,  28,  29,  30,  31,  32,  33,  34,  35,  36,  37,  38,\n",
       "        39,  40,  41,  42,  43,  44,  45,  46,  47,  48,  49,  50,  51,\n",
       "        52,  53,  54,  55,  56,  57,  58,  59,  60,  61,  62,  63,  64,\n",
       "        65,  66,  67,  68,  69,  70,  71,  72,  73,  74,  75,  76,  77,\n",
       "        78,  79,  80,  81,  82,  83,  84,  85,  86,  87,  88,  89,  90,\n",
       "        91,  92,  93,  94,  95,  96,  97,  98,  99, 100, 101, 102, 103,\n",
       "       104, 105, 106, 107, 108, 109, 110, 111, 112, 113, 114, 115, 116,\n",
       "       117, 118, 119, 120, 121, 122, 123, 124, 125, 126, 127, 128, 129,\n",
       "       130, 131, 132, 133, 134, 135, 136, 137, 138, 139, 140, 141, 142,\n",
       "       143, 144, 145, 146, 147, 148, 149, 150, 151, 152, 153, 154, 155,\n",
       "       156, 157, 158, 159, 160, 161, 162, 163, 164, 165, 166, 167, 168,\n",
       "       169, 170, 171, 172, 173, 174, 175, 176, 177, 178, 179, 180, 181,\n",
       "       182, 183, 184, 185, 186, 187, 188, 189, 190, 191, 192, 193, 194,\n",
       "       195, 196, 197, 198, 199, 200, 201, 202, 203, 204, 205, 206, 207,\n",
       "       208, 209, 210, 211, 212, 213, 214, 215, 216, 217, 218, 219, 220,\n",
       "       221, 222, 223, 224, 225, 226, 227, 228, 229, 230, 231, 232, 233,\n",
       "       234, 235, 236, 237, 238, 239, 240, 241, 242, 243, 244, 245, 246,\n",
       "       247, 248, 249, 250, 251, 252, 253, 254, 255, 256, 257, 258, 259,\n",
       "       260, 261, 262, 263, 264, 265, 266, 267, 268, 269, 270, 271, 272,\n",
       "       273, 274, 275, 276, 277, 278, 279, 280, 281, 282, 283, 284, 285,\n",
       "       286, 287, 288, 289, 290, 291, 292, 293, 294, 295, 296, 297, 298,\n",
       "       299, 300, 301, 302, 303, 304, 305, 306, 307, 308, 309, 310, 311,\n",
       "       312, 313, 314, 315, 316, 317, 318, 319, 320, 321, 322, 323, 324,\n",
       "       325, 326, 327, 328, 329, 330, 331, 332, 333, 334, 335, 336, 337,\n",
       "       338, 339, 340, 341, 342, 343, 344, 345, 346, 347, 348, 349, 350,\n",
       "       351, 352, 353, 354, 355, 356, 357, 358, 359, 360, 361, 362, 363,\n",
       "       364, 365, 366, 367, 368, 369, 370, 371, 372, 373, 374, 375, 376,\n",
       "       377, 378, 379, 380, 381, 382, 383, 384, 385, 386, 387, 388, 389,\n",
       "       390, 391, 392, 393, 394, 395, 396, 397, 398, 399, 400, 401, 402,\n",
       "       403, 404, 405, 406, 407, 408, 409, 410, 411, 412, 413, 414, 415,\n",
       "       416, 417, 418, 419, 420, 421, 422, 423, 424, 425, 426, 427, 428,\n",
       "       429, 430, 431, 432, 433, 434, 435, 436, 437, 438, 439, 440, 441,\n",
       "       442, 443, 444, 445, 446, 447, 448, 449, 450, 451, 452, 453, 454,\n",
       "       455, 456, 457, 458, 459, 460, 461, 462, 463, 464, 465, 466, 467,\n",
       "       468, 469, 470, 471, 472, 473, 474, 475, 476, 477, 478, 479, 480,\n",
       "       481, 482, 483, 484, 485, 486, 487, 488, 489, 490, 491, 492, 493,\n",
       "       494, 495, 496, 497, 498, 499, 500, 501, 502, 503, 504, 505, 506,\n",
       "       507, 508, 509, 510, 511, 512, 513, 514, 515, 516, 517, 518, 519,\n",
       "       520, 521, 522, 523, 524, 525, 526, 527, 528, 529, 530, 531, 532,\n",
       "       533, 534, 535, 536, 537, 538, 539, 540, 541, 542, 543, 544, 545,\n",
       "       546, 547, 548, 549, 550, 551, 552, 553, 554, 555, 556, 557, 558,\n",
       "       559, 560, 561, 562, 563, 564, 565, 566, 567, 568, 569, 570, 571,\n",
       "       572, 573, 574, 575, 576, 577, 578, 579, 580, 581, 582, 583, 584,\n",
       "       585, 586, 587, 588, 589, 590, 591, 592, 593, 594, 595, 596, 597,\n",
       "       598, 599, 600, 601, 602, 603, 604, 605, 606, 607, 608, 609, 610,\n",
       "       611, 612, 613, 614, 615, 616, 617, 618, 619, 620, 621, 622, 623,\n",
       "       624, 625, 626, 627, 628, 629, 630, 631, 632, 633, 634, 635, 636,\n",
       "       637, 638, 639, 640, 641, 642, 643, 644, 645, 646, 647, 648, 649,\n",
       "       650, 651, 652, 653, 654, 655, 656, 657, 658, 659, 660, 661, 662,\n",
       "       663, 664, 665, 666, 667, 668, 669, 670, 671, 672, 673, 674, 675,\n",
       "       676, 677, 678, 679, 680, 681, 682, 683, 684, 685, 686, 687, 688,\n",
       "       689, 690, 691, 692, 693, 694, 695, 696, 697, 698, 699, 700, 701,\n",
       "       702, 703, 704, 705, 706, 707, 708, 709, 710, 711, 712, 713, 714,\n",
       "       715, 716, 717, 718, 719, 720, 721, 722, 723, 724, 725, 726, 727,\n",
       "       728, 729, 730, 731, 732, 733, 734, 735, 736, 737, 738, 739, 740,\n",
       "       741, 742, 743, 744, 745, 746, 747, 748, 749, 750, 751, 752, 753,\n",
       "       754, 755, 756, 757, 758, 759, 760, 761, 762, 763, 764, 765, 766,\n",
       "       767])"
      ]
     },
     "execution_count": 86,
     "metadata": {},
     "output_type": "execute_result"
    }
   ],
   "execution_count": 86
  }
 ],
 "metadata": {
  "kernelspec": {
   "display_name": "Python 3",
   "language": "python",
   "name": "python3"
  },
  "language_info": {
   "codemirror_mode": {
    "name": "ipython",
    "version": 2
   },
   "file_extension": ".py",
   "mimetype": "text/x-python",
   "name": "python",
   "nbconvert_exporter": "python",
   "pygments_lexer": "ipython2",
   "version": "2.7.6"
  }
 },
 "nbformat": 4,
 "nbformat_minor": 5
}
