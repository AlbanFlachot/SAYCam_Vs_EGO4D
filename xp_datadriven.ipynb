{
 "cells": [
  {
   "metadata": {},
   "cell_type": "markdown",
   "source": [
    "# Script that explores a method to look of a subset of images maximizing the representational dissimilarity (in terms of RSA) between several models.\n",
    "\n",
    "### AIM:\n",
    "We would like to select 50 images that maximizes the representational dissimilarity between 2 models, say the ViT14 trained on SAYCam VS EGO4D. In this case, representational dissimilarity is the dissimilarity between the RDMs of the 2 models for the given 50 images. We also would like these images to be visually/semantically interpretable (i.e. we are not interested in just noise). We start from 2 medium-size datasets with a semantically wide variety of categories - the validation sets of ImageNet and EcoSet. They include 1000 and 565 different categories respectively, with 50 different images within each category, for a total of 50000 and 28250 images.\n",
    "\n",
    "### CHALLENGE:\n",
    "It is computationally unthinkable to look at every possible combinations of 50 images within the 25K+ images - they follow a binomial distribution. Instead, we need a different, more creative approach.\n",
    "\n",
    "### IDEA:\n",
    "Presumably, the set of 50 images should be such that, when model A finds some images very similar model B should find them very dissimilar, and vice-versa.\n",
    "Presumably again, images that one model may find very similar are likely within the same category (at least when it comes to the last layers of the models). We could thus find the image categories for which modelA has a stable representation (images within the category lead to similar representations) while modelB has an unstable representation.\n",
    "\n",
    "We introduce the concept of *representational compactness*. The representational compactness of a concept determines how well a concept is represented disctinctly from other in the latent space of a model. We will say that **car** is well delineated when car images are represented similarly with respect to other images i.e the vectors of activations for car images form a cluster in latent space.\n"
   ],
   "id": "6e00ed086884554d"
  },
  {
   "metadata": {
    "ExecuteTime": {
     "end_time": "2025-08-29T08:07:47.108871Z",
     "start_time": "2025-08-29T08:07:45.253754Z"
    }
   },
   "cell_type": "code",
   "source": [
    "import importlib\n",
    "import numpy as np\n",
    "import sklearn\n",
    "from matplotlib import pyplot as plt\n",
    "from os.path import join\n",
    "import os\n",
    "import seaborn as sns\n",
    "from torchvision.ops.misc import interpolate\n",
    "from tqdm.notebook import tqdm as tqdm_notebook\n",
    "\n",
    "#### Custum libraries\n",
    "import lib.algos_maxRSA as max_rsa\n",
    "import lib.utils_RSA as rsa\n",
    "import lib.utils_CKA as cka\n",
    "from lib.algos import *\n",
    "from scipy.spatial import procrustes as scipro\n",
    "\n",
    "from lib.algos_maxRSA import find_max_dissimilarity_images\n",
    "\n",
    "importlib.reload(rsa)\n",
    "importlib.reload(cka)\n",
    "importlib.reload(max_rsa)"
   ],
   "id": "74923df958d596e0",
   "outputs": [
    {
     "data": {
      "text/plain": [
       "<module 'lib.algos_maxRSA' from '/home/alban/projects/SAYCam_Vs_EGO4D/lib/algos_maxRSA.py'>"
      ]
     },
     "execution_count": 1,
     "metadata": {},
     "output_type": "execute_result"
    }
   ],
   "execution_count": 1
  },
  {
   "metadata": {
    "ExecuteTime": {
     "end_time": "2025-08-28T14:26:44.279401Z",
     "start_time": "2025-08-28T14:26:44.211265Z"
    }
   },
   "cell_type": "code",
   "source": [
    "dataset = 'ecoVal'\n",
    "#models  = ['ego', 'saycam', 'imagenet', 'supervised', 'random', 'resnet']\n",
    "models  = ['ego', 'saycam']\n",
    "path2activations = f'/home/alban/Documents/activations_datadriven/%s_{dataset}/'\n",
    "\n",
    "imagelists = {}\n",
    "activations = {}\n",
    "for model in models:\n",
    "    with open(join(path2activations%model, 'imagepaths.txt'), 'r') as f:\n",
    "        imagelists[model] = [line.strip() for line in f.readlines()]\n",
    "    activations[model] = np.load(join(path2activations % model, 'cls_tokens.npy'))\n",
    "\n",
    "activations[model].shape"
   ],
   "id": "c3ce17a56a200a3a",
   "outputs": [
    {
     "data": {
      "text/plain": [
       "(28250, 768)"
      ]
     },
     "execution_count": 29,
     "metadata": {},
     "output_type": "execute_result"
    }
   ],
   "execution_count": 29
  },
  {
   "metadata": {
    "ExecuteTime": {
     "end_time": "2025-08-28T14:26:48.438128Z",
     "start_time": "2025-08-28T14:26:48.328289Z"
    }
   },
   "cell_type": "code",
   "source": [
    "#### Normalize vectors\n",
    "for model in models:\n",
    "    norms = np.linalg.norm(activations[model], axis=1, keepdims=True)\n",
    "    activations[model] = activations[model]/norms # normalization"
   ],
   "id": "dd28c6e1d4c091e2",
   "outputs": [],
   "execution_count": 30
  },
  {
   "metadata": {
    "ExecuteTime": {
     "end_time": "2025-08-29T08:02:47.425052Z",
     "start_time": "2025-08-29T08:02:47.390819Z"
    }
   },
   "cell_type": "code",
   "source": [
    "#### Compute RDMs performing squared euclidean distance as a metric (to be equivalent to CKA methods, cf. Williams, 2024)\n",
    "RDMs = {}\n",
    "\n",
    "metric = 'L2squared'\n",
    "for i, model in enumerate(models):\n",
    "    print(model)\n",
    "    RDMs[model] = rsa.compute_RDMs(activations[model], metric = metric, display = False, title = f'{model}_{metric}')\n",
    "    RDMs[model] = cka.centering(RDMs[model])\n",
    "\n",
    "\n"
   ],
   "id": "4c06003468266968",
   "outputs": [
    {
     "ename": "NameError",
     "evalue": "name 'models' is not defined",
     "output_type": "error",
     "traceback": [
      "\u001B[31m---------------------------------------------------------------------------\u001B[39m",
      "\u001B[31mNameError\u001B[39m                                 Traceback (most recent call last)",
      "\u001B[36mCell\u001B[39m\u001B[36m \u001B[39m\u001B[32mIn[2]\u001B[39m\u001B[32m, line 5\u001B[39m\n\u001B[32m      2\u001B[39m RDMs = {}\n\u001B[32m      4\u001B[39m metric = \u001B[33m'\u001B[39m\u001B[33mL2squared\u001B[39m\u001B[33m'\u001B[39m\n\u001B[32m----> \u001B[39m\u001B[32m5\u001B[39m \u001B[38;5;28;01mfor\u001B[39;00m i, model \u001B[38;5;129;01min\u001B[39;00m \u001B[38;5;28menumerate\u001B[39m(\u001B[43mmodels\u001B[49m):\n\u001B[32m      6\u001B[39m     \u001B[38;5;28mprint\u001B[39m(model)\n\u001B[32m      7\u001B[39m     RDMs[model] = rsa.compute_RDMs(activations[model], metric = metric, display = \u001B[38;5;28;01mFalse\u001B[39;00m, title = \u001B[33mf\u001B[39m\u001B[33m'\u001B[39m\u001B[38;5;132;01m{\u001B[39;00mmodel\u001B[38;5;132;01m}\u001B[39;00m\u001B[33m_\u001B[39m\u001B[38;5;132;01m{\u001B[39;00mmetric\u001B[38;5;132;01m}\u001B[39;00m\u001B[33m'\u001B[39m)\n",
      "\u001B[31mNameError\u001B[39m: name 'models' is not defined"
     ]
    }
   ],
   "execution_count": 2
  },
  {
   "metadata": {
    "ExecuteTime": {
     "end_time": "2025-08-28T14:50:06.044250Z",
     "start_time": "2025-08-28T14:50:06.040214Z"
    }
   },
   "cell_type": "code",
   "source": "RDMs[model].shape",
   "id": "f6433b090cb21fae",
   "outputs": [
    {
     "data": {
      "text/plain": [
       "(28250, 28250)"
      ]
     },
     "execution_count": 37,
     "metadata": {},
     "output_type": "execute_result"
    }
   ],
   "execution_count": 37
  },
  {
   "metadata": {
    "ExecuteTime": {
     "end_time": "2025-08-28T14:48:40.004504Z",
     "start_time": "2025-08-28T14:48:25.363689Z"
    }
   },
   "cell_type": "code",
   "source": [
    "### Compute similarities between models and metrics.\n",
    "sim_metric = 'pearson'\n",
    "\n",
    "SIMs = {} # save all similarity values in a dictionary\n",
    "\n",
    "for i, model1 in enumerate(models[:-1]):\n",
    "    SIMs[model1] = {}\n",
    "    for j, model2 in enumerate(models[i+1:]):\n",
    "        SIMs[model1][model2] = float(np.round(rsa.Compute_sim_RDMs(RDMs[model1], RDMs[model2], center = False, metric = sim_metric), 3))\n",
    "\n",
    "#SIMs_saycam_ego = np.float64(0.6297048936065802) # already computed\n",
    "SIMs"
   ],
   "id": "758afbcc9b3b9e55",
   "outputs": [
    {
     "data": {
      "text/plain": [
       "{'ego': {'saycam': 0.649}}"
      ]
     },
     "execution_count": 33,
     "metadata": {},
     "output_type": "execute_result"
    }
   ],
   "execution_count": 33
  },
  {
   "metadata": {
    "ExecuteTime": {
     "end_time": "2025-08-28T14:49:49.439719Z",
     "start_time": "2025-08-28T14:49:49.425868Z"
    }
   },
   "cell_type": "code",
   "source": [
    "### check if images were shown in the same order\n",
    "assert imagelists['ego'] == imagelists['saycam']\n",
    "imagelist = imagelists['ego'] # since they are the same, only consider one list\n",
    "\n",
    "#### check if each category has the same number of images and list all categories in listcats\n",
    "count = 0\n",
    "cat = ''\n",
    "listcat = list()\n",
    "for i, imgp in enumerate(imagelist):\n",
    "    current_cat = imgp.split('/')[-2]\n",
    "    if i == 0:\n",
    "        cat = current_cat\n",
    "        listcat.append(current_cat)\n",
    "    if cat != current_cat:\n",
    "        cat = current_cat\n",
    "        listcat.append(current_cat)\n",
    "        count = 1\n",
    "    else:\n",
    "        count += 1\n",
    "\n",
    "nb_per_cat = count # in val, 50 images per cate\n",
    "\n",
    "\n",
    "#np.array(imagelist).reshape(-1, nb_per_cat)[0]"
   ],
   "id": "7b5b9f33a2d96da",
   "outputs": [],
   "execution_count": 34
  },
  {
   "metadata": {
    "ExecuteTime": {
     "end_time": "2025-08-28T14:49:51.844434Z",
     "start_time": "2025-08-28T14:49:51.839796Z"
    }
   },
   "cell_type": "code",
   "source": "nb_per_cat",
   "id": "459bc8722f21a150",
   "outputs": [
    {
     "data": {
      "text/plain": [
       "50"
      ]
     },
     "execution_count": 35,
     "metadata": {},
     "output_type": "execute_result"
    }
   ],
   "execution_count": 35
  },
  {
   "metadata": {},
   "cell_type": "markdown",
   "source": "We introduce here the concept of *representational compactness* - *representational compactness* measures how much a given concept (e.g objet category) is well defined in a laten space relative to other concepts. More precisely, if a concept (say a car) is compact, then the latent representations images of the same concept (e.g. images of cars) are very similar (i.e. similar vecotrs of representations) relative to other concepts (e.g. bananas or house).",
   "id": "afd15746e80cfd51"
  },
  {
   "metadata": {
    "ExecuteTime": {
     "end_time": "2025-08-28T14:49:55.686814Z",
     "start_time": "2025-08-28T14:49:54.063288Z"
    }
   },
   "cell_type": "code",
   "source": [
    "### Compute representational compactness for each category and model\n",
    "compactness = {}\n",
    "compact_categories = {}\n",
    "for model in models:\n",
    "    print(model)\n",
    "    compactness_tmp = np.zeros(len(listcat))\n",
    "    RDM = RDMs[model]\n",
    "    for c, cat in enumerate(listcat):\n",
    "        cat_RDM = RDM[c*nb_per_cat:(c+1)*nb_per_cat, c*nb_per_cat:(c+1)*nb_per_cat] # square matrix of nb_cat x nb_cat\n",
    "        noncat_RDM = np.concatenate([RDM[c*nb_per_cat:(c+1)*nb_per_cat, :c*nb_per_cat], RDM[c*nb_per_cat:(c+1)*nb_per_cat, (c+1)*nb_per_cat:]], axis =1) # Rectangular matrix of nb_cat x (n-nb_cat)\n",
    "        upper_indices = np.triu_indices(nb_per_cat, k=1)  # k=1 excludes diagonal\n",
    "        sim_withincat = np.mean(cat_RDM[upper_indices]) # Compute similarity within the category\n",
    "        sim_withoutcat = np.mean(noncat_RDM) # Compute similarity with other categories\n",
    "        compactness_tmp[c] = sim_withincat/sim_withoutcat # compactness is the ratio between within similarity and without similarity\n",
    "    compactness[model] = np.sort(compactness_tmp)\n",
    "    compact_categories[model] = np.array(listcat)[np.argsort(compactness_tmp)]\n",
    "\n",
    "\n"
   ],
   "id": "37222cb5045a2ef8",
   "outputs": [
    {
     "name": "stdout",
     "output_type": "stream",
     "text": [
      "ego\n",
      "saycam\n"
     ]
    }
   ],
   "execution_count": 36
  },
  {
   "metadata": {
    "ExecuteTime": {
     "end_time": "2025-08-28T14:50:20.198065Z",
     "start_time": "2025-08-28T14:50:20.098261Z"
    }
   },
   "cell_type": "code",
   "source": [
    "max_rsa.plot_stats_one(compactness, models,  ['Categories', 'compactness'])\n",
    "for model in models:\n",
    "    print(f'{model}')\n",
    "    print(compact_categories[model][:20])\n",
    "for model in models:\n",
    "    print(f'{model}')\n",
    "    print(compact_categories[model][-20:])"
   ],
   "id": "6c3886922a76936d",
   "outputs": [
    {
     "data": {
      "text/plain": [
       "<Figure size 1000x600 with 1 Axes>"
      ],
      "image/png": "[encoded data removed]"
     },
     "metadata": {},
     "output_type": "display_data"
    },
    {
     "name": "stdout",
     "output_type": "stream",
     "text": [
      "ego\n",
      "['1073_fireworks' '0156_moon' '0266_gravel' '0812_coin' '2144_newsstand'\n",
      " '0089_bus' '1515_waterspout' '2098_odometer' '2112_photocopier'\n",
      " '0005_house' '2400_geyser' '0082_kitchen' '0437_drawers' '1933_flashbulb'\n",
      " '0847_jaguar' '1081_thermostat' '0909_flea' '1043_mall' '2972_rainbow'\n",
      " '1367_sphinx']\n",
      "saycam\n",
      "['0266_gravel' '0156_moon' '1073_fireworks' '0089_bus' '2144_newsstand'\n",
      " '2212_manhole' '0005_house' '0082_kitchen' '1515_waterspout'\n",
      " '2098_odometer' '0812_coin' '0882_scoreboard' '0772_barnacle' '0909_flea'\n",
      " '1043_mall' '2972_rainbow' '0969_anthill' '2400_geyser' '1612_forklift'\n",
      " '0009_car']\n",
      "ego\n",
      "['1125_cork' '2205_dildo' '1010_barrel' '0875_broom' '0359_shovel'\n",
      " '0533_seashell' '2783_bubble' '0312_dustpan' '0052_fish' '1470_syringe'\n",
      " '0111_doll' '0112_bell' '0877_ladle' '1026_condom' '0045_ball'\n",
      " '1635_paintbrush' '0767_padlock' '0187_umbrella' '0361_bucket'\n",
      " '0223_vase']\n",
      "saycam\n",
      "['1026_condom' '0311_crawfish' '1379_chalice' '0389_ashtray' '0955_cane'\n",
      " '2332_cogwheel' '0052_fish' '0045_ball' '2651_tapioca' '0877_ladle'\n",
      " '1635_paintbrush' '0875_broom' '0359_shovel' '0187_umbrella' '1125_cork'\n",
      " '0112_bell' '1470_syringe' '0361_bucket' '0767_padlock' '0223_vase']\n"
     ]
    }
   ],
   "execution_count": 38
  },
  {
   "metadata": {
    "ExecuteTime": {
     "end_time": "2025-08-28T14:50:26.523510Z",
     "start_time": "2025-08-28T14:50:26.509315Z"
    }
   },
   "cell_type": "code",
   "source": [
    "def check_list_similarity(list1, list2):\n",
    "    '''Checks if two lists contain the same elements, regardless of order,\n",
    "    and calculates the proportion of common elements.'''\n",
    "    set1 = set(list1)\n",
    "    set2 = set(list2)\n",
    "    common_elements = set1 & set2  # Intersection of sets\n",
    "    proportion = (len(common_elements) / max(len(set1), len(set2))) * 100 if max(len(set1), len(set2)) > 0 else 0\n",
    "    return proportion\n",
    "\n",
    "print('\\nSimilarities saycam and the others')\n",
    "for model in models[:]:\n",
    "    print(check_list_similarity(compact_categories['saycam'][:50],compact_categories[model][:50]))\n",
    "\n",
    "print('\\nSimilarities ego and the others')\n",
    "for model in models[:]:\n",
    "    print(check_list_similarity(compact_categories['ego'][:50],compact_categories[model][:50]))\n",
    "'''\n",
    "print('\\nSimilarities imagenet and the others')\n",
    "for model in models[:]:\n",
    "    print(check_list_similarity(compact_categories['imagenet'][:50],compact_categories[model][:50]))\n",
    "\n",
    "print('\\nSimilarities supervised and the others')\n",
    "for model in models[:]:\n",
    "    print(check_list_similarity(compact_categories['supervised'][:50],compact_categories[model][:50]))\n",
    "\n",
    "print('\\nSimilarities resnet and the others')\n",
    "for model in models[:]:\n",
    "    print(check_list_similarity(compact_categories['resnet'][:50],compact_categories[model][:50]))'''"
   ],
   "id": "690070a0b9762aa7",
   "outputs": [
    {
     "name": "stdout",
     "output_type": "stream",
     "text": [
      "\n",
      "Similarities saycam and the others\n",
      "76.0\n",
      "100.0\n",
      "\n",
      "Similarities ego and the others\n",
      "100.0\n",
      "76.0\n"
     ]
    },
    {
     "data": {
      "text/plain": [
       "\"\\nprint('\\nSimilarities imagenet and the others')\\nfor model in models[:]:\\n    print(check_list_similarity(compact_categories['imagenet'][:50],compact_categories[model][:50]))\\n\\nprint('\\nSimilarities supervised and the others')\\nfor model in models[:]:\\n    print(check_list_similarity(compact_categories['supervised'][:50],compact_categories[model][:50]))\\n\\nprint('\\nSimilarities resnet and the others')\\nfor model in models[:]:\\n    print(check_list_similarity(compact_categories['resnet'][:50],compact_categories[model][:50]))\""
      ]
     },
     "execution_count": 39,
     "metadata": {},
     "output_type": "execute_result"
    }
   ],
   "execution_count": 39
  },
  {
   "metadata": {
    "ExecuteTime": {
     "end_time": "2025-08-28T14:50:31.407177Z",
     "start_time": "2025-08-28T14:50:30.333935Z"
    }
   },
   "cell_type": "code",
   "source": [
    "### Compute 500 random sequence for significance\n",
    "# initialize sequences\n",
    "nb_trials = 500\n",
    "idx_vec = np.array(range(len(listcat)))\n",
    "mat_vec = np.zeros((nb_trials, len(idx_vec)))\n",
    "for i in range(nb_trials):\n",
    "    np.random.shuffle(idx_vec)\n",
    "    mat_vec[i] = idx_vec\n",
    "\n",
    "#Compute all possible similarity pairs\n",
    "list_sim = []\n",
    "for i in range(len(mat_vec)-1):\n",
    "    for j in range(i+1,len(mat_vec)):\n",
    "        list_sim.append(check_list_similarity(list(mat_vec[i][:50]), list(mat_vec[j][:50])))\n",
    "\n",
    "# Compute 95 percentile\n",
    "confinter = np.percentile(list_sim, 95)\n",
    "print(f'The 95% confidence interval is:{confinter}')"
   ],
   "id": "766e435da95bbd0a",
   "outputs": [
    {
     "name": "stdout",
     "output_type": "stream",
     "text": [
      "The 95% confidence interval is:16.0\n"
     ]
    }
   ],
   "execution_count": 40
  },
  {
   "metadata": {
    "ExecuteTime": {
     "end_time": "2025-08-28T14:50:34.442554Z",
     "start_time": "2025-08-28T14:50:34.435777Z"
    }
   },
   "cell_type": "code",
   "source": [
    "### reshape activations according to include categories\n",
    "cat_activations = activations.copy()\n",
    "\n",
    "for model in models:\n",
    "    shape = activations[model].shape\n",
    "    cat_activations[model] = activations[model].reshape(-1, nb_per_cat, shape[-1])"
   ],
   "id": "a8259fce1c6c20ae",
   "outputs": [],
   "execution_count": 41
  },
  {
   "metadata": {
    "ExecuteTime": {
     "end_time": "2025-08-27T13:34:12.563702Z",
     "start_time": "2025-08-27T13:34:12.556022Z"
    }
   },
   "cell_type": "code",
   "source": [
    "#def compute_silhouette_score_memory_efficient(cat_activations, models, listcat, metric='euclidean'):\n",
    "'''compactness2, compact_categories2 = max_rsa.categorical_silhouette_score(cat_activations, models, listcat, metric='sqeuclidean')\n",
    "max_rsa.plot_stats(compactness2,models,  ['Categories', 'Normalized var'])\n",
    "for model in models:\n",
    "    print(f'{model}')\n",
    "    print(compact_categories2[model][:20])\n",
    "for model in models:\n",
    "    print(compact_categories2[model][-20:])\n",
    "\n",
    "\n",
    "print('\\nSimilarities saycam and the others')\n",
    "for model in models[:]:\n",
    "    print(check_list_similarity(compact_categories2['saycam'][:50],compact_categories2[model][:50]))\n",
    "\n",
    "print('\\nSimilarities ego and the others')\n",
    "for model in models[:]:\n",
    "    print(check_list_similarity(compact_categories2['ego'][:50],compact_categories2[model][:50]))\n",
    "\n",
    "print('\\nSimilarities imagenet and the others')\n",
    "for model in models[:]:\n",
    "    print(check_list_similarity(compact_categories2['imagenet'][:50],compact_categories2[model][:50]))\n",
    "\n",
    "print('\\nSimilarities supervised and the others')\n",
    "for model in models[:]:\n",
    "    print(check_list_similarity(compact_categories2['supervised'][:50],compact_categories2[model][:50]))\n",
    "\n",
    "print('\\nSimilarities resnet and the others')\n",
    "for model in models[:]:\n",
    "    print(check_list_similarity(compact_categories2['resnet'][:50],compact_categories2[model][:50]))'''"
   ],
   "id": "363a5188b1ab62b1",
   "outputs": [
    {
     "data": {
      "text/plain": [
       "\"compactness2, compact_categories2 = max_rsa.categorical_silhouette_score(cat_activations, models, listcat, metric='sqeuclidean')\\nmax_rsa.plot_stats(compactness2,models,  ['Categories', 'Normalized var'])\\nfor model in models:\\n    print(f'{model}')\\n    print(compact_categories2[model][:20])\\nfor model in models:\\n    print(compact_categories2[model][-20:])\\n\\n\\nprint('\\nSimilarities saycam and the others')\\nfor model in models[:]:\\n    print(check_list_similarity(compact_categories2['saycam'][:50],compact_categories2[model][:50]))\\n\\nprint('\\nSimilarities ego and the others')\\nfor model in models[:]:\\n    print(check_list_similarity(compact_categories2['ego'][:50],compact_categories2[model][:50]))\\n\\nprint('\\nSimilarities imagenet and the others')\\nfor model in models[:]:\\n    print(check_list_similarity(compact_categories2['imagenet'][:50],compact_categories2[model][:50]))\\n\\nprint('\\nSimilarities supervised and the others')\\nfor model in models[:]:\\n    print(check_list_similarity(compact_categories2['supervised'][:50],compact_categories2[model][:50]))\\n\\nprint('\\nSimilarities resnet and the others')\\nfor model in models[:]:\\n    print(check_list_similarity(compact_categories2['resnet'][:50],compact_categories2[model][:50]))\""
      ]
     },
     "execution_count": 13,
     "metadata": {},
     "output_type": "execute_result"
    }
   ],
   "execution_count": 13
  },
  {
   "metadata": {
    "ExecuteTime": {
     "end_time": "2025-08-27T13:34:12.711440Z",
     "start_time": "2025-08-27T13:34:12.701348Z"
    }
   },
   "cell_type": "code",
   "source": [
    "'''\n",
    "compactness3, compact_categories3 = max_rsa.compute_compactness_memory_efficient(cat_activations, models, listcat)\n",
    "max_rsa.plot_stats(compactness3,models,  ['Categories', 'Normalized var'])\n",
    "for model in models:\n",
    "    print(f'{model}')\n",
    "    print(compact_categories3[model][:20])\n",
    "for model in models:\n",
    "    print(compact_categories3[model][-20:])'''"
   ],
   "id": "90a30777fa3e33f5",
   "outputs": [
    {
     "data": {
      "text/plain": [
       "\"\\ncompactness3, compact_categories3 = max_rsa.compute_compactness_memory_efficient(cat_activations, models, listcat)\\nmax_rsa.plot_stats(compactness3,models,  ['Categories', 'Normalized var'])\\nfor model in models:\\n    print(f'{model}')\\n    print(compact_categories3[model][:20])\\nfor model in models:\\n    print(compact_categories3[model][-20:])\""
      ]
     },
     "execution_count": 14,
     "metadata": {},
     "output_type": "execute_result"
    }
   ],
   "execution_count": 14
  },
  {
   "metadata": {
    "ExecuteTime": {
     "end_time": "2025-08-28T14:50:39.576490Z",
     "start_time": "2025-08-28T14:50:39.568513Z"
    }
   },
   "cell_type": "code",
   "source": [
    "labels, sortedmaxdiffcats, maxdiffs = max_rsa.max_compactness_difference(compact_categories, compactness, cat_activations, listcat, models = ['saycam', 'ego'], nb_max_compactness = 20)\n",
    "#labels2, sortedmaxdiffcats2, maxdiffs2 = max_rsa.max_compactness_difference(compact_categories2, compactness2, cat_activations, listcat,models = ['saycam', 'ego'], nb_max_compactness = 20)"
   ],
   "id": "f542d9a336dc7db6",
   "outputs": [
    {
     "name": "stdout",
     "output_type": "stream",
     "text": [
      "The 20 categories leading to the max differences between saycam and ego are ['0001_man' '0027_bed' '0051_city' '0068_clock' '0020_woman' '0062_table'\n",
      " '0164_frog' '0156_moon' '0050_horse' '0035_gun' '0025_phone' '0038_book'\n",
      " '0077_ship' '0114_stairs' '0154_bear' '0158_blanket' '0052_fish'\n",
      " '0089_bus' '0083_key' '0056_child']\n",
      "Category numbers are [ 0  5 12 18  3 16 58 54 11  6  4  7 22 34 53 56 13 27 24 14]\n",
      "With differences in compactness of  [0.13923526 0.13340437 0.11315882 0.1000998  0.09361684 0.09078282\n",
      " 0.08854568 0.0855456  0.0834651  0.0831942  0.0809375  0.07823753\n",
      " 0.0758934  0.07532799 0.07525527 0.07323349 0.0729714  0.07228178\n",
      " 0.07192361 0.07179815]\n"
     ]
    }
   ],
   "execution_count": 42
  },
  {
   "metadata": {
    "ExecuteTime": {
     "end_time": "2025-08-28T13:27:49.362009Z",
     "start_time": "2025-08-28T13:27:49.354099Z"
    }
   },
   "cell_type": "code",
   "source": [
    "'''### Let's check if the resulting RDMs really are very dissimilar! For the record, the average similarity should be around 0.6\n",
    "## For now let's consider the 10 categories with max compactness difference, 4 random images in each category\n",
    "nb_max_compactness = 12\n",
    "imgspercat = 4 #\n",
    "import random\n",
    "\n",
    "cat_imgs = list() # list of nb_max_compactness*4 images\n",
    "list_randidx = list(range(nb_per_cat))\n",
    "list_selec_idx = list()\n",
    "list\n",
    "for icat in labels[:nb_max_compactness]:# loop over first 10 categories with max compactness difference\n",
    "    random.shuffle(list_randidx) # shuffle and take 4 first idx to sample 4 images randomly\n",
    "    for cat_img in list_randidx[:imgspercat]:\n",
    "        cat_imgs.append(imagelist[icat*nb_per_cat + cat_img])\n",
    "        list_selec_idx.append(icat*nb_per_cat + cat_img)\n",
    "\n",
    "### compute RSA\n",
    "test_models = ['saycam', 'ego']\n",
    "test_rdms = {}\n",
    "for model in test_models:\n",
    "    test_rdms[model] = rsa.compute_RDMs(activations[model][list_selec_idx], metric = metric, display = True, title = f'{model}_{metric}_max')\n",
    "\n",
    "SIMs_saycam_ego = rsa.Compute_sim_RDMs(test_rdms['saycam'], test_rdms['ego'], center = True, metric = sim_metric)\n",
    "SIMs_saycam_ego'''"
   ],
   "id": "701c592e931af6ae",
   "outputs": [
    {
     "data": {
      "text/plain": [
       "\"### Let's check if the resulting RDMs really are very dissimilar! For the record, the average similarity should be around 0.6\\n## For now let's consider the 10 categories with max compactness difference, 4 random images in each category\\nnb_max_compactness = 12\\nimgspercat = 4 #\\nimport random\\n\\ncat_imgs = list() # list of nb_max_compactness*4 images\\nlist_randidx = list(range(nb_per_cat))\\nlist_selec_idx = list()\\nlist\\nfor icat in labels[:nb_max_compactness]:# loop over first 10 categories with max compactness difference\\n    random.shuffle(list_randidx) # shuffle and take 4 first idx to sample 4 images randomly\\n    for cat_img in list_randidx[:imgspercat]:\\n        cat_imgs.append(imagelist[icat*nb_per_cat + cat_img])\\n        list_selec_idx.append(icat*nb_per_cat + cat_img)\\n\\n### compute RSA\\ntest_models = ['saycam', 'ego']\\ntest_rdms = {}\\nfor model in test_models:\\n    test_rdms[model] = rsa.compute_RDMs(activations[model][list_selec_idx], metric = metric, display = True, title = f'{model}_{metric}_max')\\n\\nSIMs_saycam_ego = rsa.Compute_sim_RDMs(test_rdms['saycam'], test_rdms['ego'], center = True, metric = sim_metric)\\nSIMs_saycam_ego\""
      ]
     },
     "execution_count": 19,
     "metadata": {},
     "output_type": "execute_result"
    }
   ],
   "execution_count": 19
  },
  {
   "metadata": {},
   "cell_type": "markdown",
   "source": "By taking random images among the 50 within each category, the resulting RDMs are actually rather similar to one another... Let's see if we can improve on this..",
   "id": "5a764809b3b7634a"
  },
  {
   "metadata": {
    "ExecuteTime": {
     "end_time": "2025-08-28T13:27:53.718127Z",
     "start_time": "2025-08-28T13:27:53.697074Z"
    }
   },
   "cell_type": "code",
   "source": [
    "from itertools import combinations\n",
    "def find_max_dissimilarity_images(cat_activations, models, categories,\n",
    "                                  images_per_subset=4):\n",
    "    \"\"\"\n",
    "    Find the subset of images per category that maximizes RDM dissimilarity between two models.\n",
    "\n",
    "    Parameters:\n",
    "    -----------\n",
    "    cat_activations : dict\n",
    "        Dictionary with structure: cat_activations[model][category] = array of activations (n_images, n_features)\n",
    "    models : list\n",
    "        List of two model names, e.g., ['model1', 'model2']\n",
    "    categories : list\n",
    "        List of category names/indices\n",
    "    compute_RDM : function\n",
    "        Function that takes activations and returns RDM: RDM = compute_RDM(activations)\n",
    "    compute_similarity : function\n",
    "        Function that takes two RDMs and returns similarity: sim = compute_similarity(RDM1, RDM2)\n",
    "    images_per_subset : int\n",
    "        Number of images to select per category (default: 4)\n",
    "    method : str\n",
    "        'exhaustive' or 'random' sampling of combinations\n",
    "\n",
    "    Returns:\n",
    "    --------\n",
    "    results : dict\n",
    "        Dictionary with results for each category:\n",
    "        {\n",
    "            category: {\n",
    "                'best_indices': array of selected image indices,\n",
    "                'max_dissimilarity': maximum dissimilarity value,\n",
    "                'model1_rdm': RDM for model1 with selected images,\n",
    "                'model2_rdm': RDM for model2 with selected images,\n",
    "                'similarity': similarity between the two RDMs\n",
    "            }\n",
    "        }\n",
    "    \"\"\"\n",
    "\n",
    "    if len(models) != 2:\n",
    "        raise ValueError(\"This function requires exactly 2 models\")\n",
    "\n",
    "    results = {}\n",
    "\n",
    "    for category in tqdm_notebook(categories, desc=\"Processing categories\"):\n",
    "        print(f\"\\nProcessing category: {category}\")\n",
    "\n",
    "        # Get activations for both models for this category\n",
    "        model1_activations = cat_activations[models[0]][category]  # Shape: (50, n_features)\n",
    "        model2_activations = cat_activations[models[1]][category]  # Shape: (50, n_features)\n",
    "\n",
    "        n_images = model1_activations.shape[0]\n",
    "\n",
    "        if n_images < images_per_subset:\n",
    "            raise ValueError(f\"Category {category} has only {n_images} images, need at least {images_per_subset}\")\n",
    "\n",
    "        # Generate combinations of image indices\n",
    "        all_combinations = list(combinations(range(n_images), images_per_subset))\n",
    "\n",
    "        print(f\"Testing {len(all_combinations)} combinations of {images_per_subset} images\")\n",
    "\n",
    "        max_dissimilarity = -np.inf\n",
    "        best_indices = None\n",
    "        best_model1_rdm = None\n",
    "        best_model2_rdm = None\n",
    "        best_similarity = None\n",
    "\n",
    "        # Test each combination\n",
    "        for combination in tqdm_notebook(all_combinations, desc=\"Testing combinations\", leave=False, position=1):\n",
    "            indices = np.array(combination)\n",
    "\n",
    "            # Get subset of activations\n",
    "            subset_model1 = model1_activations[indices]  # Shape: (4, n_features)\n",
    "            subset_model2 = model2_activations[indices]  # Shape: (4, n_features)\n",
    "\n",
    "            # Compute RDMs for this subset\n",
    "            rdm1 = rsa.compute_RDMs(subset_model1, metric = 'L2squared', display = False)  # Shape: (4, 4)\n",
    "            rdm2 = rsa.compute_RDMs(subset_model2, metric = 'L2squared', display = False)  # Shape: (4, 4)\n",
    "\n",
    "            # Compute similarity between RDMs\n",
    "            similarity = rsa.Compute_sim_RDMs(rdm1, rdm2, center = True, metric = 'pearson')\n",
    "\n",
    "            # We want to maximize dissimilarity, so minimize similarity\n",
    "            dissimilarity = -similarity  # or 1 - similarity, depending on your similarity metric\n",
    "\n",
    "            # Update best if this is better\n",
    "            if dissimilarity > max_dissimilarity:\n",
    "                max_dissimilarity = dissimilarity\n",
    "                best_indices = indices\n",
    "                best_model1_rdm = rdm1\n",
    "                best_model2_rdm = rdm2\n",
    "                best_similarity = similarity\n",
    "\n",
    "        # Store results for this category\n",
    "        results[category] = {\n",
    "            'best_indices': best_indices,\n",
    "            'max_dissimilarity': max_dissimilarity,\n",
    "            'model1_rdm': best_model1_rdm,\n",
    "            'model2_rdm': best_model2_rdm,\n",
    "            'similarity': best_similarity\n",
    "        }\n",
    "\n",
    "        print(f\"Best indices for {category}: {best_indices}\")\n",
    "        print(f\"Max dissimilarity: {max_dissimilarity:.4f}\")\n",
    "        print(f\"Similarity: {best_similarity:.4f}\")\n",
    "\n",
    "    return results\n",
    "\n",
    "#results = find_max_dissimilarity_images(cat_activations, ['saycam', 'ego'], labels[:10],images_per_subset=4)\n",
    "\n",
    "    # Analyze results\n",
    "#max_rsa.analyze_selected_images(results, labels[:10])"
   ],
   "id": "8a42be3df3b96ca8",
   "outputs": [],
   "execution_count": 20
  },
  {
   "metadata": {
    "ExecuteTime": {
     "end_time": "2025-08-28T15:18:59.404171Z",
     "start_time": "2025-08-28T15:18:59.395338Z"
    }
   },
   "cell_type": "code",
   "source": [
    "def compute_40_image_rdm_similarity(results, cat_activations, models, categories):\n",
    "    \"\"\"\n",
    "    Compute RDMs using the 40 selected images (4 per category × 10 categories)\n",
    "    that maximize dissimilarity between models, then compute their similarity.\n",
    "\n",
    "    Parameters:\n",
    "    -----------\n",
    "    results : dict\n",
    "        Output from find_max_dissimilarity_images() with structure:\n",
    "        results[category]['best_indices'] = array of 4 selected image indices\n",
    "    cat_activations : dict\n",
    "        Dictionary: cat_activations[model][category] = activations array (50, n_features)\n",
    "    models : list\n",
    "        List of two model names, e.g., ['model1', 'model2']\n",
    "    categories : list\n",
    "        List of category names/indices (should have 10 categories)\n",
    "    compute_RDM : function\n",
    "        Function to compute RDM from activations: RDM = compute_RDM(activations)\n",
    "    compute_similarity : function\n",
    "        Function to compute similarity between RDMs: sim = compute_similarity(RDM1, RDM2)\n",
    "\n",
    "    Returns:\n",
    "    --------\n",
    "    result : dict\n",
    "        Dictionary containing:\n",
    "        {\n",
    "            'similarity': similarity between the two 40×40 RDMs,\n",
    "            'model1_rdm': 40×40 RDM for model1,\n",
    "            'model2_rdm': 40×40 RDM for model2,\n",
    "            'selected_activations_model1': combined activations for model1 (40, n_features),\n",
    "            'selected_activations_model2': combined activations for model2 (40, n_features),\n",
    "            'image_info': list of (category, original_index) for each of the 40 images\n",
    "        }\n",
    "    \"\"\"\n",
    "\n",
    "    if len(models) != 2:\n",
    "        raise ValueError(\"This function requires exactly 2 models\")\n",
    "\n",
    "    print(f\"Collecting 40 selected images from {len(categories)} categories...\")\n",
    "\n",
    "    # Collect selected activations from all categories\n",
    "    selected_model1_activations = []\n",
    "    selected_model2_activations = []\n",
    "    image_info = []  # Track which category and original index each image comes from\n",
    "\n",
    "    total_selected = 0\n",
    "\n",
    "    for category in categories:\n",
    "        if category not in results:\n",
    "            raise ValueError(f\"Category {category} not found in results\")\n",
    "\n",
    "        # Get the 4 selected indices for this category\n",
    "        selected_indices = results[category]['best_indices']\n",
    "\n",
    "        if len(selected_indices) != 4:\n",
    "            print(f\"Warning: Category {category} has {len(selected_indices)} images instead of 4\")\n",
    "\n",
    "        # Extract activations for selected images\n",
    "        model1_cat_activations = cat_activations[models[0]][category][selected_indices]\n",
    "        model2_cat_activations = cat_activations[models[1]][category][selected_indices]\n",
    "\n",
    "        # Add to combined list\n",
    "        selected_model1_activations.append(model1_cat_activations)\n",
    "        selected_model2_activations.append(model2_cat_activations)\n",
    "\n",
    "        # Track image information\n",
    "        for idx in selected_indices:\n",
    "            image_info.append((category, idx))\n",
    "\n",
    "        total_selected += len(selected_indices)\n",
    "        print(f\"Category {category}: selected indices {selected_indices}\")\n",
    "\n",
    "    # Combine all selected activations\n",
    "    combined_model1_activations = np.vstack(selected_model1_activations)\n",
    "    combined_model2_activations = np.vstack(selected_model2_activations)\n",
    "\n",
    "    print(f\"\\nTotal selected images: {total_selected}\")\n",
    "    print(f\"Combined activation shapes:\")\n",
    "    print(f\"  Model 1: {combined_model1_activations.shape}\")\n",
    "    print(f\"  Model 2: {combined_model2_activations.shape}\")\n",
    "\n",
    "    # Verify we have 40 images\n",
    "    if combined_model1_activations.shape[0] != 40:\n",
    "        print(f\"Warning: Expected 40 images, got {combined_model1_activations.shape[0]}\")\n",
    "\n",
    "    # Compute RDMs for both models using the 40 selected images\n",
    "    print(\"\\nComputing RDMs...\")\n",
    "    rdm_model1 = rsa.compute_RDMs(combined_model1_activations, metric = 'L2squared', display = False)  # Shape: (40, 40)\n",
    "    rdm_model2 = rsa.compute_RDMs(combined_model2_activations, metric = 'L2squared', display = False)  # Shape: (40, 40)\n",
    "\n",
    "    print(f\"RDM shapes: {rdm_model1.shape}, {rdm_model2.shape}\")\n",
    "\n",
    "    # Compute similarity between the two RDMs\n",
    "    print(\"Computing similarity between RDMs...\")\n",
    "    similarity = rsa.Compute_sim_RDMs(rdm_model1, rdm_model2, center = False, metric = 'pearson')\n",
    "\n",
    "    print(f\"\\nRDM similarity using 40 maximally dissimilar images: {similarity:.6f}\")\n",
    "\n",
    "    # Package results\n",
    "    result = {\n",
    "        'similarity': similarity,\n",
    "        'model1_rdm': rdm_model1,\n",
    "        'model2_rdm': rdm_model2,\n",
    "        'selected_activations_model1': combined_model1_activations,\n",
    "        'selected_activations_model2': combined_model2_activations,\n",
    "        'image_info': image_info,\n",
    "        'total_images': total_selected\n",
    "    }\n",
    "\n",
    "    fig, subs = plt.subplots(1,2)\n",
    "    sns.heatmap(rdm_model1,\n",
    "                annot=False,\n",
    "                cmap='Greys',      # Blue to red colormap\n",
    "                square=True,\n",
    "                cbar=True,\n",
    "                #cbar_kws={'label': 'Dissimilarity'},\n",
    "                #fmt='.2f',\n",
    "                linewidths=0,\n",
    "                ax = subs[0],\n",
    "                vmin=0,               # Set minimum value for color scale\n",
    "                vmax=np.max(rdm_model1))               # Set maximum value for color scale\n",
    "    sns.heatmap(rdm_model2,\n",
    "                annot=False,\n",
    "                cmap='Greys',      # Blue to red colormap\n",
    "                square=True,\n",
    "                cbar=True,\n",
    "                #cbar_kws={'label': 'Dissimilarity'},\n",
    "                #fmt='.2f',\n",
    "                linewidths=0,\n",
    "                ax = subs[1],\n",
    "                vmin=0,               # Set minimum value for color scale\n",
    "                vmax=np.max(rdm_model2))\n",
    "\n",
    "\n",
    "    subs[0].axis('off')\n",
    "    subs[1].axis('off')\n",
    "    fig.tight_layout()\n",
    "    plt.show()\n",
    "    return result\n",
    "\n",
    "#compute_40_image_rdm_similarity(results, cat_activations, ['saycam', 'ego'], labels[:10])"
   ],
   "id": "72e0d73c76819b98",
   "outputs": [],
   "execution_count": 43
  },
  {
   "metadata": {
    "ExecuteTime": {
     "end_time": "2025-08-28T15:19:03.401807Z",
     "start_time": "2025-08-28T15:19:03.393200Z"
    }
   },
   "cell_type": "code",
   "source": [
    "\n",
    "\n",
    "def Compute_sim_RDMs(RDM1, RDM2, center = False, metric = 'cosine', means = {}):#\n",
    "    '''\n",
    "    Function to compute correlational similarity between 2 RDMs.\n",
    "    Only considers the upper triangular part, excluding the diagonal.\n",
    "    Allows for centering of matrices (as in CKA) and several metrics of similarity ('cosine', 'pearson', 'spearman').)\n",
    "    '''\n",
    "\n",
    "    assert RDM1.shape == RDM2.shape # two RDMs should be of the same size\n",
    "    assert metric in ['cosine', 'pearson', 'spearman', 'pearson_global']\n",
    "\n",
    "    if center: ### center matrices\n",
    "        RDM1 = cka.centering(RDM1)\n",
    "        RDM2 = cka.centering(RDM2)\n",
    "\n",
    "    n = len(RDM1)\n",
    "    upper_indices = np.triu_indices(n, k=1)  # k=1 excludes diagonal\n",
    "    upper_RDM1 = RDM1[upper_indices]\n",
    "    upper_RDM2 = RDM2[upper_indices]\n",
    "\n",
    "    # compute similarity\n",
    "    if metric == 'cosine':\n",
    "        sim = rsa.cosine_similarity(RDM1, RDM2)\n",
    "    elif metric == 'pearson':\n",
    "        sim =np.corrcoef(upper_RDM1, upper_RDM2)[0,1]\n",
    "    elif metric == 'pearson_global': # to use for a subset if want to predict similarity measure for a larger set of RDM entries\n",
    "        RDM1_centered = RDM1[upper_indices] - means['x']\n",
    "        RDM2_centered = RDM2[upper_indices] - means['y']\n",
    "        n = len(RDM1_centered)\n",
    "        cov = np.dot(RDM1_centered, RDM2_centered)/(n-1)\n",
    "        sim = cov/means['norm']\n",
    "    return sim"
   ],
   "id": "834178912c10185e",
   "outputs": [],
   "execution_count": 44
  },
  {
   "metadata": {
    "ExecuteTime": {
     "end_time": "2025-08-28T15:20:23.504084Z",
     "start_time": "2025-08-28T15:19:14.790921Z"
    }
   },
   "cell_type": "code",
   "source": [
    "from itertools import combinations\n",
    "def find_max_dissimilarity_images(RDMs, models, categories, nb_per_cat,\n",
    "                                  images_per_subset=4):\n",
    "    \"\"\"\n",
    "    Find the subset of images per category that maximizes RDM dissimilarity between two models.\n",
    "\n",
    "    Parameters:\n",
    "    -----------\n",
    "    cat_activations : dict\n",
    "        Dictionary with structure: cat_activations[model][category] = array of activations (n_images, n_features)\n",
    "    models : list\n",
    "        List of two model names, e.g., ['model1', 'model2']\n",
    "    categories : list\n",
    "        List of category names/indices\n",
    "    compute_RDM : function\n",
    "        Function that takes activations and returns RDM: RDM = compute_RDM(activations)\n",
    "    compute_similarity : function\n",
    "        Function that takes two RDMs and returns similarity: sim = compute_similarity(RDM1, RDM2)\n",
    "    images_per_subset : int\n",
    "        Number of images to select per category (default: 4)\n",
    "    method : str\n",
    "        'exhaustive' or 'random' sampling of combinations\n",
    "\n",
    "    Returns:\n",
    "    --------\n",
    "    results : dict\n",
    "        Dictionary with results for each category:\n",
    "        {\n",
    "            category: {\n",
    "                'best_indices': array of selected image indices,\n",
    "                'max_dissimilarity': maximum dissimilarity value,\n",
    "                'model1_rdm': RDM for model1 with selected images,\n",
    "                'model2_rdm': RDM for model2 with selected images,\n",
    "                'similarity': similarity between the two RDMs\n",
    "            }\n",
    "        }\n",
    "    \"\"\"\n",
    "\n",
    "    if len(models) != 2:\n",
    "        raise ValueError(\"This function requires exactly 2 models\")\n",
    "\n",
    "    results = {}\n",
    "\n",
    "    means = {}\n",
    "    n = len(RDMs[models[0]])\n",
    "    upper_indices = np.triu_indices(n, k=1)  # k=1 excludes diagonal\n",
    "    means['x'] = np.mean(RDMs[models[0]][upper_indices])\n",
    "    means['y'] = np.mean(RDMs[models[1]][upper_indices])\n",
    "    means['norm'] = np.std(RDMs[models[0]][upper_indices]) * np.std(RDMs[models[1]][upper_indices])\n",
    "    print(means)\n",
    "    for category in tqdm_notebook(categories, desc=\"Processing categories\"):\n",
    "        print(f\"\\nProcessing category: {category}\")\n",
    "        # Get activations for both models for this category\n",
    "        RDM1 = RDMs[models[0]][category*nb_per_cat:(category+1)*nb_per_cat, category*nb_per_cat:(category+1)*nb_per_cat]  # Shape: (50, 50)\n",
    "        RDM2 = RDMs[models[1]][category*nb_per_cat:(category+1)*nb_per_cat, category*nb_per_cat:(category+1)*nb_per_cat]  # Shape: (50, 50)\n",
    "\n",
    "        # Generate combinations of image indices\n",
    "        all_combinations = list(combinations(range(nb_per_cat), images_per_subset))\n",
    "\n",
    "        print(f\"Testing {len(all_combinations)} combinations of {images_per_subset} images\")\n",
    "\n",
    "        max_dissimilarity = -np.inf\n",
    "        best_indices = None\n",
    "        best_model1_rdm = None\n",
    "        best_model2_rdm = None\n",
    "        best_similarity = None\n",
    "\n",
    "        # Test each combination\n",
    "        for combination in tqdm_notebook(all_combinations, desc=\"Testing combinations\", leave=False, position=1):\n",
    "            indices = np.array(combination)\n",
    "            # Get subset of activations\n",
    "            rdm1 = RDM1[np.ix_(indices, indices)]  # Shape: (4, 4)\n",
    "            rdm2 = RDM2[np.ix_(indices, indices)]  # Shape: (4, 4s)\n",
    "\n",
    "            # Compute similarity between RDMs\n",
    "\n",
    "            similarity = Compute_sim_RDMs(rdm1, rdm2, center = False, metric = 'pearson_global', means= means)\n",
    "\n",
    "            # We want to maximize dissimilarity, so minimize similarity\n",
    "            dissimilarity = -similarity  # or 1 - similarity, depending on your similarity metric\n",
    "\n",
    "            # Update best if this is better\n",
    "            if dissimilarity > max_dissimilarity:\n",
    "                max_dissimilarity = dissimilarity\n",
    "                best_indices = indices\n",
    "                best_model1_rdm = rdm1\n",
    "                best_model2_rdm = rdm2\n",
    "                best_similarity = similarity\n",
    "\n",
    "        # Store results for this category\n",
    "        results[category] = {\n",
    "            'best_indices': best_indices,\n",
    "            'max_dissimilarity': max_dissimilarity,\n",
    "            'model1_rdm': best_model1_rdm,\n",
    "            'model2_rdm': best_model2_rdm,\n",
    "            'similarity': best_similarity\n",
    "        }\n",
    "\n",
    "        print(f\"Best indices for {category}: {best_indices}\")\n",
    "        print(f\"Max dissimilarity: {max_dissimilarity:.4f}\")\n",
    "        print(f\"Similarity: {best_similarity:.4f}\")\n",
    "\n",
    "    return results\n",
    "\n",
    "results = find_max_dissimilarity_images(\n",
    "        RDMs, ['saycam', 'ego'], labels[:10], 50,\n",
    "        images_per_subset=4\n",
    "    )\n",
    "\n",
    "    # Analyze results\n",
    "#max_rsa.analyze_selected_images(results, labels[:10])"
   ],
   "id": "828203f30f1e1be1",
   "outputs": [
    {
     "name": "stdout",
     "output_type": "stream",
     "text": [
      "{'x': np.float32(1.1682448), 'y': np.float32(1.5041269), 'norm': np.float32(0.00956414)}\n"
     ]
    },
    {
     "data": {
      "text/plain": [
       "Processing categories:   0%|          | 0/10 [00:00<?, ?it/s]"
      ],
      "application/vnd.jupyter.widget-view+json": {
       "version_major": 2,
       "version_minor": 0,
       "model_id": "69a0712c502f465c87c404db2790c627"
      }
     },
     "metadata": {},
     "output_type": "display_data"
    },
    {
     "name": "stdout",
     "output_type": "stream",
     "text": [
      "\n",
      "Processing category: 0\n",
      "Testing 230300 combinations of 4 images\n"
     ]
    },
    {
     "data": {
      "text/plain": [
       "Testing combinations:   0%|          | 0/230300 [00:00<?, ?it/s]"
      ],
      "application/vnd.jupyter.widget-view+json": {
       "version_major": 2,
       "version_minor": 0,
       "model_id": "f745323a89574ddba52cfb9211104b12"
      }
     },
     "metadata": {},
     "output_type": "display_data"
    },
    {
     "name": "stdout",
     "output_type": "stream",
     "text": [
      "Best indices for 0: [ 3  7 13 28]\n",
      "Max dissimilarity: 0.8704\n",
      "Similarity: -0.8704\n",
      "\n",
      "Processing category: 5\n",
      "Testing 230300 combinations of 4 images\n"
     ]
    },
    {
     "data": {
      "text/plain": [
       "Testing combinations:   0%|          | 0/230300 [00:00<?, ?it/s]"
      ],
      "application/vnd.jupyter.widget-view+json": {
       "version_major": 2,
       "version_minor": 0,
       "model_id": "e5c57d3fdd534090949f094dacacb81f"
      }
     },
     "metadata": {},
     "output_type": "display_data"
    },
    {
     "name": "stdout",
     "output_type": "stream",
     "text": [
      "Best indices for 5: [ 3 27 40 41]\n",
      "Max dissimilarity: 0.5361\n",
      "Similarity: -0.5361\n",
      "\n",
      "Processing category: 12\n",
      "Testing 230300 combinations of 4 images\n"
     ]
    },
    {
     "data": {
      "text/plain": [
       "Testing combinations:   0%|          | 0/230300 [00:00<?, ?it/s]"
      ],
      "application/vnd.jupyter.widget-view+json": {
       "version_major": 2,
       "version_minor": 0,
       "model_id": "ab19ecc71fe945ba996de7aa5b9f7c1b"
      }
     },
     "metadata": {},
     "output_type": "display_data"
    },
    {
     "name": "stdout",
     "output_type": "stream",
     "text": [
      "Best indices for 12: [ 7 23 25 48]\n",
      "Max dissimilarity: 0.1298\n",
      "Similarity: -0.1298\n",
      "\n",
      "Processing category: 18\n",
      "Testing 230300 combinations of 4 images\n"
     ]
    },
    {
     "data": {
      "text/plain": [
       "Testing combinations:   0%|          | 0/230300 [00:00<?, ?it/s]"
      ],
      "application/vnd.jupyter.widget-view+json": {
       "version_major": 2,
       "version_minor": 0,
       "model_id": "7fc473f41e71472889c9030775b84af0"
      }
     },
     "metadata": {},
     "output_type": "display_data"
    },
    {
     "name": "stdout",
     "output_type": "stream",
     "text": [
      "Best indices for 18: [20 23 30 36]\n",
      "Max dissimilarity: 0.7552\n",
      "Similarity: -0.7552\n",
      "\n",
      "Processing category: 3\n",
      "Testing 230300 combinations of 4 images\n"
     ]
    },
    {
     "data": {
      "text/plain": [
       "Testing combinations:   0%|          | 0/230300 [00:00<?, ?it/s]"
      ],
      "application/vnd.jupyter.widget-view+json": {
       "version_major": 2,
       "version_minor": 0,
       "model_id": "8f850cfa4f6544918b488555cc39dff9"
      }
     },
     "metadata": {},
     "output_type": "display_data"
    },
    {
     "name": "stdout",
     "output_type": "stream",
     "text": [
      "Best indices for 3: [10 15 16 18]\n",
      "Max dissimilarity: 0.9319\n",
      "Similarity: -0.9319\n",
      "\n",
      "Processing category: 16\n",
      "Testing 230300 combinations of 4 images\n"
     ]
    },
    {
     "data": {
      "text/plain": [
       "Testing combinations:   0%|          | 0/230300 [00:00<?, ?it/s]"
      ],
      "application/vnd.jupyter.widget-view+json": {
       "version_major": 2,
       "version_minor": 0,
       "model_id": "6bd3c4fc6de646a69bb87b6ad5fc0738"
      }
     },
     "metadata": {},
     "output_type": "display_data"
    },
    {
     "name": "stdout",
     "output_type": "stream",
     "text": [
      "Best indices for 16: [ 5  8 11 14]\n",
      "Max dissimilarity: 0.7043\n",
      "Similarity: -0.7043\n",
      "\n",
      "Processing category: 58\n",
      "Testing 230300 combinations of 4 images\n"
     ]
    },
    {
     "data": {
      "text/plain": [
       "Testing combinations:   0%|          | 0/230300 [00:00<?, ?it/s]"
      ],
      "application/vnd.jupyter.widget-view+json": {
       "version_major": 2,
       "version_minor": 0,
       "model_id": "9be1d98b66cc4dc18a68c509b8d2cfcd"
      }
     },
     "metadata": {},
     "output_type": "display_data"
    },
    {
     "name": "stdout",
     "output_type": "stream",
     "text": [
      "Best indices for 58: [ 6 11 17 47]\n",
      "Max dissimilarity: 0.7630\n",
      "Similarity: -0.7630\n",
      "\n",
      "Processing category: 54\n",
      "Testing 230300 combinations of 4 images\n"
     ]
    },
    {
     "data": {
      "text/plain": [
       "Testing combinations:   0%|          | 0/230300 [00:00<?, ?it/s]"
      ],
      "application/vnd.jupyter.widget-view+json": {
       "version_major": 2,
       "version_minor": 0,
       "model_id": "e6db3d11f61c430eb19887d6bbcc7bd8"
      }
     },
     "metadata": {},
     "output_type": "display_data"
    },
    {
     "name": "stdout",
     "output_type": "stream",
     "text": [
      "Best indices for 54: [14 16 20 22]\n",
      "Max dissimilarity: 0.2014\n",
      "Similarity: -0.2014\n",
      "\n",
      "Processing category: 11\n",
      "Testing 230300 combinations of 4 images\n"
     ]
    },
    {
     "data": {
      "text/plain": [
       "Testing combinations:   0%|          | 0/230300 [00:00<?, ?it/s]"
      ],
      "application/vnd.jupyter.widget-view+json": {
       "version_major": 2,
       "version_minor": 0,
       "model_id": "2973613dd24b465ab9437941872478ce"
      }
     },
     "metadata": {},
     "output_type": "display_data"
    },
    {
     "name": "stdout",
     "output_type": "stream",
     "text": [
      "Best indices for 11: [13 30 34 42]\n",
      "Max dissimilarity: 0.9130\n",
      "Similarity: -0.9130\n",
      "\n",
      "Processing category: 6\n",
      "Testing 230300 combinations of 4 images\n"
     ]
    },
    {
     "data": {
      "text/plain": [
       "Testing combinations:   0%|          | 0/230300 [00:00<?, ?it/s]"
      ],
      "application/vnd.jupyter.widget-view+json": {
       "version_major": 2,
       "version_minor": 0,
       "model_id": "78ca64600e1e41159536c3029ea1a162"
      }
     },
     "metadata": {},
     "output_type": "display_data"
    },
    {
     "name": "stdout",
     "output_type": "stream",
     "text": [
      "Best indices for 6: [20 34 37 49]\n",
      "Max dissimilarity: 0.6796\n",
      "Similarity: -0.6796\n"
     ]
    }
   ],
   "execution_count": 45
  },
  {
   "metadata": {
    "ExecuteTime": {
     "end_time": "2025-08-28T15:20:29.078144Z",
     "start_time": "2025-08-28T15:20:28.853566Z"
    }
   },
   "cell_type": "code",
   "source": "similarity_dict = compute_40_image_rdm_similarity(results, cat_activations, ['saycam', 'ego'], labels[:10])",
   "id": "4715828bb81fda82",
   "outputs": [
    {
     "name": "stdout",
     "output_type": "stream",
     "text": [
      "Collecting 40 selected images from 10 categories...\n",
      "Category 0: selected indices [ 3  7 13 28]\n",
      "Category 5: selected indices [ 3 27 40 41]\n",
      "Category 12: selected indices [ 7 23 25 48]\n",
      "Category 18: selected indices [20 23 30 36]\n",
      "Category 3: selected indices [10 15 16 18]\n",
      "Category 16: selected indices [ 5  8 11 14]\n",
      "Category 58: selected indices [ 6 11 17 47]\n",
      "Category 54: selected indices [14 16 20 22]\n",
      "Category 11: selected indices [13 30 34 42]\n",
      "Category 6: selected indices [20 34 37 49]\n",
      "\n",
      "Total selected images: 40\n",
      "Combined activation shapes:\n",
      "  Model 1: (40, 768)\n",
      "  Model 2: (40, 768)\n",
      "\n",
      "Computing RDMs...\n",
      "RDM shapes: (40, 40), (40, 40)\n",
      "Computing similarity between RDMs...\n",
      "\n",
      "RDM similarity using 40 maximally dissimilar images: 0.519410\n"
     ]
    },
    {
     "data": {
      "text/plain": [
       "<Figure size 640x480 with 4 Axes>"
      ],
      "image/png": "[encoded data removed]"
     },
     "metadata": {},
     "output_type": "display_data"
    }
   ],
   "execution_count": 46
  },
  {
   "metadata": {
    "ExecuteTime": {
     "end_time": "2025-08-28T15:23:35.311593Z",
     "start_time": "2025-08-28T15:22:51.819144Z"
    }
   },
   "cell_type": "code",
   "outputs": [
    {
     "name": "stdout",
     "output_type": "stream",
     "text": [
      "Processing 100000 samples in 100 batches of 1000...\n"
     ]
    },
    {
     "data": {
      "text/plain": [
       "  0%|          | 0/100 [00:00<?, ?it/s]"
      ],
      "application/vnd.jupyter.widget-view+json": {
       "version_major": 2,
       "version_minor": 0,
       "model_id": "e1e40ada8ba143c99d4d22de0d0357bf"
      }
     },
     "metadata": {},
     "output_type": "display_data"
    }
   ],
   "execution_count": 49,
   "source": [
    "\n",
    "def sample_rdm_pairs_memory_efficient(RDM1, RDM2, n_samples=100000, subset_size=40,\n",
    "                                    batch_size=10000, seed=None):\n",
    "    \"\"\"\n",
    "    Memory-efficient version that processes in batches and optionally saves to disk.\n",
    "\n",
    "    Parameters:\n",
    "    -----------\n",
    "    batch_size : int\n",
    "        Number of samples to process at once (default: 1000)\n",
    "    output_file : str, optional\n",
    "        If provided, saves results to this file using pickle\n",
    "    \"\"\"\n",
    "\n",
    "    if seed is not None:\n",
    "        np.random.seed(seed)\n",
    "\n",
    "    n_images = RDM1.shape[0]\n",
    "    n_batches = (n_samples + batch_size - 1) // batch_size\n",
    "\n",
    "    all_sims_samples = []\n",
    "    all_indices = []\n",
    "\n",
    "    print(f\"Processing {n_samples} samples in {n_batches} batches of {batch_size}...\")\n",
    "\n",
    "    for batch_idx in tqdm_notebook(range(n_batches)):\n",
    "        start_idx = batch_idx * batch_size\n",
    "        end_idx = min(start_idx + batch_size, n_samples)\n",
    "        current_batch_size = end_idx - start_idx\n",
    "\n",
    "        # Allocate batch arrays\n",
    "        batch_sim = np.zeros((current_batch_size))\n",
    "        batch_indices = np.zeros((current_batch_size, subset_size), dtype=int)\n",
    "\n",
    "        for i in range(current_batch_size):\n",
    "            # Randomly select images\n",
    "            indices = np.random.choice(n_images, size=subset_size, replace=False)\n",
    "            indices = np.sort(indices)\n",
    "\n",
    "            # Extract submatrices\n",
    "            batch_sim[i] = rsa.Compute_sim_RDMs(RDM1[np.ix_(indices, indices)], RDM2[np.ix_(indices, indices)], center = False, metric = 'pearson')\n",
    "            batch_indices[i] = indices\n",
    "\n",
    "        all_sims_samples.append(batch_sim)\n",
    "        all_indices.append(batch_indices)\n",
    "\n",
    "    # Concatenate all batches\n",
    "    sim_samples = np.concatenate(all_sims_samples, axis=0)\n",
    "    indices_used = np.concatenate(all_indices, axis=0)\n",
    "\n",
    "\n",
    "    return sim_samples, indices_used\n",
    "\n",
    "sim_samples, indices_used = sample_rdm_pairs_memory_efficient(RDMs['saycam'], RDMs['ego'], n_samples=100000, subset_size=40,\n",
    "                                    batch_size=1000, seed=None)"
   ],
   "id": "cd38a3b55440588e"
  },
  {
   "metadata": {},
   "cell_type": "markdown",
   "source": [
    "We obtain 2 40*40 RDMs with a similarity significantly lower than the average similarity over the full set of images.\n",
    "\n",
    "Let's see now if the resulting mini RDMs are also significantly lower than the majority of subset we could have chosen (estimate over 1000000 images)."
   ],
   "id": "31a1c5f05fa86a56"
  },
  {
   "metadata": {
    "ExecuteTime": {
     "end_time": "2025-08-28T15:23:48.956285Z",
     "start_time": "2025-08-28T15:23:48.832363Z"
    }
   },
   "cell_type": "code",
   "outputs": [
    {
     "data": {
      "text/plain": [
       "<Figure size 640x480 with 1 Axes>"
      ],
      "image/png": "[encoded data removed]"
     },
     "metadata": {},
     "output_type": "display_data"
    }
   ],
   "execution_count": 51,
   "source": [
    "plt.hist(sim_samples, 100)\n",
    "plt.vlines(similarity_dict['similarity'], 0, 4000, 'green')\n",
    "plt.show()\n",
    "perc = np.sum(sim_samples< similarity_dict['similarity'])/len(sim_samples)"
   ],
   "id": "cbc24a4cf18e8657"
  },
  {
   "metadata": {
    "ExecuteTime": {
     "end_time": "2025-08-28T15:24:10.618723Z",
     "start_time": "2025-08-28T15:24:10.613527Z"
    }
   },
   "cell_type": "code",
   "source": "perc",
   "id": "f06fd7d74644ce91",
   "outputs": [
    {
     "data": {
      "text/plain": [
       "np.float64(0.0005)"
      ]
     },
     "execution_count": 53,
     "metadata": {},
     "output_type": "execute_result"
    }
   ],
   "execution_count": 53
  }
 ],
 "metadata": {
  "kernelspec": {
   "display_name": "Python 3",
   "language": "python",
   "name": "python3"
  },
  "language_info": {
   "codemirror_mode": {
    "name": "ipython",
    "version": 2
   },
   "file_extension": ".py",
   "mimetype": "text/x-python",
   "name": "python",
   "nbconvert_exporter": "python",
   "pygments_lexer": "ipython2",
   "version": "2.7.6"
  }
 },
 "nbformat": 4,
 "nbformat_minor": 5
}
