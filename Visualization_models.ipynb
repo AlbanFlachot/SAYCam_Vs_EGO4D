{
 "cells": [
  {
   "metadata": {},
   "cell_type": "raw",
   "source": "Demo script to download ViT models trained on EGO and SAYCam by orhan et al, or a supervised ViT model trained on ImageNet",
   "id": "bb4559fa0e108c18"
  },
  {
   "metadata": {
    "ExecuteTime": {
     "end_time": "2025-07-22T10:18:14.030689Z",
     "start_time": "2025-07-22T10:18:14.027357Z"
    }
   },
   "cell_type": "code",
   "source": [
    "import torch\n",
    "import huggingface_hub\n",
    "import utils\n",
    "from transformers import ViTFeatureExtractor, ViTModel, ViTForImageClassification, ViTImageProcessor"
   ],
   "id": "951dbb70d7d5091f",
   "outputs": [],
   "execution_count": 15
  },
  {
   "cell_type": "code",
   "id": "8fc03d92-b47e-4e28-81ec-ec029a994d37",
   "metadata": {
    "ExecuteTime": {
     "end_time": "2025-07-22T10:06:35.770880Z",
     "start_time": "2025-07-22T10:06:35.765481Z"
    }
   },
   "source": [
    "print('List of available models')\n",
    "print(utils.get_available_models())\n",
    "print('List of models trained on EGO4D')\n",
    "indexes_ego = [i for i, x in enumerate(utils.get_available_models()) if 'ego' in x]\n",
    "print( [utils.get_available_models()[i] for i in indexes_ego])\n",
    "\n",
    "print('List of models trained on SAYCam')\n",
    "indexes_say = [i for i, x in enumerate(utils.get_available_models()) if 'say' in x]\n",
    "print([utils.get_available_models()[i] for i in indexes_say])\n",
    "\n",
    "print('Only 2 compatible models are thus dino_ego4d-200h_vitb14 and dino_say_vitb14')\n"
   ],
   "outputs": [
    {
     "name": "stdout",
     "output_type": "stream",
     "text": [
      "List of available models\n",
      "['dino_say_vitb14', 'dino_s_vitb14', 'dino_a_vitb14', 'dino_y_vitb14', 'dino_sfp_vitb14', 'dino_imagenet100_vitb14', 'dino_imagenet10_vitb14', 'dino_imagenet1_vitb14', 'dino_kinetics-200h_vitb14', 'dino_ego4d-200h_vitb14', 'dino_say_resnext50', 'dino_s_resnext50', 'dino_a_resnext50', 'dino_y_resnext50', 'dino_sfp_resnext50', 'dino_say_vitl16', 'dino_s_vitl16', 'dino_a_vitl16', 'dino_y_vitl16', 'dino_say_vitb16', 'dino_s_vitb16', 'dino_a_vitb16', 'dino_y_vitb16', 'dino_say_vits16', 'dino_s_vits16', 'dino_a_vits16', 'dino_y_vits16', 'mugs_say_vitl16', 'mugs_s_vitl16', 'mugs_a_vitl16', 'mugs_y_vitl16', 'mugs_say_vitb16', 'mugs_s_vitb16', 'mugs_a_vitb16', 'mugs_y_vitb16', 'mugs_say_vits16', 'mugs_s_vits16', 'mugs_a_vits16', 'mugs_y_vits16', 'mae_say_vitl16', 'mae_s_vitl16', 'mae_a_vitl16', 'mae_y_vitl16', 'mae_say_vitb16', 'mae_s_vitb16', 'mae_a_vitb16', 'mae_y_vitb16', 'mae_say_vits16', 'mae_s_vits16', 'mae_a_vits16', 'mae_y_vits16']\n",
      "List of models trained on EGO4D\n",
      "['dino_ego4d-200h_vitb14']\n",
      "List of models trained on SAYCam\n",
      "['dino_say_vitb14', 'dino_say_resnext50', 'dino_say_vitl16', 'dino_say_vitb16', 'dino_say_vits16', 'mugs_say_vitl16', 'mugs_say_vitb16', 'mugs_say_vits16', 'mae_say_vitl16', 'mae_say_vitb16', 'mae_say_vits16']\n",
      "Only 2 compatible models are thus dino_ego4d-200h_vitb14 and dino_say_vitb14\n"
     ]
    }
   ],
   "execution_count": 2
  },
  {
   "cell_type": "code",
   "id": "ea4a83f2-01e7-4498-a3e7-fae93bfbb784",
   "metadata": {
    "ExecuteTime": {
     "end_time": "2025-07-22T10:06:41.859645Z",
     "start_time": "2025-07-22T10:06:39.322036Z"
    }
   },
   "source": [
    "from utils import *\n",
    "\n",
    "#model_say = load_model('dino_say_vitb14')\n",
    "model_ego = load_model('dino_ego4d-200h_vitb14')"
   ],
   "outputs": [
    {
     "name": "stdout",
     "output_type": "stream",
     "text": [
      "Take key teacher in provided checkpoint dict\n",
      "Pretrained weights found at /data/alban/models/huggingface_hub/models--eminorhan--dino_ego4d-200h_vitb14/snapshots/6222b6a14c40a4dad7d935460da8226a90c7d225/dino_ego4d-200h_vitb14.pth and loaded with msg: _IncompatibleKeys(missing_keys=[], unexpected_keys=['head.mlp.0.weight', 'head.mlp.0.bias', 'head.mlp.2.weight', 'head.mlp.2.bias', 'head.mlp.4.weight', 'head.mlp.4.bias', 'head.last_layer.weight_g', 'head.last_layer.weight_v'])\n"
     ]
    }
   ],
   "execution_count": 3
  },
  {
   "cell_type": "code",
   "id": "6ca20416-a37e-4a0a-a663-8bc9c1806833",
   "metadata": {
    "ExecuteTime": {
     "end_time": "2025-07-22T14:43:38.824942Z",
     "start_time": "2025-07-22T14:43:38.821066Z"
    }
   },
   "source": [
    "## Print model\n",
    "#print(model_say)\n",
    "print(model_ego)\n",
    "#model_ego.pos_embed.shape"
   ],
   "outputs": [
    {
     "name": "stdout",
     "output_type": "stream",
     "text": [
      "VisionTransformer(\n",
      "  (patch_embed): PatchEmbed(\n",
      "    (proj): Conv2d(3, 768, kernel_size=(14, 14), stride=(14, 14))\n",
      "  )\n",
      "  (pos_drop): Dropout(p=0.0, inplace=False)\n",
      "  (blocks): ModuleList(\n",
      "    (0-11): 12 x Block(\n",
      "      (norm1): LayerNorm((768,), eps=1e-06, elementwise_affine=True)\n",
      "      (attn): Attention(\n",
      "        (qkv): Linear(in_features=768, out_features=2304, bias=True)\n",
      "        (attn_drop): Dropout(p=0.0, inplace=False)\n",
      "        (proj): Linear(in_features=768, out_features=768, bias=True)\n",
      "        (proj_drop): Dropout(p=0.0, inplace=False)\n",
      "      )\n",
      "      (drop_path): Identity()\n",
      "      (norm2): LayerNorm((768,), eps=1e-06, elementwise_affine=True)\n",
      "      (mlp): Mlp(\n",
      "        (fc1): Linear(in_features=768, out_features=3072, bias=True)\n",
      "        (act): GELU(approximate='none')\n",
      "        (fc2): Linear(in_features=3072, out_features=768, bias=True)\n",
      "        (drop): Dropout(p=0.0, inplace=False)\n",
      "      )\n",
      "    )\n",
      "  )\n",
      "  (norm): LayerNorm((768,), eps=1e-06, elementwise_affine=True)\n",
      "  (head): Identity()\n",
      ")\n"
     ]
    }
   ],
   "execution_count": 30
  },
  {
   "cell_type": "code",
   "id": "362ec1bf-adb9-4799-8ed7-1ffec8d3d1b1",
   "metadata": {
    "ExecuteTime": {
     "end_time": "2025-07-22T10:18:35.930319Z",
     "start_time": "2025-07-22T10:18:35.510687Z"
    }
   },
   "source": [
    "processor = processor = ViTImageProcessor.from_pretrained('google/vit-base-patch16-224')\n",
    "model_supervised = ViTForImageClassification.from_pretrained('google/vit-base-patch16-224')\n",
    "print(model_supervised)"
   ],
   "outputs": [
    {
     "name": "stdout",
     "output_type": "stream",
     "text": [
      "ViTForImageClassification(\n",
      "  (vit): ViTModel(\n",
      "    (embeddings): ViTEmbeddings(\n",
      "      (patch_embeddings): ViTPatchEmbeddings(\n",
      "        (projection): Conv2d(3, 768, kernel_size=(16, 16), stride=(16, 16))\n",
      "      )\n",
      "      (dropout): Dropout(p=0.0, inplace=False)\n",
      "    )\n",
      "    (encoder): ViTEncoder(\n",
      "      (layer): ModuleList(\n",
      "        (0-11): 12 x ViTLayer(\n",
      "          (attention): ViTAttention(\n",
      "            (attention): ViTSelfAttention(\n",
      "              (query): Linear(in_features=768, out_features=768, bias=True)\n",
      "              (key): Linear(in_features=768, out_features=768, bias=True)\n",
      "              (value): Linear(in_features=768, out_features=768, bias=True)\n",
      "            )\n",
      "            (output): ViTSelfOutput(\n",
      "              (dense): Linear(in_features=768, out_features=768, bias=True)\n",
      "              (dropout): Dropout(p=0.0, inplace=False)\n",
      "            )\n",
      "          )\n",
      "          (intermediate): ViTIntermediate(\n",
      "            (dense): Linear(in_features=768, out_features=3072, bias=True)\n",
      "            (intermediate_act_fn): GELUActivation()\n",
      "          )\n",
      "          (output): ViTOutput(\n",
      "            (dense): Linear(in_features=3072, out_features=768, bias=True)\n",
      "            (dropout): Dropout(p=0.0, inplace=False)\n",
      "          )\n",
      "          (layernorm_before): LayerNorm((768,), eps=1e-12, elementwise_affine=True)\n",
      "          (layernorm_after): LayerNorm((768,), eps=1e-12, elementwise_affine=True)\n",
      "        )\n",
      "      )\n",
      "    )\n",
      "    (layernorm): LayerNorm((768,), eps=1e-12, elementwise_affine=True)\n",
      "  )\n",
      "  (classifier): Linear(in_features=768, out_features=1000, bias=True)\n",
      ")\n"
     ]
    }
   ],
   "execution_count": 17
  },
  {
   "cell_type": "code",
   "id": "057d055c-411a-4ec0-b76f-8f871a782c5e",
   "metadata": {
    "ExecuteTime": {
     "end_time": "2025-07-22T10:29:03.963907Z",
     "start_time": "2025-07-22T10:29:03.782660Z"
    }
   },
   "source": [
    "# Extract CLS token\n",
    "# Load image\n",
    "from PIL import Image\n",
    "image = Image.open('testsets/100_faces/0001_f_n000009_test_003_0004_01.png')\n",
    "\n",
    "# Process\n",
    "inputs = processor(images=image, return_tensors=\"pt\")\n",
    "\n",
    "# Extract CLS token\n",
    "model_supervised.eval()\n",
    "with torch.no_grad():\n",
    "    outputs = model_supervised(**inputs, output_hidden_states=True)\n",
    "    cls_token = outputs.hidden_states[-1][:, 0]\n",
    "\n",
    "outputs.hidden_states[-1].shape"
   ],
   "execution_count": 24,
   "outputs": [
    {
     "data": {
      "text/plain": [
       "torch.Size([1, 197, 768])"
      ]
     },
     "execution_count": 24,
     "metadata": {},
     "output_type": "execute_result"
    }
   ]
  },
  {
   "metadata": {
    "ExecuteTime": {
     "end_time": "2025-07-22T12:57:46.899291Z",
     "start_time": "2025-07-22T12:57:46.893433Z"
    }
   },
   "cell_type": "code",
   "source": [
    "import numpy as np\n",
    "from os.path import join\n",
    "path2activations = f'/data/alban/activations/supervised_hmIT_stimuli'\n",
    "cls_token = list()\n",
    "#patch_token = list()\n",
    "cls_token.append(np.load(join(path2activations, f'cls_token_stimulus1.npy')))\n",
    "cls_token = np.array(cls_token)\n",
    "cls_token.shape"
   ],
   "id": "1289e49a4ddbc1ff",
   "outputs": [
    {
     "data": {
      "text/plain": [
       "(1, 12, 1, 768)"
      ]
     },
     "execution_count": 28,
     "metadata": {},
     "output_type": "execute_result"
    }
   ],
   "execution_count": 28
  },
  {
   "metadata": {},
   "cell_type": "code",
   "outputs": [],
   "execution_count": null,
   "source": "",
   "id": "4b14a0d25aa58dd1"
  }
 ],
 "metadata": {
  "kernelspec": {
   "display_name": "Python 3 (ipykernel)",
   "language": "python",
   "name": "python3"
  },
  "language_info": {
   "codemirror_mode": {
    "name": "ipython",
    "version": 3
   },
   "file_extension": ".py",
   "mimetype": "text/x-python",
   "name": "python",
   "nbconvert_exporter": "python",
   "pygments_lexer": "ipython3",
   "version": "3.10.12"
  }
 },
 "nbformat": 4,
 "nbformat_minor": 5
}
