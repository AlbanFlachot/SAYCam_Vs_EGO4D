{
 "cells": [
  {
   "cell_type": "code",
   "execution_count": 1,
   "id": "3485fe75-ab00-4044-8e93-497fd1632914",
   "metadata": {},
   "outputs": [],
   "source": [
    "import torch\n",
    "import huggingface_hub\n",
    "import utils\n",
    "\n",
    "device = torch.device(\"cpu\")\n"
   ]
  },
  {
   "cell_type": "code",
   "execution_count": 2,
   "id": "8fc03d92-b47e-4e28-81ec-ec029a994d37",
   "metadata": {},
   "outputs": [
    {
     "name": "stdout",
     "output_type": "stream",
     "text": [
      "List of models trained on EGO4D\n",
      "['dino_ego4d-200h_vitb14']\n",
      "List of models trained on SAYCam\n",
      "['dino_say_vitb14', 'dino_say_resnext50', 'dino_say_vitl16', 'dino_say_vitb16', 'dino_say_vits16', 'mugs_say_vitl16', 'mugs_say_vitb16', 'mugs_say_vits16', 'mae_say_vitl16', 'mae_say_vitb16', 'mae_say_vits16']\n",
      "Only 2 compatible models are thus dino_ego4d-200h_vitb14 and dino_say_vitb14\n"
     ]
    }
   ],
   "source": [
    "print('List of models trained on EGO4D')\n",
    "indexes_ego = [i for i, x in enumerate(utils.get_available_models()) if 'ego' in x]\n",
    "print( [utils.get_available_models()[i] for i in indexes_ego])\n",
    "\n",
    "print('List of models trained on SAYCam')\n",
    "indexes_say = [i for i, x in enumerate(utils.get_available_models()) if 'say' in x]\n",
    "print([utils.get_available_models()[i] for i in indexes_say])\n",
    "\n",
    "print('Only 2 compatible models are thus dino_ego4d-200h_vitb14 and dino_say_vitb14')\n"
   ]
  },
  {
   "cell_type": "code",
   "execution_count": 3,
   "id": "ea4a83f2-01e7-4498-a3e7-fae93bfbb784",
   "metadata": {},
   "outputs": [
    {
     "name": "stdout",
     "output_type": "stream",
     "text": [
      "Take key teacher in provided checkpoint dict\n",
      "Pretrained weights found at /home/alban/.cache/huggingface/hub/models--eminorhan--dino_say_vitb14/snapshots/c0b0248168917ff80382202f1a9d2a7b8695d5e3/dino_say_vitb14.pth and loaded with msg: _IncompatibleKeys(missing_keys=[], unexpected_keys=['head.mlp.0.weight', 'head.mlp.0.bias', 'head.mlp.2.weight', 'head.mlp.2.bias', 'head.mlp.4.weight', 'head.mlp.4.bias', 'head.last_layer.weight_g', 'head.last_layer.weight_v'])\n"
     ]
    }
   ],
   "source": [
    "from utils import *\n",
    "\n",
    "model_say = load_model('dino_say_vitb14')\n",
    "#model_ego = load_model('dino_ego4d-200h_vitb14')"
   ]
  },
  {
   "cell_type": "code",
   "execution_count": 4,
   "id": "6ca20416-a37e-4a0a-a663-8bc9c1806833",
   "metadata": {},
   "outputs": [
    {
     "name": "stdout",
     "output_type": "stream",
     "text": [
      "VisionTransformer(\n",
      "  (patch_embed): PatchEmbed(\n",
      "    (proj): Conv2d(3, 768, kernel_size=(14, 14), stride=(14, 14))\n",
      "  )\n",
      "  (pos_drop): Dropout(p=0.0, inplace=False)\n",
      "  (blocks): ModuleList(\n",
      "    (0-11): 12 x Block(\n",
      "      (norm1): LayerNorm((768,), eps=1e-06, elementwise_affine=True)\n",
      "      (attn): Attention(\n",
      "        (qkv): Linear(in_features=768, out_features=2304, bias=True)\n",
      "        (attn_drop): Dropout(p=0.0, inplace=False)\n",
      "        (proj): Linear(in_features=768, out_features=768, bias=True)\n",
      "        (proj_drop): Dropout(p=0.0, inplace=False)\n",
      "      )\n",
      "      (drop_path): Identity()\n",
      "      (norm2): LayerNorm((768,), eps=1e-06, elementwise_affine=True)\n",
      "      (mlp): Mlp(\n",
      "        (fc1): Linear(in_features=768, out_features=3072, bias=True)\n",
      "        (act): GELU(approximate='none')\n",
      "        (fc2): Linear(in_features=3072, out_features=768, bias=True)\n",
      "        (drop): Dropout(p=0.0, inplace=False)\n",
      "      )\n",
      "    )\n",
      "  )\n",
      "  (norm): LayerNorm((768,), eps=1e-06, elementwise_affine=True)\n",
      "  (head): Identity()\n",
      ")\n"
     ]
    }
   ],
   "source": [
    "## Print model\n",
    "print(model_say)\n",
    "#print(model_ego)"
   ]
  },
  {
   "cell_type": "code",
   "execution_count": null,
   "id": "362ec1bf-adb9-4799-8ed7-1ffec8d3d1b1",
   "metadata": {},
   "outputs": [],
   "source": [
    "img = preprocess_image(\"imgs/img_0.jpg\", 1400)\n",
    "with torch.no_grad():\n",
    "    visualize_attentions(model_say, img, patch_size=14)"
   ]
  },
  {
   "cell_type": "code",
   "execution_count": null,
   "id": "057d055c-411a-4ec0-b76f-8f871a782c5e",
   "metadata": {},
   "outputs": [],
   "source": []
  }
 ],
 "metadata": {
  "kernelspec": {
   "display_name": "Python 3 (ipykernel)",
   "language": "python",
   "name": "python3"
  },
  "language_info": {
   "codemirror_mode": {
    "name": "ipython",
    "version": 3
   },
   "file_extension": ".py",
   "mimetype": "text/x-python",
   "name": "python",
   "nbconvert_exporter": "python",
   "pygments_lexer": "ipython3",
   "version": "3.11.4"
  }
 },
 "nbformat": 4,
 "nbformat_minor": 5
}
