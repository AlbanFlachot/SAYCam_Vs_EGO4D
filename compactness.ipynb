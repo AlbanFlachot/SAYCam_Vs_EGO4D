{
 "cells": [
  {
   "cell_type": "code",
   "id": "initial_id",
   "metadata": {
    "collapsed": true,
    "ExecuteTime": {
     "end_time": "2025-08-25T10:38:40.908625Z",
     "start_time": "2025-08-25T10:38:40.900622Z"
    }
   },
   "source": [
    "import importlib\n",
    "import numpy as np\n",
    "import sklearn\n",
    "from matplotlib import pyplot as plt\n",
    "from os.path import join\n",
    "import os\n",
    "import seaborn as sns\n",
    "import lib.utils_RSA as rsa\n",
    "from lib.algos import *\n",
    "from scipy.spatial import procrustes as scipro\n",
    "\n",
    "importlib.reload(rsa)"
   ],
   "outputs": [
    {
     "data": {
      "text/plain": [
       "<module 'lib.utils_RSA' from '/home/alban/projects/SAYCam_Vs_EGO4D/lib/utils_RSA.py'>"
      ]
     },
     "execution_count": 11,
     "metadata": {},
     "output_type": "execute_result"
    }
   ],
   "execution_count": 11
  },
  {
   "metadata": {
    "ExecuteTime": {
     "end_time": "2025-08-25T10:38:42.993110Z",
     "start_time": "2025-08-25T10:38:42.349274Z"
    }
   },
   "cell_type": "code",
   "source": [
    "dataset = 'imagenetVal'\n",
    "models  = ['ego', 'saycam', 'imagenet', 'supervised', 'random', 'resnet']\n",
    "path2activations = f'/home/alban/Documents/activations_datadriven/%s_{dataset}/'\n",
    "\n",
    "imagelists = {}\n",
    "activations = {}\n",
    "for model in models:\n",
    "    with open(join(path2activations%model, 'imagepaths.txt'), 'r') as f:\n",
    "        imagelists[model] = [line.strip() for line in f.readlines()]\n",
    "    activations[model] = np.load(join(path2activations % model, 'cls_tokens.npy'))\n",
    "\n",
    "activations[model].shape\n"
   ],
   "id": "9d74a01f946de792",
   "outputs": [
    {
     "data": {
      "text/plain": [
       "(50000, 2048)"
      ]
     },
     "execution_count": 12,
     "metadata": {},
     "output_type": "execute_result"
    }
   ],
   "execution_count": 12
  },
  {
   "metadata": {
    "ExecuteTime": {
     "end_time": "2025-08-25T10:46:34.953401Z",
     "start_time": "2025-08-25T10:46:34.921892Z"
    }
   },
   "cell_type": "code",
   "source": [
    "### check if images were shown in the same order\n",
    "assert imagelists['ego'] == imagelists['saycam']\n",
    "imagelist = imagelists['ego'] # since they are the same, only consider one list\n",
    "\n",
    "#### check if each category has the same number of images and list all categories in listcats\n",
    "count = 0\n",
    "cat = ''\n",
    "listcat = list()\n",
    "for i, imgp in enumerate(imagelist):\n",
    "    current_cat = imgp.split('/')[-2]\n",
    "    if i == 0:\n",
    "        cat = current_cat\n",
    "        listcat.append(current_cat)\n",
    "    if cat != current_cat:\n",
    "        cat = current_cat\n",
    "        listcat.append(current_cat)\n",
    "        count = 1\n",
    "    else:\n",
    "        count += 1\n",
    "\n",
    "nb_per_cat = count # in val, 50 images per cate\n",
    "nb_per_cat"
   ],
   "id": "20a5beb160dafd1e",
   "outputs": [
    {
     "data": {
      "text/plain": [
       "50"
      ]
     },
     "execution_count": 18,
     "metadata": {},
     "output_type": "execute_result"
    }
   ],
   "execution_count": 18
  },
  {
   "metadata": {
    "ExecuteTime": {
     "end_time": "2025-08-25T10:47:02.583105Z",
     "start_time": "2025-08-25T10:47:01.995043Z"
    }
   },
   "cell_type": "code",
   "source": [
    "### reshape activations according to include categories\n",
    "cat_activations = activations.copy()\n",
    "\n",
    "for model in models:\n",
    "    norms = np.linalg.norm(activations[model], axis=1, keepdims=True)\n",
    "    activations[model] = activations[model]/norms # normalization\n",
    "    shape = activations[model].shape\n",
    "    cat_activations[model] = cat_activations[model].reshape(-1, nb_per_cat, shape[-1])"
   ],
   "id": "d4235475cff135a6",
   "outputs": [],
   "execution_count": 21
  },
  {
   "metadata": {
    "ExecuteTime": {
     "end_time": "2025-08-25T10:08:35.487170Z",
     "start_time": "2025-08-25T10:08:07.112668Z"
    }
   },
   "cell_type": "code",
   "source": [
    "compactness2 = {}\n",
    "compact_categories2 = {}\n",
    "for model in models:\n",
    "    nb_cats = len(cat_activations[model])\n",
    "    mean_normalized_cat_var = list()\n",
    "\n",
    "    print(model)\n",
    "    for c in range(nb_cats): # loop over categories\n",
    "        # Fix: Create mask for current category c, not always category 0\n",
    "        mask = np.arange(0, nb_cats) == c\n",
    "\n",
    "        # Current category centroid\n",
    "        centroid = np.mean(cat_activations[model][c], axis=0)\n",
    "\n",
    "        # Intra-category variance (variance within current category)\n",
    "        intra_var = np.mean((cat_activations[model][c] - centroid)**2, axis=0)\n",
    "\n",
    "        # Inter-category variance (variance of other categories relative to current centroid)\n",
    "        other_categories = [cat_activations[model][i] for i in range(nb_cats) if i != c]\n",
    "        other_activations = np.concatenate(other_categories, axis=0)\n",
    "        inter_var = np.mean((other_activations - centroid)**2, axis=0)\n",
    "\n",
    "        # Normalize intra-category variance by inter-category variance\n",
    "        normalized_cat_var = intra_var / inter_var\n",
    "        mean_normalized_cat_var.append(normalized_cat_var.mean())\n",
    "\n",
    "    mean_normalized_cat_var = np.array(mean_normalized_cat_var)\n",
    "    compactness2[model] = np.sort(mean_normalized_cat_var)\n",
    "    compact_categories2[model] = np.array(listcat)[np.argsort(mean_normalized_cat_var)]"
   ],
   "id": "7f8b54db79c4ccd8",
   "outputs": [
    {
     "name": "stdout",
     "output_type": "stream",
     "text": [
      "ego\n"
     ]
    },
    {
     "ename": "KeyboardInterrupt",
     "evalue": "",
     "output_type": "error",
     "traceback": [
      "\u001B[31m---------------------------------------------------------------------------\u001B[39m",
      "\u001B[31mKeyboardInterrupt\u001B[39m                         Traceback (most recent call last)",
      "\u001B[36mCell\u001B[39m\u001B[36m \u001B[39m\u001B[32mIn[8]\u001B[39m\u001B[32m, line 21\u001B[39m\n\u001B[32m     19\u001B[39m other_categories = [cat_activations[model][i] \u001B[38;5;28;01mfor\u001B[39;00m i \u001B[38;5;129;01min\u001B[39;00m \u001B[38;5;28mrange\u001B[39m(nb_cats) \u001B[38;5;28;01mif\u001B[39;00m i != c]\n\u001B[32m     20\u001B[39m other_activations = np.concatenate(other_categories, axis=\u001B[32m0\u001B[39m)\n\u001B[32m---> \u001B[39m\u001B[32m21\u001B[39m inter_var = \u001B[43mnp\u001B[49m\u001B[43m.\u001B[49m\u001B[43mmean\u001B[49m\u001B[43m(\u001B[49m\u001B[43m(\u001B[49m\u001B[43mother_activations\u001B[49m\u001B[43m \u001B[49m\u001B[43m-\u001B[49m\u001B[43m \u001B[49m\u001B[43mcentroid\u001B[49m\u001B[43m)\u001B[49m\u001B[43m*\u001B[49m\u001B[43m*\u001B[49m\u001B[32;43m2\u001B[39;49m\u001B[43m,\u001B[49m\u001B[43m \u001B[49m\u001B[43maxis\u001B[49m\u001B[43m=\u001B[49m\u001B[32;43m0\u001B[39;49m\u001B[43m)\u001B[49m\n\u001B[32m     23\u001B[39m \u001B[38;5;66;03m# Normalize intra-category variance by inter-category variance\u001B[39;00m\n\u001B[32m     24\u001B[39m normalized_cat_var = intra_var / inter_var\n",
      "\u001B[36mFile \u001B[39m\u001B[32m~/venvs/SAYCamVSEgo/lib/python3.12/site-packages/numpy/_core/fromnumeric.py:3904\u001B[39m, in \u001B[36mmean\u001B[39m\u001B[34m(a, axis, dtype, out, keepdims, where)\u001B[39m\n\u001B[32m   3901\u001B[39m     \u001B[38;5;28;01melse\u001B[39;00m:\n\u001B[32m   3902\u001B[39m         \u001B[38;5;28;01mreturn\u001B[39;00m mean(axis=axis, dtype=dtype, out=out, **kwargs)\n\u001B[32m-> \u001B[39m\u001B[32m3904\u001B[39m \u001B[38;5;28;01mreturn\u001B[39;00m \u001B[43m_methods\u001B[49m\u001B[43m.\u001B[49m\u001B[43m_mean\u001B[49m\u001B[43m(\u001B[49m\u001B[43ma\u001B[49m\u001B[43m,\u001B[49m\u001B[43m \u001B[49m\u001B[43maxis\u001B[49m\u001B[43m=\u001B[49m\u001B[43maxis\u001B[49m\u001B[43m,\u001B[49m\u001B[43m \u001B[49m\u001B[43mdtype\u001B[49m\u001B[43m=\u001B[49m\u001B[43mdtype\u001B[49m\u001B[43m,\u001B[49m\n\u001B[32m   3905\u001B[39m \u001B[43m                      \u001B[49m\u001B[43mout\u001B[49m\u001B[43m=\u001B[49m\u001B[43mout\u001B[49m\u001B[43m,\u001B[49m\u001B[43m \u001B[49m\u001B[43m*\u001B[49m\u001B[43m*\u001B[49m\u001B[43mkwargs\u001B[49m\u001B[43m)\u001B[49m\n",
      "\u001B[36mFile \u001B[39m\u001B[32m~/venvs/SAYCamVSEgo/lib/python3.12/site-packages/numpy/_core/_methods.py:119\u001B[39m, in \u001B[36m_mean\u001B[39m\u001B[34m(a, axis, dtype, out, keepdims, where)\u001B[39m\n\u001B[32m    116\u001B[39m     \u001B[38;5;28;01melse\u001B[39;00m:\n\u001B[32m    117\u001B[39m         \u001B[38;5;28;01mreturn\u001B[39;00m um.clip(a, \u001B[38;5;28mmin\u001B[39m, \u001B[38;5;28mmax\u001B[39m, out=out, **kwargs)\n\u001B[32m--> \u001B[39m\u001B[32m119\u001B[39m \u001B[38;5;28;01mdef\u001B[39;00m\u001B[38;5;250m \u001B[39m\u001B[34m_mean\u001B[39m(a, axis=\u001B[38;5;28;01mNone\u001B[39;00m, dtype=\u001B[38;5;28;01mNone\u001B[39;00m, out=\u001B[38;5;28;01mNone\u001B[39;00m, keepdims=\u001B[38;5;28;01mFalse\u001B[39;00m, *, where=\u001B[38;5;28;01mTrue\u001B[39;00m):\n\u001B[32m    120\u001B[39m     arr = asanyarray(a)\n\u001B[32m    122\u001B[39m     is_float16_result = \u001B[38;5;28;01mFalse\u001B[39;00m\n",
      "\u001B[31mKeyboardInterrupt\u001B[39m: "
     ]
    }
   ],
   "execution_count": 8
  },
  {
   "metadata": {
    "ExecuteTime": {
     "end_time": "2025-08-25T10:50:53.185790Z",
     "start_time": "2025-08-25T10:47:13.266227Z"
    }
   },
   "cell_type": "code",
   "source": [
    "def compute_compactness_memory_efficient(cat_activations, models, listcat):\n",
    "    \"\"\"\n",
    "    Memory-efficient version that processes one model at a time and uses generators.\n",
    "    Good for very large datasets.\n",
    "    \"\"\"\n",
    "    compactness2 = {}\n",
    "    compact_categories2 = {}\n",
    "\n",
    "    for model in models:\n",
    "        print(model)\n",
    "        n_cats = len(cat_activations[model])\n",
    "\n",
    "        # Pre-compute centroids\n",
    "        centroids = np.array([np.mean(cat_act, axis=0) for cat_act in cat_activations[model]])\n",
    "\n",
    "        # Compute metrics using generator expressions to save memory\n",
    "        intra_vars = np.array([\n",
    "            np.mean((cat_activations[model][i] - centroids[i])**2)\n",
    "            for i in range(n_cats)\n",
    "        ])\n",
    "\n",
    "        inter_vars = np.array([\n",
    "            np.mean([\n",
    "                np.mean((cat_activations[model][j] - centroids[i])**2)\n",
    "                for j in range(n_cats) if j != i\n",
    "            ])\n",
    "            for i in range(n_cats)\n",
    "        ])\n",
    "\n",
    "        # Compute normalized variances\n",
    "        normalized_vars = intra_vars / inter_vars\n",
    "\n",
    "        # Sort and store results\n",
    "        sort_indices = np.argsort(normalized_vars)\n",
    "        compactness2[model] = normalized_vars[sort_indices]\n",
    "        compact_categories2[model] = np.array(listcat)[sort_indices]\n",
    "\n",
    "    return compactness2, compact_categories2\n",
    "\n",
    "compactness3, compact_categories3 = compute_compactness_memory_efficient(cat_activations, models, listcat)"
   ],
   "id": "afb2796adf7fe388",
   "outputs": [
    {
     "name": "stdout",
     "output_type": "stream",
     "text": [
      "ego\n",
      "saycam\n",
      "imagenet\n",
      "supervised\n",
      "random\n",
      "resnet\n"
     ]
    }
   ],
   "execution_count": 23
  },
  {
   "metadata": {
    "ExecuteTime": {
     "end_time": "2025-08-25T10:47:07.491063Z",
     "start_time": "2025-08-25T10:47:07.485843Z"
    }
   },
   "cell_type": "code",
   "source": [
    "for model in models:\n",
    "    print(cat_activations[model].shape)"
   ],
   "id": "8a445d549b7030d0",
   "outputs": [
    {
     "name": "stdout",
     "output_type": "stream",
     "text": [
      "(1000, 50, 768)\n",
      "(1000, 50, 768)\n",
      "(1000, 50, 768)\n",
      "(1000, 50, 768)\n",
      "(1000, 50, 768)\n",
      "(1000, 50, 2048)\n"
     ]
    }
   ],
   "execution_count": 22
  },
  {
   "metadata": {
    "ExecuteTime": {
     "end_time": "2025-08-25T10:51:14.124571Z",
     "start_time": "2025-08-25T10:51:13.810686Z"
    }
   },
   "cell_type": "code",
   "source": [
    "import math\n",
    "def plot_stats(SIMs, submodels, labels = ['label1', 'label2']):\n",
    "    '''plot the compactness as a function of sorted image category.\n",
    "    Plot is a subplot of adaptative size, depending on the length of the list submodel given.\n",
    "    '''\n",
    "    nb_subs = len(submodels) # Number of subs\n",
    "    sqrt = np.sqrt(nb_subs)\n",
    "    cols = math.ceil(sqrt)\n",
    "    rows = math.ceil(nb_subs // sqrt)\n",
    "    while (cols*rows)<(nb_subs):\n",
    "        rows =rows + 1 ## compute the number of columns and rows\n",
    "    fig, subs = plt.subplots(rows,cols, sharex=True, sharey=True, figsize=(cols*2+1, rows*2+1)) # adaptative size\n",
    "    count = 0\n",
    "    minval = 1\n",
    "    maxval = 0\n",
    "    for i, model in enumerate(submodels):\n",
    "        minval = min(minval, np.amin(SIMs[model]))\n",
    "        maxval = max(maxval, np.amax(SIMs[model]))\n",
    "        if rows ==1:\n",
    "            subs[count%cols].plot(SIMs[model])\n",
    "            subs[count%cols].set_title(f'{model}')\n",
    "        else:\n",
    "            subs[count//cols, count%cols].plot(SIMs[model])\n",
    "            subs[count//cols, count%cols].set_title(f'{model}')\n",
    "            count+=1\n",
    "    maxval = min(maxval, 1.1)\n",
    "    plt.ylim(np.round(minval,1)-0.1, np.round(maxval,1)+0.1)\n",
    "    if rows == 1:\n",
    "        subs[0].set_ylabel(labels[1])\n",
    "        for sub in subs:\n",
    "            sub.set_xlabel(labels[0])\n",
    "    else:\n",
    "        for sub in subs[-1]:\n",
    "            sub.set_xlabel(labels[0])\n",
    "        for sub in subs[:,0]:\n",
    "            sub.set_ylabel(labels[1])\n",
    "\n",
    "    fig.tight_layout()\n",
    "    plt.show()\n",
    "    plt.close()\n",
    "\n",
    "plot_stats(compactness3,models,  ['Categories', 'Normalized var'])\n",
    "for model in models:\n",
    "    print(f'{model}')\n",
    "    print(compact_categories3[model][:20])\n",
    "for model in models:\n",
    "    print(compact_categories3[model][-20:])"
   ],
   "id": "7facce620c225d44",
   "outputs": [
    {
     "data": {
      "text/plain": [
       "<Figure size 700x500 with 6 Axes>"
      ],
      "image/png": "[encoded data removed]"
     },
     "metadata": {},
     "output_type": "display_data"
    },
    {
     "name": "stdout",
     "output_type": "stream",
     "text": [
      "ego\n",
      "['n02701002' 'n04487081' 'n06359193' 'n03769881' 'n04335435' 'n12057211'\n",
      " 'n13044778' 'n03841143' 'n03290653' 'n03777568' 'n03977966' 'n03590841'\n",
      " 'n09288635' 'n03272562' 'n02111129' 'n04065272' 'n03770679' 'n04243546'\n",
      " 'n03916031' 'n01843065']\n",
      "saycam\n",
      "['n02701002' 'n06359193' 'n04487081' 'n03769881' 'n02111129' 'n03977966'\n",
      " 'n04335435' 'n13044778' 'n03272562' 'n03345487' 'n03290653' 'n03599486'\n",
      " 'n04065272' 'n03777568' 'n04146614' 'n03770679' 'n03417042' 'n13037406'\n",
      " 'n04525305' 'n03841143']\n",
      "imagenet\n",
      "['n12057211' 'n03841143' 'n01773157' 'n02279972' 'n01843065' 'n04487081'\n",
      " 'n13037406' 'n01872401' 'n02701002' 'n13044778' 'n11939491' 'n02606052'\n",
      " 'n02391049' 'n02951358' 'n02276258' 'n12985857' 'n02128385' 'n01817953'\n",
      " 'n02643566' 'n02281406']\n",
      "supervised\n",
      "['n01872401' 'n03924679' 'n01773157' 'n03841143' 'n02116738' 'n03544143'\n",
      " 'n02013706' 'n04487081' 'n02917067' 'n01518878' 'n02128385' 'n13044778'\n",
      " 'n02391049' 'n01774750' 'n03218198' 'n03956157' 'n02130308' 'n04505470'\n",
      " 'n12057211' 'n02025239']\n",
      "random\n",
      "['n03590841' 'n04243546' 'n12057211' 'n01491361' 'n13044778' 'n02074367'\n",
      " 'n10565667' 'n01484850' 'n03888257' 'n04418357' 'n02071294' 'n02277742'\n",
      " 'n03673027' 'n09399592' 'n04228054' 'n04483307' 'n04552348' 'n01494475'\n",
      " 'n07716906' 'n12998815']\n",
      "resnet\n",
      "['n02701002' 'n04487081' 'n06359193' 'n03769881' 'n03777568' 'n03290653'\n",
      " 'n03272562' 'n03977966' 'n04335435' 'n03599486' 'n03345487' 'n03770679'\n",
      " 'n04065272' 'n04525305' 'n03417042' 'n03180011' 'n04243546' 'n03179701'\n",
      " 'n13037406' 'n03924679']\n",
      "['n01784675' 'n04090263' 'n03141823' 'n03658185' 'n04067472' 'n04557648'\n",
      " 'n04033901' 'n04376876' 'n04154565' 'n03498962' 'n03876231' 'n03250847'\n",
      " 'n01990800' 'n03958227' 'n03794056' 'n04127249' 'n04270147' 'n03804744'\n",
      " 'n03532672' 'n02999410']\n",
      "['n02799071' 'n03250847' 'n03372029' 'n03530642' 'n03065424' 'n03347037'\n",
      " 'n04376876' 'n04192698' 'n04270147' 'n04208210' 'n04409515' 'n03498962'\n",
      " 'n04557648' 'n04067472' 'n04127249' 'n03958227' 'n09229709' 'n03804744'\n",
      " 'n03532672' 'n02999410']\n",
      "['n04116512' 'n03633091' 'n04192698' 'n03141823' 'n03976657' 'n04525038'\n",
      " 'n04557648' 'n03498962' 'n03970156' 'n02776631' 'n04154565' 'n04127249'\n",
      " 'n04332243' 'n04286575' 'n04141975' 'n03958227' 'n04270147' 'n03065424'\n",
      " 'n02999410' 'n03532672']\n",
      "['n03692522' 'n04507155' 'n04192698' 'n07860988' 'n04154565' 'n04286575'\n",
      " 'n03958227' 'n03724870' 'n03976657' 'n04136333' 'n04355933' 'n04356056'\n",
      " 'n04557648' 'n03476684' 'n02776631' 'n03633091' 'n07615774' 'n03970156'\n",
      " 'n03532672' 'n04525038']\n",
      "['n01530575' 'n01990800' 'n03075370' 'n04332243' 'n04522168' 'n01532829'\n",
      " 'n03445777' 'n04141327' 'n04423845' 'n04270147' 'n03876231' 'n02012849'\n",
      " 'n02879718' 'n03443371' 'n01980166' 'n03544143' 'n02999410' 'n02865351'\n",
      " 'n04372370' 'n01773549']\n",
      "['n04409515' 'n02009912' 'n02264363' 'n01784675' 'n02231487' 'n02233338'\n",
      " 'n02229544' 'n01537544' 'n01776313' 'n03958227' 'n09229709' 'n03804744'\n",
      " 'n02219486' 'n01582220' 'n01770393' 'n01530575' 'n01773549' 'n03530642'\n",
      " 'n03532672' 'n02999410']\n"
     ]
    }
   ],
   "execution_count": 25
  },
  {
   "metadata": {
    "ExecuteTime": {
     "end_time": "2025-08-25T10:53:04.698291Z",
     "start_time": "2025-08-25T10:53:04.682792Z"
    }
   },
   "cell_type": "code",
   "source": [
    "def check_list_similarity(list1, list2):\n",
    "    '''Checks if two lists contain the same elements, regardless of order,\n",
    "    and calculates the proportion of common elements.'''\n",
    "    set1 = set(list1)\n",
    "    set2 = set(list2)\n",
    "    common_elements = set1 & set2  # Intersection of sets\n",
    "    proportion = (len(common_elements) / max(len(set1), len(set2))) * 100 if max(len(set1), len(set2)) > 0 else 0\n",
    "    return proportion\n",
    "\n",
    "print('\\nSimilarities saycam and the others')\n",
    "for model in models[:]:\n",
    "    print(check_list_similarity(compact_categories3['saycam'][:50],compact_categories3[model][:50]))\n",
    "\n",
    "print('\\nSimilarities ego and the others')\n",
    "for model in models[:]:\n",
    "    print(check_list_similarity(compact_categories3['ego'][:50],compact_categories3[model][:50]))\n",
    "\n",
    "print('\\nSimilarities imagenet and the others')\n",
    "for model in models[:]:\n",
    "    print(check_list_similarity(compact_categories3['imagenet'][:50],compact_categories3[model][:50]))\n",
    "\n",
    "print('\\nSimilarities supervised and the others')\n",
    "for model in models[:]:\n",
    "    print(check_list_similarity(compact_categories3['supervised'][:50],compact_categories3[model][:50]))\n",
    "\n",
    "print('\\nSimilarities resnet and the others')\n",
    "for model in models[:]:\n",
    "    print(check_list_similarity(compact_categories3['resnet'][:50],compact_categories3[model][:50]))"
   ],
   "id": "9be2ce8bf602560b",
   "outputs": [
    {
     "name": "stdout",
     "output_type": "stream",
     "text": [
      "\n",
      "Similarities saycam and the others\n",
      "78.0\n",
      "100.0\n",
      "40.0\n",
      "22.0\n",
      "14.000000000000002\n",
      "74.0\n",
      "\n",
      "Similarities ego and the others\n",
      "100.0\n",
      "78.0\n",
      "42.0\n",
      "20.0\n",
      "20.0\n",
      "68.0\n",
      "\n",
      "Similarities imagenet and the others\n",
      "42.0\n",
      "40.0\n",
      "100.0\n",
      "42.0\n",
      "18.0\n",
      "26.0\n",
      "\n",
      "Similarities supervised and the others\n",
      "20.0\n",
      "22.0\n",
      "42.0\n",
      "100.0\n",
      "12.0\n",
      "14.000000000000002\n",
      "\n",
      "Similarities resnet and the others\n",
      "68.0\n",
      "74.0\n",
      "26.0\n",
      "14.000000000000002\n",
      "10.0\n",
      "100.0\n"
     ]
    }
   ],
   "execution_count": 28
  },
  {
   "metadata": {
    "ExecuteTime": {
     "end_time": "2025-08-25T10:53:35.611309Z",
     "start_time": "2025-08-25T10:53:34.768556Z"
    }
   },
   "cell_type": "code",
   "source": [
    "### Compute 500 random sequence for significance\n",
    "# initialize sequences\n",
    "nb_trials = 500\n",
    "idx_vec = np.array(range(len(listcat)))\n",
    "mat_vec = np.zeros((nb_trials, len(idx_vec)))\n",
    "for i in range(nb_trials):\n",
    "    np.random.shuffle(idx_vec)\n",
    "    mat_vec[i] = idx_vec\n",
    "\n",
    "#Compute all possible similarity pairs\n",
    "list_sim = []\n",
    "for i in range(len(mat_vec)-1):\n",
    "    for j in range(i+1,len(mat_vec)):\n",
    "        list_sim.append(check_list_similarity(list(mat_vec[i][:50]), list(mat_vec[j][:50])))\n",
    "\n",
    "# Compute 95 percentile\n",
    "confinter = np.percentile(list_sim, 95)\n",
    "print(f'The 95% confidence interval is:{confinter}')"
   ],
   "id": "6ce9c8abfb1b1c34",
   "outputs": [
    {
     "name": "stdout",
     "output_type": "stream",
     "text": [
      "The 95% confidence interval is:10.0\n"
     ]
    }
   ],
   "execution_count": 29
  },
  {
   "metadata": {
    "ExecuteTime": {
     "end_time": "2025-08-25T14:13:12.889920Z",
     "start_time": "2025-08-25T14:13:12.882248Z"
    }
   },
   "cell_type": "code",
   "source": [
    "def max_compactness_difference(compact_categories, compactness, models = ['saycam', 'ego'], nb_max_compactness = 10):\n",
    "    '''\n",
    "    Function that sorts categories following the maximum difference in compactness given 2 models\n",
    "    '''\n",
    "    nb_categories = cat_activations[models[0]].shape[0]\n",
    "    ori_cat = np.arange(0,nb_categories)\n",
    "    comp_cat = np.zeros(nb_categories)\n",
    "    for c, cat in enumerate(compact_categories[models[0]]):\n",
    "        comp_cat[c] = compact_categories[models[1]].tolist().index(cat) # rank for model2 the categories sorted for model1\n",
    "\n",
    "    #diff = np.absolute(comp_cat - ori_cat) # distance in terms of rank\n",
    "    diff = np.absolute(compactness[models[0]][comp_cat.astype(int)] - compactness[models[0]][ori_cat.astype(int)]) # distance in terms of compactness\n",
    "    sortedmaxdiffcats = np.array(listcat)[np.argsort(-diff)]\n",
    "    maxdiffs = np.sort(diff)[::-1]\n",
    "\n",
    "    labels = np.argsort(-diff)\n",
    "    max_compactness_cats = sortedmaxdiffcats[:nb_max_compactness]\n",
    "    print(f'The {nb_max_compactness} categories leading to the max differences between {models[0]} and {models[1]} are {sortedmaxdiffcats[:nb_max_compactness]}')\n",
    "    print(f'Category numbers are {labels[:nb_max_compactness]}')\n",
    "    print(f'With differences in compactness of  {maxdiffs[:nb_max_compactness]}')\n",
    "\n",
    "    return labels, sortedmaxdiffcats, maxdiffs"
   ],
   "id": "889c85cf93c3912a",
   "outputs": [],
   "execution_count": 32
  },
  {
   "metadata": {
    "ExecuteTime": {
     "end_time": "2025-08-25T14:18:20.899718Z",
     "start_time": "2025-08-25T14:18:20.828483Z"
    }
   },
   "cell_type": "code",
   "source": "labels3, sortedmaxdiffcats3, maxdiffs3 = max_compactness_difference(compact_categories3, compactness3, models = ['saycam', 'imagenet'], nb_max_compactness = 10)",
   "id": "450f02d0f23ebe9e",
   "outputs": [
    {
     "name": "stdout",
     "output_type": "stream",
     "text": [
      "The 10 categories leading to the max differences between saycam and imagenet are ['n02088238' 'n04554684' 'n01664065' 'n01443537' 'n01518878' 'n02395406'\n",
      " 'n01558993' 'n01833805' 'n02783161' 'n01491361']\n",
      "Category numbers are [161 897  33   1   9 341  15  94 418   3]\n",
      "With differences in compactness of  [0.2691312  0.25123674 0.22832862 0.22660038 0.20826298 0.19760913\n",
      " 0.1948064  0.18643758 0.17610425 0.17021647]\n"
     ]
    }
   ],
   "execution_count": 38
  },
  {
   "metadata": {
    "ExecuteTime": {
     "end_time": "2025-08-25T14:18:25.037742Z",
     "start_time": "2025-08-25T14:18:24.539196Z"
    }
   },
   "cell_type": "code",
   "source": [
    "    ### Let's check if the resulting RDMs really are very dissimilar! For the record, the average similarity should be around 0.6\n",
    "## For now let's consider the 10 categories with max compactness difference, 4 random images in each category\n",
    "nb_max_compactness = 10\n",
    "imgspercat = 4 #\n",
    "import random\n",
    "\n",
    "cat_imgs = list() # list of nb_max_compactness*4 images\n",
    "list_randidx = list(range(nb_per_cat))\n",
    "list_selec_idx = list()\n",
    "list\n",
    "for icat in labels3[:nb_max_compactness]:# loop over first 10 categories with max compactness difference\n",
    "    random.shuffle(list_randidx) # shuffle and take 4 first idx to sample 4 images randomly\n",
    "    for cat_img in list_randidx[:imgspercat]:\n",
    "        cat_imgs.append(imagelist[icat*nb_per_cat + cat_img])\n",
    "        list_selec_idx.append(icat*nb_per_cat + cat_img)\n",
    "\n",
    "metric = 'L2squared'\n",
    "sim_metric = 'pearson'\n",
    "### compute RSA\n",
    "test_models = ['saycam', 'ego']\n",
    "test_rdms = {}\n",
    "for model in test_models:\n",
    "    test_rdms[model] = rsa.compute_RDMs(activations[model][list_selec_idx], metric = metric, display = True, title = f'{model}_{metric}_max')\n",
    "\n",
    "SIMs_saycam_ego = rsa.Compute_sim_RDMs(test_rdms['saycam'], test_rdms['ego'], center = False, metric = sim_metric)\n",
    "SIMs_saycam_ego"
   ],
   "id": "cd61c75b86bab403",
   "outputs": [
    {
     "data": {
      "text/plain": [
       "<Figure size 640x480 with 2 Axes>"
      ],
      "image/png": "[encoded data removed]"
     },
     "metadata": {},
     "output_type": "display_data"
    },
    {
     "data": {
      "text/plain": [
       "<Figure size 640x480 with 2 Axes>"
      ],
      "image/png": "[encoded data removed]"
     },
     "metadata": {},
     "output_type": "display_data"
    },
    {
     "data": {
      "text/plain": [
       "np.float64(0.6188307717585044)"
      ]
     },
     "execution_count": 39,
     "metadata": {},
     "output_type": "execute_result"
    }
   ],
   "execution_count": 39
  }
 ],
 "metadata": {
  "kernelspec": {
   "display_name": "Python 3",
   "language": "python",
   "name": "python3"
  },
  "language_info": {
   "codemirror_mode": {
    "name": "ipython",
    "version": 2
   },
   "file_extension": ".py",
   "mimetype": "text/x-python",
   "name": "python",
   "nbconvert_exporter": "python",
   "pygments_lexer": "ipython2",
   "version": "2.7.6"
  }
 },
 "nbformat": 4,
 "nbformat_minor": 5
}
