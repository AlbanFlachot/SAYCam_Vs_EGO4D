{
 "cells": [
  {
   "metadata": {
    "collapsed": true
   },
   "cell_type": "markdown",
   "source": "A script trying to implement and make sense of the different similarity metrics",
   "id": "ed5bd7158353e2c5"
  },
  {
   "metadata": {
    "ExecuteTime": {
     "end_time": "2025-08-21T13:36:23.426091Z",
     "start_time": "2025-08-21T13:36:23.418101Z"
    }
   },
   "cell_type": "code",
   "source": [
    "import importlib\n",
    "import numpy as np\n",
    "import sklearn\n",
    "from matplotlib import pyplot as plt\n",
    "from os.path import join\n",
    "import os\n",
    "import seaborn as sns\n",
    "import lib.utils_RSA as rsa\n",
    "from lib.algos import *\n",
    "from scipy.spatial import procrustes as scipro\n",
    "import lib.utils_CKA as cka\n",
    "\n",
    "importlib.reload(rsa)\n",
    "importlib.reload(cka)"
   ],
   "id": "e075f365f79fc5f4",
   "outputs": [
    {
     "data": {
      "text/plain": [
       "<module 'lib.utils_CKA' from '/home/alban/SAYCam_Vs_EGO4D/lib/utils_CKA.py'>"
      ]
     },
     "execution_count": 123,
     "metadata": {},
     "output_type": "execute_result"
    }
   ],
   "execution_count": 123
  },
  {
   "metadata": {
    "ExecuteTime": {
     "end_time": "2025-08-21T10:28:05.039886Z",
     "start_time": "2025-08-21T10:28:04.832126Z"
    }
   },
   "cell_type": "code",
   "source": [
    "### Load in every activation sets\n",
    "dataset = 'ecoVal'\n",
    "models  = ['ego', 'saycam', 'imagenet', 'supervised', 'random', 'resnet']\n",
    "path2activations = f'/data/alban/activations_datadriven/%s_{dataset}/'\n",
    "\n",
    "imagelists = {}\n",
    "activations = {}\n",
    "for model in models:\n",
    "    with open(join(path2activations%model, 'imagepaths.txt'), 'r') as f:\n",
    "        imagelists[model] = [line.strip() for line in f.readlines()]\n",
    "    activations[model] = np.load(join(path2activations % model, 'cls_tokens.npy'))\n",
    "\n",
    "activations[model].shape"
   ],
   "id": "2d71337dc32989d6",
   "outputs": [
    {
     "data": {
      "text/plain": [
       "(28250, 2048)"
      ]
     },
     "execution_count": 72,
     "metadata": {},
     "output_type": "execute_result"
    }
   ],
   "execution_count": 72
  },
  {
   "metadata": {
    "ExecuteTime": {
     "end_time": "2025-08-21T10:28:05.075633Z",
     "start_time": "2025-08-21T10:28:05.054754Z"
    }
   },
   "cell_type": "code",
   "source": [
    "### check if images were shown in the same order\n",
    "imagelists['ego'] == imagelists['saycam']\n",
    "imagelist = imagelists['ego'] # since they are the same, only consider one list\n",
    "\n",
    "#### check if each category has the same number of images and list all categories in listcats\n",
    "count = 0\n",
    "cat = ''\n",
    "listcat = list()\n",
    "for i, imgp in enumerate(imagelist):\n",
    "    current_cat = imgp.split('/')[7]\n",
    "    if i == 0:\n",
    "        cat = current_cat\n",
    "        listcat.append(current_cat)\n",
    "    if cat != current_cat:\n",
    "        cat = current_cat\n",
    "        listcat.append(current_cat)\n",
    "        count = 1\n",
    "    else:\n",
    "        count += 1\n",
    "\n",
    "nb_per_cat = count # in val, 50 images per category\n"
   ],
   "id": "effe982fc3df1b1d",
   "outputs": [],
   "execution_count": 73
  },
  {
   "metadata": {
    "ExecuteTime": {
     "end_time": "2025-08-21T10:28:05.344354Z",
     "start_time": "2025-08-21T10:28:05.120516Z"
    }
   },
   "cell_type": "code",
   "source": [
    "### only select one image per category to play with metrics as a toy example\n",
    "#activations_normalized = {}\n",
    "for model in models:\n",
    "    activations[model] = activations[model][::nb_per_cat]\n",
    "    #activations_normalized[model] = activations[model].copy()\n",
    "    #activations_normalized[model]"
   ],
   "id": "94b9dfa0c4f09e51",
   "outputs": [],
   "execution_count": 74
  },
  {
   "metadata": {},
   "cell_type": "markdown",
   "source": "One thing I really want to check and understand is the supposed equivalance of linear CKA and RSA wth L2squared similarity (Cf. Williams, 2024)",
   "id": "ab8c36dc84f67f48"
  },
  {
   "metadata": {
    "ExecuteTime": {
     "end_time": "2025-08-21T13:36:27.275267Z",
     "start_time": "2025-08-21T13:36:26.066881Z"
    }
   },
   "cell_type": "code",
   "source": [
    "### Compute RDMs for several metrics\n",
    "RDMs = {}\n",
    "metrics = ['pearson', 'L2', 'L2squared', 'L2_normalize', 'L2squared_normalize']\n",
    "for i, model in enumerate(models):\n",
    "    RDMs[model] = {}\n",
    "    for m, metric in enumerate(metrics):\n",
    "        RDMs[model][metric] = rsa.compute_RDMs(activations[model], metric = metric, display = False, title = f'{model}_{metric}')"
   ],
   "id": "b6538f899c28e18c",
   "outputs": [],
   "execution_count": 124
  },
  {
   "metadata": {
    "ExecuteTime": {
     "end_time": "2025-08-21T13:06:08.415061Z",
     "start_time": "2025-08-21T13:06:08.374293Z"
    }
   },
   "cell_type": "code",
   "source": [
    "### Compute differences between the different RDMs\n",
    "for i, metric1 in enumerate(metrics[:-1]):\n",
    "    for j, metric2 in enumerate(metrics[i+1:]):\n",
    "        diff = list()\n",
    "        for model in models:\n",
    "            diff.append(np.absolute(RDMs[model][metric1] - RDMs[model][metric2]).mean())\n",
    "        print(f'{metric1} VS {metric2} is {[float(x) for x in diff]}')\n"
   ],
   "id": "be9ed9aeb1b1b275",
   "execution_count": 102,
   "outputs": [
    {
     "name": "stdout",
     "output_type": "stream",
     "text": [
      "pearson VS L2 is [32.50833648805175, 21.752096620230294, 19.497312252587925, 250.87047294874097, 29.655785706540296, 21.271819621948634]\n",
      "pearson VS L2squared is [1110.4616597742029, 503.07821215580566, 407.18682490978625, 64490.55313326643, 1005.4890152237215, 499.64711311789944]\n",
      "pearson VS L2_normalize is [0.4731603241367399, 0.494150933651756, 0.4934584030220974, 0.4396358181617593, 0.4387060263826232, 0.05448409969106015]\n",
      "pearson VS L2squared_normalize is [0.7469598066657239, 0.5762094870679715, 0.5928130206772492, 0.8981276256973455, 0.6550420013816447, 0.12124288074351242]\n",
      "L2 VS L2squared is [1077.953323286151, 481.3261155355754, 387.68951265719835, 64239.6826603177, 975.8332295171813, 478.3752934959509]\n",
      "L2 VS L2_normalize is [32.035176163915004, 21.257945686578534, 19.003853849565825, 250.43083713057916, 29.217079680157685, 21.237889837978376]\n",
      "L2 VS L2squared_normalize is [31.761376681386018, 21.175887133162323, 18.904499231910673, 249.97234532304358, 29.00074370515865, 21.38504396688154]\n",
      "L2squared VS L2_normalize is [1109.9884994500662, 502.584061222154, 406.69336650676405, 64490.11349744831, 1005.0503091973386, 499.61318333392927]\n",
      "L2squared VS L2squared_normalize is [1109.7146999675374, 502.50200266873753, 406.594011889109, 64489.65500564074, 1004.83397322234, 499.7603374628326]\n",
      "L2_normalize VS L2squared_normalize is [0.2738484038148662, 0.09155070672702148, 0.10536399882076446, 0.45856246746542134, 0.3310300962155185, 0.14814913484337133]\n"
     ]
    }
   ]
  },
  {
   "metadata": {},
   "cell_type": "markdown",
   "source": "In absolute values, we find vastly different RDMs. How about in terms of correlations?",
   "id": "197fb4a9fbb2a0c4"
  },
  {
   "metadata": {
    "ExecuteTime": {
     "end_time": "2025-08-21T13:04:58.424172Z",
     "start_time": "2025-08-21T13:04:58.256668Z"
    }
   },
   "cell_type": "code",
   "source": [
    "### Compute correlaions between the different RDMs\n",
    "for i, metric1 in enumerate(metrics[:-1]):\n",
    "    for j, metric2 in enumerate(metrics[i+1:]):\n",
    "        diff = list()\n",
    "        for model in models:\n",
    "            diff.append(np.round(np.corrcoef(RDMs[model][metric1].flatten(),RDMs[model][metric2].flatten())[0,1], 3))\n",
    "        print(f'{metric1} VS {metric2} is {[float(x) for x in diff]}')\n"
   ],
   "id": "983d5ec744546bd",
   "outputs": [
    {
     "name": "stdout",
     "output_type": "stream",
     "text": [
      "pearson VS L2 is [0.871, 0.893, 0.899, 0.212, 0.982, 0.567]\n",
      "pearson VS L2squared is [0.849, 0.876, 0.868, 0.13, 1.0, 0.494]\n",
      "pearson VS L2_normalize is [0.948, 0.963, 0.96, 0.952, 0.982, 0.862]\n",
      "pearson VS L2squared_normalize is [1.0, 1.0, 1.0, 1.0, 1.0, 0.846]\n",
      "L2 VS L2squared is [0.959, 0.977, 0.977, 0.984, 0.982, 0.976]\n",
      "L2 VS L2_normalize is [0.894, 0.891, 0.881, 0.28, 1.0, 0.599]\n",
      "L2 VS L2squared_normalize is [0.871, 0.893, 0.899, 0.212, 0.982, 0.588]\n",
      "L2squared VS L2_normalize is [0.787, 0.819, 0.796, 0.161, 0.982, 0.533]\n",
      "L2squared VS L2squared_normalize is [0.85, 0.876, 0.869, 0.13, 1.0, 0.546]\n",
      "L2_normalize VS L2squared_normalize is [0.948, 0.963, 0.96, 0.952, 0.982, 0.982]\n"
     ]
    }
   ],
   "execution_count": 100
  },
  {
   "metadata": {},
   "cell_type": "markdown",
   "source": [
    "We find that the RDMs found using the various metrics are all very correlated, except for the ResNet trained on Saycam (last model) --> thus an effect of architecture. What does that mean?\n",
    "\n",
    "The highest correlations are found for pearson and L2squared_normaized, showing they are almost perfectly equivalent!"
   ],
   "id": "6c7a40578810c431"
  },
  {
   "metadata": {
    "ExecuteTime": {
     "end_time": "2025-08-21T13:21:14.470407Z",
     "start_time": "2025-08-21T13:21:10.863664Z"
    }
   },
   "cell_type": "code",
   "source": [
    "### Compute similarities between models and metrics.\n",
    "sim_metrics = ['cosine', 'pearson'] # We only consider cosine and pearson as similarity metrics for now\n",
    "\n",
    "SIMs = {} # save all similarity values in a dictionary\n",
    "list_sim = {} # save all similarity values in a list to directly compare with CKA later\n",
    "for sm, sim_metric in enumerate(sim_metrics):\n",
    "    SIMs[sim_metric] = {}\n",
    "    list_sim[sim_metric] = {}\n",
    "    for m, metric in enumerate(metrics):\n",
    "        SIMs[sim_metric][metric] = {}\n",
    "        list_sim[sim_metric][metric] = list()\n",
    "        for i, model1 in enumerate(models[:-1]):\n",
    "            SIMs[sim_metric][metric][model1] = {}\n",
    "            for j, model2 in enumerate(models[i+1:]):\n",
    "                SIMs[sim_metric][metric][model1][model2] = float(np.round(rsa.Compute_sim_RDMs(RDMs[model1][metric], RDMs[model2][metric], center = True, metric = sim_metric), 3))\n",
    "                list_sim[sim_metric][metric].append(SIMs[sim_metric][metric][model1][model2])"
   ],
   "id": "cda06f72483a4123",
   "execution_count": 111,
   "outputs": []
  },
  {
   "metadata": {
    "ExecuteTime": {
     "end_time": "2025-08-21T13:19:22.366165Z",
     "start_time": "2025-08-21T13:19:20.509667Z"
    }
   },
   "cell_type": "code",
   "source": [
    "### Perform CKA on the activations\n",
    "CKA = {} # save all CKA values in a dictionary\n",
    "list_cka = list() # save all CKA values in a list to directly compare with similarities previously computed\n",
    "for i, model1 in enumerate(models[:-1]):\n",
    "    CKA[model1] = {}\n",
    "    for j, model2 in enumerate(models[i+1:]):\n",
    "        CKA[model1][model2] = float(np.round(cka.linear_CKA(activations[model1], activations[model2]), 3))\n",
    "        list_cka.append(CKA[model1][model2])"
   ],
   "id": "eeb4a228d0307a5a",
   "execution_count": 110,
   "outputs": []
  },
  {
   "metadata": {
    "ExecuteTime": {
     "end_time": "2025-08-21T13:31:47.352369Z",
     "start_time": "2025-08-21T13:31:47.347152Z"
    }
   },
   "cell_type": "code",
   "source": [
    "for sim_metric in sim_metrics:\n",
    "    for metric in metrics:\n",
    "        print(f'{sim_metric} {metric}')\n",
    "        print(np.corrcoef(np.array(list_sim[sim_metric][metric]), np.array(list_cka))[0,1])"
   ],
   "id": "cb6582a71ed41d7e",
   "outputs": [
    {
     "name": "stdout",
     "output_type": "stream",
     "text": [
      "cosine pearson\n",
      "0.9636555047137862\n",
      "cosine L2\n",
      "0.9668148899558918\n",
      "cosine L2squared\n",
      "0.9687370579151874\n",
      "cosine L2_normalize\n",
      "0.96215011651911\n",
      "cosine L2squared_normalize\n",
      "0.9635437111837866\n",
      "pearson pearson\n",
      "0.9634542377369398\n",
      "pearson L2\n",
      "0.9661662314053684\n",
      "pearson L2squared\n",
      "0.9687370579151874\n",
      "pearson L2_normalize\n",
      "0.9614215826299306\n",
      "pearson L2squared_normalize\n",
      "0.9633040736089267\n"
     ]
    }
   ],
   "execution_count": 121
  },
  {
   "metadata": {},
   "cell_type": "markdown",
   "source": [
    "It seems that, indepently of the various similarity measures used here, the resulting similarities are equivalently correlated with a linear CKA, around 0.96.\n",
    "\n",
    "We can look at other metrics, such as CCA and Procrustes"
   ],
   "id": "397b1a9dacefab73"
  },
  {
   "metadata": {
    "ExecuteTime": {
     "end_time": "2025-08-21T10:28:12.251899Z",
     "start_time": "2025-08-21T10:28:12.211584Z"
    }
   },
   "cell_type": "code",
   "source": [
    "### Run custom procrustes analysis\n",
    "#d, Z, T = procrustes(activations['saycam'], activations['ego'])\n",
    "### Run scipy procrustes analysis as a control\n",
    "#mtx1, mtx2, dsci = scipro(activations['saycam'], activations['ego'])\n",
    "#print([d, dsci])\n",
    "### --> Both algos agree with each other, and the disparity measures are pretty high (somewhat unexpectedly)"
   ],
   "id": "ff67dde734ec679c",
   "outputs": [],
   "execution_count": 82
  },
  {
   "metadata": {
    "ExecuteTime": {
     "end_time": "2025-08-21T10:28:12.497877Z",
     "start_time": "2025-08-21T10:28:12.495844Z"
    }
   },
   "cell_type": "code",
   "source": "",
   "id": "f2698f5e4b6c127e",
   "outputs": [],
   "execution_count": null
  }
 ],
 "metadata": {
  "kernelspec": {
   "display_name": "Python 3",
   "language": "python",
   "name": "python3"
  },
  "language_info": {
   "codemirror_mode": {
    "name": "ipython",
    "version": 2
   },
   "file_extension": ".py",
   "mimetype": "text/x-python",
   "name": "python",
   "nbconvert_exporter": "python",
   "pygments_lexer": "ipython2",
   "version": "2.7.6"
  }
 },
 "nbformat": 4,
 "nbformat_minor": 5
}
